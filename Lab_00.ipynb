{
  "nbformat": 4,
  "nbformat_minor": 0,
  "metadata": {
    "kernelspec": {
      "display_name": "Python [conda env:mie451-lab1]",
      "language": "python",
      "name": "conda-env-mie451-lab1-py"
    },
    "language_info": {
      "codemirror_mode": {
        "name": "ipython",
        "version": 3
      },
      "file_extension": ".py",
      "mimetype": "text/x-python",
      "name": "python",
      "nbconvert_exporter": "python",
      "pygments_lexer": "ipython3",
      "version": "3.6.6"
    },
    "colab": {
      "provenance": [],
      "toc_visible": true
    }
  },
  "cells": [
    {
      "cell_type": "markdown",
      "metadata": {
        "id": "mhwS6mgLJ_-t"
      },
      "source": [
        "# Lab 0: Jupyter and Basic Python"
      ]
    },
    {
      "cell_type": "markdown",
      "metadata": {
        "id": "_1H79_uOJ_-x"
      },
      "source": [
        "In this lab, you will load and perform a basic analysis of a text using python in a Jupyter interactive notebook.\n",
        "\n",
        "Follow the instruction and run the code cells. Make sure you understand what happens in every stage. <br>\n",
        "\n",
        "<b>Helpful Links:</b>\n",
        "\n",
        "  https://docs.scipy.org/doc/numpy/reference/\n",
        "  \n",
        "  https://docs.scipy.org/doc/scipy/reference/\n",
        "  \n",
        "  https://pandas.pydata.org/pandas-docs/stable/reference/index.html\n",
        "  \n",
        "  http://www.utc.fr/~jlaforet/Suppl/python-cheatsheets.pdf\n"
      ]
    },
    {
      "cell_type": "markdown",
      "source": [
        "## Working with Google Colab"
      ],
      "metadata": {
        "id": "na3C2xmV_DuZ"
      }
    },
    {
      "cell_type": "markdown",
      "source": [
        "### Code Cells"
      ],
      "metadata": {
        "id": "B85CAdLvC7mx"
      }
    },
    {
      "cell_type": "markdown",
      "source": [
        "Deleting, creating, editing, running and interupting code cells.\n",
        "Edit mode, command mode."
      ],
      "metadata": {
        "id": "1id7yY-AdolK"
      }
    },
    {
      "cell_type": "code",
      "execution_count": null,
      "metadata": {
        "colab": {
          "base_uri": "https://localhost:8080/"
        },
        "id": "SvsRVOrUB709",
        "outputId": "829c1ef9-6b54-46d4-ac14-6d9a51f80ea0"
      },
      "outputs": [
        {
          "output_type": "stream",
          "name": "stdout",
          "text": [
            "Hello World\n"
          ]
        }
      ],
      "source": [
        "print(\"Hello World\") #print to standard output"
      ]
    },
    {
      "cell_type": "code",
      "source": [
        "\"Hello World\" # output without printing"
      ],
      "metadata": {
        "colab": {
          "base_uri": "https://localhost:8080/",
          "height": 35
        },
        "id": "Yv2346dlDGvP",
        "outputId": "7b129dfb-d034-4bc6-aec6-54ae3a715ed8"
      },
      "execution_count": null,
      "outputs": [
        {
          "output_type": "execute_result",
          "data": {
            "text/plain": [
              "'Hello World'"
            ],
            "application/vnd.google.colaboratory.intrinsic+json": {
              "type": "string"
            }
          },
          "metadata": {},
          "execution_count": 12
        }
      ]
    },
    {
      "cell_type": "code",
      "source": [
        "my_list = [1, 2, 3, 4, 5]\n",
        "print(my_list)"
      ],
      "metadata": {
        "colab": {
          "base_uri": "https://localhost:8080/"
        },
        "id": "sePdonAuDayY",
        "outputId": "b36058a8-2a3a-4540-aa43-34137c794466"
      },
      "execution_count": null,
      "outputs": [
        {
          "output_type": "stream",
          "name": "stdout",
          "text": [
            "[1, 2, 3, 4, 5]\n"
          ]
        }
      ]
    },
    {
      "cell_type": "code",
      "source": [
        "my_list"
      ],
      "metadata": {
        "colab": {
          "base_uri": "https://localhost:8080/"
        },
        "id": "TUK894MnDfhK",
        "outputId": "6c9aeb40-5044-447c-b713-1557d052f347"
      },
      "execution_count": null,
      "outputs": [
        {
          "output_type": "execute_result",
          "data": {
            "text/plain": [
              "[1, 2, 3, 4, 5]"
            ]
          },
          "metadata": {},
          "execution_count": 4
        }
      ]
    },
    {
      "cell_type": "code",
      "source": [
        "\"Hello World\"\n",
        "my_list # only last line is outputed in a cell"
      ],
      "metadata": {
        "colab": {
          "base_uri": "https://localhost:8080/"
        },
        "id": "Ht9Ozrc_Dr9J",
        "outputId": "c0eea2e8-aae6-4887-9d54-aef55df2e4ee"
      },
      "execution_count": null,
      "outputs": [
        {
          "output_type": "execute_result",
          "data": {
            "text/plain": [
              "[1, 2, 3, 4, 5]"
            ]
          },
          "metadata": {},
          "execution_count": 5
        }
      ]
    },
    {
      "cell_type": "code",
      "source": [
        "# with print, we can show multiple outputs in a cell\n",
        "print(\"Hello World\")\n",
        "print(my_list)"
      ],
      "metadata": {
        "colab": {
          "base_uri": "https://localhost:8080/"
        },
        "id": "s2YLbZSiDlew",
        "outputId": "eb2ec4f8-2085-4292-f5db-d7f8c1986d5b"
      },
      "execution_count": null,
      "outputs": [
        {
          "output_type": "stream",
          "name": "stdout",
          "text": [
            "Hello World\n",
            "[1, 2, 3, 4, 5]\n"
          ]
        }
      ]
    },
    {
      "cell_type": "code",
      "source": [
        "\"Hello World\"\n",
        "my_list\n",
        "my_second_list = [6, 7, 8, 9, 10] # only last line is outputed. No output in this case."
      ],
      "metadata": {
        "id": "nU0oTheeD1Op"
      },
      "execution_count": null,
      "outputs": []
    },
    {
      "cell_type": "code",
      "source": [
        "my_second_list"
      ],
      "metadata": {
        "colab": {
          "base_uri": "https://localhost:8080/"
        },
        "id": "oo8_WakCEiCZ",
        "outputId": "b5d3c92a-94ed-4343-c1f0-8deda77885df"
      },
      "execution_count": null,
      "outputs": [
        {
          "output_type": "execute_result",
          "data": {
            "text/plain": [
              "[6, 7, 8, 9, 10]"
            ]
          },
          "metadata": {},
          "execution_count": 8
        }
      ]
    },
    {
      "cell_type": "code",
      "source": [
        "my_second_list; # surpressing output with semi-colons"
      ],
      "metadata": {
        "id": "SIaDVv7iD_0o"
      },
      "execution_count": null,
      "outputs": []
    },
    {
      "cell_type": "markdown",
      "source": [
        "### Markdown Cells"
      ],
      "metadata": {
        "id": "aGeg2WOdC_zR"
      }
    },
    {
      "cell_type": "markdown",
      "source": [
        "Hello, I am just annotating my notebook."
      ],
      "metadata": {
        "id": "amleNeuBEqHY"
      }
    },
    {
      "cell_type": "markdown",
      "source": [
        "Markdown is a popular markup language that is a superset of HTML."
      ],
      "metadata": {
        "id": "YTCPu2oGE4kq"
      }
    },
    {
      "cell_type": "markdown",
      "source": [
        "\"\\*\" was used to italize this: *I love Data Science*\n",
        "\n",
        "\"\\*\\*\" was used to bolden this: **I love Data Science**\n",
        "\n",
        "***Play around with Colab's markdown tools*** 😀.\n",
        "\n"
      ],
      "metadata": {
        "id": "BQ5nxR_TFJ9B"
      }
    },
    {
      "cell_type": "markdown",
      "metadata": {
        "id": "v-7BXBeqJ_-x"
      },
      "source": [
        "## Getting the data\n",
        "Following is a code snippet that download a file and save it locally. We will download the poem \"HOWL\" by Allen Ginsberg and save it locally to file named \"howl.txt\""
      ]
    },
    {
      "cell_type": "code",
      "metadata": {
        "id": "yb9dJjuRJ_-y"
      },
      "source": [
        "DOWNLOAD_URL = \"http://www.everyday-beat.org/ginsberg/poems/howl.txt\"\n",
        "SAVE_URL = \"howl.txt\"\n",
        "\n"
      ],
      "execution_count": null,
      "outputs": []
    },
    {
      "cell_type": "code",
      "metadata": {
        "id": "Gx3g5qneJ_-y"
      },
      "source": [
        "from urllib.request import urlopen\n",
        "\n",
        "downloadedText = urlopen(DOWNLOAD_URL).read().decode('utf-8')\n",
        "with open(SAVE_URL, \"w\") as file:\n",
        "    file.write(downloadedText)"
      ],
      "execution_count": null,
      "outputs": []
    },
    {
      "cell_type": "markdown",
      "metadata": {
        "id": "ubz3rPfpJ_-z"
      },
      "source": [
        "-----------\n",
        "## Loading the data\n",
        "* First we open the file using *open()*\n",
        "* **Make sure the file path is correct**"
      ]
    },
    {
      "cell_type": "code",
      "source": [
        "from google.colab import drive\n",
        "drive.mount('/content/drive')"
      ],
      "metadata": {
        "colab": {
          "base_uri": "https://localhost:8080/"
        },
        "id": "moJtOstMevvu",
        "outputId": "d2f9e3c8-8128-40f8-b1a6-2d8b40ba182c"
      },
      "execution_count": null,
      "outputs": [
        {
          "output_type": "stream",
          "name": "stdout",
          "text": [
            "Drive already mounted at /content/drive; to attempt to forcibly remount, call drive.mount(\"/content/drive\", force_remount=True).\n"
          ]
        }
      ]
    },
    {
      "cell_type": "code",
      "metadata": {
        "id": "84IjhFNAJ_-z"
      },
      "source": [
        "with open(\"howl.txt\", \"r\") as poemFile:\n",
        "    poemText = poemFile.read()\n"
      ],
      "execution_count": null,
      "outputs": []
    },
    {
      "cell_type": "markdown",
      "metadata": {
        "id": "tSp62ZzrJ_-0"
      },
      "source": [
        "----------\n",
        "## Review the data\n",
        "Lets print the first 500 character of the text"
      ]
    },
    {
      "cell_type": "code",
      "metadata": {
        "colab": {
          "base_uri": "https://localhost:8080/"
        },
        "id": "kW02Cjq0J_-0",
        "outputId": "22f69131-f93d-4b37-a5b3-c88ddab57920"
      },
      "source": [
        "print(poemText[0:500])"
      ],
      "execution_count": null,
      "outputs": [
        {
          "output_type": "stream",
          "name": "stdout",
          "text": [
            "\n",
            "                          HOWL\n",
            "\n",
            "                    For Carl Solomon \n",
            "\n",
            "                           I \n",
            "\n",
            "       I saw the best minds of my generation destroyed by \n",
            "              madness, starving hysterical naked, \n",
            "       dragging themselves through the negro streets at dawn \n",
            "              looking for an angry fix, \n",
            "       angelheaded hipsters burning for the ancient heavenly \n",
            "              connection to the starry dynamo in the machin- \n",
            "              ery of night, \n",
            "       who poverty and tatters \n"
          ]
        }
      ]
    },
    {
      "cell_type": "markdown",
      "metadata": {
        "id": "IHDTi0OSJ_-1"
      },
      "source": [
        "----------\n",
        "Now, lets print the beginning of the second section. It start at character 16692:"
      ]
    },
    {
      "cell_type": "code",
      "metadata": {
        "colab": {
          "base_uri": "https://localhost:8080/"
        },
        "id": "TInJe9PBJ_-1",
        "outputId": "851f016a-fd53-43b4-e427-274c65785e3a"
      },
      "source": [
        "print(poemText[16692:17500])"
      ],
      "execution_count": null,
      "outputs": [
        {
          "output_type": "stream",
          "name": "stdout",
          "text": [
            "                           II \n",
            "\n",
            "       What sphinx of cement and aluminum bashed open \n",
            "              their skulls and ate up their brains and imagi- \n",
            "              nation? \n",
            "       Moloch! Solitude! Filth! Ugliness! Ashcans and unob \n",
            "              tainable dollars! Children screaming under the \n",
            "              stairways! Boys sobbing in armies! Old men \n",
            "              weeping in the parks! \n",
            "       Moloch! Moloch! Nightmare of Moloch! Moloch the \n",
            "              loveless! Mental Moloch! Moloch the heavy \n",
            "              judger of men! \n",
            "       Moloch the incomprehensible prison! Moloch the \n",
            "              crossbone soulless jailhouse and Congress of \n",
            "              sorrows! Moloch whose buildings are judgment! \n",
            "              Moloch the vast stone of war! Moloch the stun- \n",
            "              ned governments! \n",
            "     \n"
          ]
        }
      ]
    },
    {
      "cell_type": "markdown",
      "metadata": {
        "id": "An188Rg7J_-1"
      },
      "source": [
        "---------\n",
        "## Counting the number of lines in the story\n",
        "We start by splitting the text to a list of lines using *splitlines()*"
      ]
    },
    {
      "cell_type": "code",
      "metadata": {
        "id": "p86tzYBrJ_-2"
      },
      "source": [
        "poemLines = poemText.splitlines()"
      ],
      "execution_count": null,
      "outputs": []
    },
    {
      "cell_type": "markdown",
      "metadata": {
        "id": "FwI5LYNSJ_-2"
      },
      "source": [
        "---------\n",
        "Now we print the first 10 lines:"
      ]
    },
    {
      "cell_type": "code",
      "metadata": {
        "colab": {
          "base_uri": "https://localhost:8080/"
        },
        "id": "bCB9hIC6J_-2",
        "outputId": "28c56847-32e0-44d5-823d-f56cd577349b"
      },
      "source": [
        "poemLines[0:10]"
      ],
      "execution_count": null,
      "outputs": [
        {
          "output_type": "execute_result",
          "data": {
            "text/plain": [
              "['',\n",
              " '                          HOWL',\n",
              " '',\n",
              " '                    For Carl Solomon ',\n",
              " '',\n",
              " '                           I ',\n",
              " '',\n",
              " '       I saw the best minds of my generation destroyed by ',\n",
              " '              madness, starving hysterical naked, ',\n",
              " '       dragging themselves through the negro streets at dawn ']"
            ]
          },
          "metadata": {},
          "execution_count": 27
        }
      ]
    },
    {
      "cell_type": "markdown",
      "metadata": {
        "id": "OI616Sf5J_-2"
      },
      "source": [
        "----------\n",
        "Last, we count the lines using *len()* method:"
      ]
    },
    {
      "cell_type": "code",
      "metadata": {
        "colab": {
          "base_uri": "https://localhost:8080/"
        },
        "id": "n2QUHkG2J_-3",
        "outputId": "44db83dd-3984-4d63-ebbd-521c08629731"
      },
      "source": [
        "print(\"The number of lines in the text is:\", len(poemLines))"
      ],
      "execution_count": null,
      "outputs": [
        {
          "output_type": "stream",
          "name": "stdout",
          "text": [
            "The number of lines in the text is: 445\n"
          ]
        }
      ]
    },
    {
      "cell_type": "markdown",
      "metadata": {
        "id": "fIedY2PuJ_-3"
      },
      "source": [
        "---------\n",
        "## Counting the number of words in the story\n",
        "We start by splitting the text to a list of words using *split()*"
      ]
    },
    {
      "cell_type": "code",
      "metadata": {
        "id": "bkEhhJ-6J_-3"
      },
      "source": [
        "poemWords = poemText.split()"
      ],
      "execution_count": null,
      "outputs": []
    },
    {
      "cell_type": "markdown",
      "metadata": {
        "id": "6vhtY_oqJ_-3"
      },
      "source": [
        "---------\n",
        "Now we print the first 10 words:"
      ]
    },
    {
      "cell_type": "code",
      "metadata": {
        "colab": {
          "base_uri": "https://localhost:8080/"
        },
        "id": "FJnweHdxJ_-3",
        "outputId": "e524db1e-96fc-4216-f95a-62d692c55f50"
      },
      "source": [
        "poemWords[:10]"
      ],
      "execution_count": null,
      "outputs": [
        {
          "output_type": "execute_result",
          "data": {
            "text/plain": [
              "['HOWL', 'For', 'Carl', 'Solomon', 'I', 'I', 'saw', 'the', 'best', 'minds']"
            ]
          },
          "metadata": {},
          "execution_count": 19
        }
      ]
    },
    {
      "cell_type": "markdown",
      "metadata": {
        "id": "niXCrjyGJ_-4"
      },
      "source": [
        "----------\n",
        "Last, we count the words using *len()* on the list of words:"
      ]
    },
    {
      "cell_type": "code",
      "metadata": {
        "colab": {
          "base_uri": "https://localhost:8080/"
        },
        "id": "V70to1X9J_-4",
        "outputId": "df1b9ee7-d68b-41ff-93f4-300d8a8c8581"
      },
      "source": [
        "print(\"The number of words in the text is:\", len(poemWords))"
      ],
      "execution_count": null,
      "outputs": [
        {
          "output_type": "stream",
          "name": "stdout",
          "text": [
            "The number of words in the text is: 2957\n"
          ]
        }
      ]
    },
    {
      "cell_type": "markdown",
      "metadata": {
        "id": "RxqaSzbJJ_-4"
      },
      "source": [
        "## Counting the number of occurrences of a word"
      ]
    },
    {
      "cell_type": "code",
      "metadata": {
        "id": "OzefrvrxJ_-4"
      },
      "source": [
        "# first, initalize a words counter to 0\n",
        "wordsCounter = 0\n",
        "\n",
        "# for every word in the list storyWords\n",
        "for word in poemWords:\n",
        "    # strip non-alphanumeric character, and convert to lower case\n",
        "    if word.strip(\"\"\" ,.*()[]!@#$%^&*{}?'`\"-\"\"\").lower() == \"who\":\n",
        "        wordsCounter += 1"
      ],
      "execution_count": null,
      "outputs": []
    },
    {
      "cell_type": "code",
      "metadata": {
        "colab": {
          "base_uri": "https://localhost:8080/"
        },
        "id": "_vKK_pNrJ_-4",
        "outputId": "a0f02d2a-2cd2-4b89-ad63-e3c03c18f09b"
      },
      "source": [
        "print(\"The number of occurrences of 'Who' is:\", wordsCounter)"
      ],
      "execution_count": null,
      "outputs": [
        {
          "output_type": "stream",
          "name": "stdout",
          "text": [
            "The number of occurrences of 'Who' is: 68\n"
          ]
        }
      ]
    },
    {
      "cell_type": "markdown",
      "metadata": {
        "id": "BcUH7D6gJ_-5"
      },
      "source": [
        "## Counting the number of lines starting with a word"
      ]
    },
    {
      "cell_type": "code",
      "metadata": {
        "id": "WlEbyLiyJ_-5"
      },
      "source": [
        "linesCounter = 0\n",
        "for line in poemLines:\n",
        "    if line.lower().strip().startswith(\"who\"):\n",
        "        linesCounter += 1"
      ],
      "execution_count": 28,
      "outputs": []
    },
    {
      "cell_type": "code",
      "metadata": {
        "colab": {
          "base_uri": "https://localhost:8080/"
        },
        "id": "DfpGwjr1J_-5",
        "outputId": "55ee8a7d-5a5c-4836-ccd6-04122693d8d9"
      },
      "source": [
        "print(\"The number of lines that start with the word 'Who' is:\", linesCounter)"
      ],
      "execution_count": null,
      "outputs": [
        {
          "output_type": "stream",
          "name": "stdout",
          "text": [
            "The number of lines that start with the word 'Who' is: 64\n"
          ]
        }
      ]
    },
    {
      "cell_type": "markdown",
      "metadata": {
        "id": "cnQfPggQJ_-5"
      },
      "source": [
        "## Counting the number of unique words"
      ]
    },
    {
      "cell_type": "code",
      "metadata": {
        "id": "W8Sftgz8J_-5"
      },
      "source": [
        "# remove non-alphanumeric characters and convert to lower case\n",
        "cleanWords = [word.strip(\"\"\" ,.*()[]!@#$%^&*{}?'`\"-\"\"\").lower()\n",
        "               for word in poemWords]"
      ],
      "execution_count": null,
      "outputs": []
    },
    {
      "cell_type": "code",
      "metadata": {
        "colab": {
          "base_uri": "https://localhost:8080/"
        },
        "id": "HTBd3UcBJ_-5",
        "outputId": "3efd49f4-74c5-4e41-e857-84a23bd82695"
      },
      "source": [
        "print(\"number of different words: \", len(list(set(cleanWords))))"
      ],
      "execution_count": null,
      "outputs": [
        {
          "output_type": "stream",
          "name": "stdout",
          "text": [
            "number of different words:  1318\n"
          ]
        }
      ]
    },
    {
      "cell_type": "markdown",
      "metadata": {
        "id": "XR3NwqLRJ_-6"
      },
      "source": [
        "## Using *Counter* collection\n",
        "We can use *Counter* to count the frequency of every item in a list."
      ]
    },
    {
      "cell_type": "code",
      "metadata": {
        "id": "LyXBOgIVJ_-6"
      },
      "source": [
        "from collections import Counter\n",
        "wordsCounter = Counter(cleanWords)"
      ],
      "execution_count": null,
      "outputs": []
    },
    {
      "cell_type": "markdown",
      "metadata": {
        "id": "2FAzYx-RJ_-6"
      },
      "source": [
        "---------\n",
        "What is the number of occurrences of the word 'Christmas'?"
      ]
    },
    {
      "cell_type": "code",
      "metadata": {
        "colab": {
          "base_uri": "https://localhost:8080/"
        },
        "id": "U5DalksvJ_-6",
        "outputId": "535bf905-85cf-485c-ee38-de94b963d1d7"
      },
      "source": [
        "wordsCounter[\"who\"]"
      ],
      "execution_count": null,
      "outputs": [
        {
          "output_type": "execute_result",
          "data": {
            "text/plain": [
              "68"
            ]
          },
          "metadata": {},
          "execution_count": 28
        }
      ]
    },
    {
      "cell_type": "markdown",
      "metadata": {
        "id": "3znOtdYdJ_-6"
      },
      "source": [
        "---------\n",
        "What are the 10 most common words?"
      ]
    },
    {
      "cell_type": "code",
      "metadata": {
        "colab": {
          "base_uri": "https://localhost:8080/"
        },
        "id": "A8tYEzL4J_-6",
        "outputId": "31c71ce7-dc9d-485a-a584-dc3b6692cb2d"
      },
      "source": [
        "wordsCounter.most_common(10)"
      ],
      "execution_count": null,
      "outputs": [
        {
          "output_type": "execute_result",
          "data": {
            "text/plain": [
              "[('the', 220),\n",
              " ('of', 139),\n",
              " ('and', 120),\n",
              " ('in', 111),\n",
              " ('who', 68),\n",
              " ('to', 58),\n",
              " ('with', 48),\n",
              " ('moloch', 39),\n",
              " ('a', 38),\n",
              " ('you', 32)]"
            ]
          },
          "metadata": {},
          "execution_count": 29
        }
      ]
    },
    {
      "cell_type": "markdown",
      "metadata": {
        "id": "PIt-GtNXJ_-7"
      },
      "source": [
        "-------\n",
        "## Finding a phrase in the text\n",
        "\n",
        "Let find the first occurrence of the phrase \"Canada\" in the text."
      ]
    },
    {
      "cell_type": "code",
      "metadata": {
        "colab": {
          "base_uri": "https://localhost:8080/"
        },
        "id": "PtqnJU1IJ_-7",
        "outputId": "01066638-b682-4a66-f159-7c633588a8cf"
      },
      "source": [
        "poemText.find(\"Canada\")"
      ],
      "execution_count": null,
      "outputs": [
        {
          "output_type": "execute_result",
          "data": {
            "text/plain": [
              "1845"
            ]
          },
          "metadata": {},
          "execution_count": 30
        }
      ]
    },
    {
      "cell_type": "markdown",
      "metadata": {
        "id": "_Wy5KeCDJ_-7"
      },
      "source": [
        "-------\n",
        "Lets examine the text around this position"
      ]
    },
    {
      "cell_type": "code",
      "metadata": {
        "colab": {
          "base_uri": "https://localhost:8080/"
        },
        "id": "K7U-7xvxJ_-7",
        "outputId": "f79344c0-9fc8-48fd-97f1-f4a90a63e220"
      },
      "source": [
        "print(poemText[1800:1900])"
      ],
      "execution_count": null,
      "outputs": [
        {
          "output_type": "stream",
          "name": "stdout",
          "text": [
            " mind leaping toward poles of \n",
            "              Canada & Paterson, illuminating all the mo- \n",
            "          \n"
          ]
        }
      ]
    },
    {
      "cell_type": "markdown",
      "metadata": {
        "id": "N8I7q8h-LOsW"
      },
      "source": [
        "## List\n",
        "\n"
      ]
    },
    {
      "cell_type": "markdown",
      "metadata": {
        "id": "xAs9F-NJLT3I"
      },
      "source": [
        "A list is a collection which is ***ordered*** and ***mutable(changeable)***.\n",
        "\n",
        "In Python lists are written with square brackets []."
      ]
    },
    {
      "cell_type": "code",
      "metadata": {
        "id": "vXNTpJAWLQ3n",
        "colab": {
          "base_uri": "https://localhost:8080/"
        },
        "outputId": "86a73a5c-664b-4780-ff59-b9b98aaa9369"
      },
      "source": [
        "greetingsList = [\"Hello\",\"Hi\",\"How are you?\"]\n",
        "#Change value of a specific index\n",
        "greetingsList[1] = \"What's up?\"\n",
        "#When printing a range, the first value is included, the second value is excluded\n",
        "print(greetingsList[0:2])"
      ],
      "execution_count": null,
      "outputs": [
        {
          "output_type": "stream",
          "name": "stdout",
          "text": [
            "['Hello', \"What's up?\"]\n"
          ]
        }
      ]
    },
    {
      "cell_type": "code",
      "metadata": {
        "id": "8wwFiEMXLWnL",
        "colab": {
          "base_uri": "https://localhost:8080/"
        },
        "outputId": "8074c7a0-0fa3-4c4e-ee58-7a3f735a7ee3"
      },
      "source": [
        "#Append item to end of list\n",
        "greetingsList.append(\"Hey\")\n",
        "#Insert item at specified index\n",
        "greetingsList.insert(2, \"Yo\")\n",
        "print(greetingsList)"
      ],
      "execution_count": null,
      "outputs": [
        {
          "output_type": "stream",
          "name": "stdout",
          "text": [
            "['Hello', \"What's up?\", 'Yo', 'How are you?', 'Hey']\n"
          ]
        }
      ]
    },
    {
      "cell_type": "markdown",
      "metadata": {
        "id": "pXjM_vbnLdz8"
      },
      "source": [
        "You can sort a list by calling sort()"
      ]
    },
    {
      "cell_type": "code",
      "metadata": {
        "id": "K6RZdypMLfIJ",
        "colab": {
          "base_uri": "https://localhost:8080/"
        },
        "outputId": "bc2ab64b-534c-4e9b-ac39-bf3ba89588ec"
      },
      "source": [
        "greetingsList.sort()\n",
        "print(greetingsList)"
      ],
      "execution_count": null,
      "outputs": [
        {
          "output_type": "stream",
          "name": "stdout",
          "text": [
            "['Hello', 'Hey', 'How are you?', \"What's up?\", 'Yo']\n"
          ]
        }
      ]
    },
    {
      "cell_type": "markdown",
      "metadata": {
        "id": "6KNNiVHZLjH8"
      },
      "source": [
        "Sort a list with numerical values"
      ]
    },
    {
      "cell_type": "code",
      "metadata": {
        "id": "32MnnztaLgjn",
        "colab": {
          "base_uri": "https://localhost:8080/"
        },
        "outputId": "8967abd1-e413-4c7a-9935-9cd3ba37fab0"
      },
      "source": [
        "nums = [3,2,4,5,1]\n",
        "nums.sort()\n",
        "nums"
      ],
      "execution_count": null,
      "outputs": [
        {
          "output_type": "execute_result",
          "data": {
            "text/plain": [
              "[1, 2, 3, 4, 5]"
            ]
          },
          "metadata": {},
          "execution_count": 35
        }
      ]
    },
    {
      "cell_type": "markdown",
      "metadata": {
        "id": "EXc6rWtcLmZs"
      },
      "source": [
        "Removing items from a list"
      ]
    },
    {
      "cell_type": "code",
      "metadata": {
        "id": "9XenfWH4Lmvs",
        "colab": {
          "base_uri": "https://localhost:8080/"
        },
        "outputId": "80062b19-9d86-4893-be74-842810f99d97"
      },
      "source": [
        "#Remove item from list by index\n",
        "del greetingsList[2]\n",
        "\n",
        "print(greetingsList)\n",
        "print(greetingsList[2])"
      ],
      "execution_count": null,
      "outputs": [
        {
          "output_type": "stream",
          "name": "stdout",
          "text": [
            "['Hello', 'Hey', \"What's up?\", 'Yo']\n",
            "What's up?\n"
          ]
        }
      ]
    },
    {
      "cell_type": "code",
      "metadata": {
        "id": "peHbyRQULpIV",
        "colab": {
          "base_uri": "https://localhost:8080/"
        },
        "outputId": "3b3ee7e7-ec6b-407d-a0ea-0757060ca983"
      },
      "source": [
        "#Remove item from list by value\n",
        "greetingsList.remove(\"Hello\")\n",
        "\n",
        "print(greetingsList)"
      ],
      "execution_count": null,
      "outputs": [
        {
          "output_type": "stream",
          "name": "stdout",
          "text": [
            "['Hey', \"What's up?\", 'Yo']\n"
          ]
        }
      ]
    },
    {
      "cell_type": "markdown",
      "metadata": {
        "id": "sd_MH5uvLsew"
      },
      "source": [
        "Merging 2 lists using list1+list2"
      ]
    },
    {
      "cell_type": "code",
      "metadata": {
        "id": "akNqI4K-Ls5P",
        "colab": {
          "base_uri": "https://localhost:8080/"
        },
        "outputId": "52442240-828c-41a2-f7a8-e0600fd1feb3"
      },
      "source": [
        "#Join two lists\n",
        "foreignGreetingsList = [\"Bonjour\",\"Ciao\"]\n",
        "moreGreetings = greetingsList + foreignGreetingsList\n",
        "print(moreGreetings)"
      ],
      "execution_count": null,
      "outputs": [
        {
          "output_type": "stream",
          "name": "stdout",
          "text": [
            "['Hey', \"What's up?\", 'Yo', 'Bonjour', 'Ciao']\n"
          ]
        }
      ]
    },
    {
      "cell_type": "markdown",
      "metadata": {
        "id": "TN6dj3PgLvv6"
      },
      "source": [
        "Alternatively, call list1.extend(list2)"
      ]
    },
    {
      "cell_type": "code",
      "metadata": {
        "id": "cTtgDub0LwHd",
        "colab": {
          "base_uri": "https://localhost:8080/"
        },
        "outputId": "1c39cb2b-64ef-4b7a-e6db-113c87104ddd"
      },
      "source": [
        "greetingsList.extend(foreignGreetingsList)\n",
        "print(greetingsList)"
      ],
      "execution_count": null,
      "outputs": [
        {
          "output_type": "stream",
          "name": "stdout",
          "text": [
            "['Hey', \"What's up?\", 'Yo', 'Bonjour', 'Ciao']\n"
          ]
        }
      ]
    },
    {
      "cell_type": "markdown",
      "metadata": {
        "id": "abydTe-6LykI"
      },
      "source": [
        "Make a copy of the list"
      ]
    },
    {
      "cell_type": "code",
      "metadata": {
        "id": "hABsKg8tLy_v",
        "colab": {
          "base_uri": "https://localhost:8080/"
        },
        "outputId": "11cbf26b-f4ab-42c3-ca2e-d06574b9b226"
      },
      "source": [
        "#Make a copy of a list - wrong way\n",
        "moreGreetingsCopy = moreGreetings\n",
        "moreGreetingsCopy[0] = \"Hola\"\n",
        "print(moreGreetingsCopy[0] +' '+ moreGreetings[0])"
      ],
      "execution_count": null,
      "outputs": [
        {
          "output_type": "stream",
          "name": "stdout",
          "text": [
            "Hola Hola\n"
          ]
        }
      ]
    },
    {
      "cell_type": "code",
      "metadata": {
        "id": "e4CgwwLvL0-E",
        "colab": {
          "base_uri": "https://localhost:8080/"
        },
        "outputId": "935040ff-ede5-4d5a-fea4-baa2cddd4733"
      },
      "source": [
        "#Make a copy of a list - right way\n",
        "moreGreetings = ['Hey', \"What's up?\", 'Yo', 'Bonjour', 'Ciao']\n",
        "moreGreetingsCopy = moreGreetings.copy()\n",
        "moreGreetingsCopy[0] = \"Hola\"\n",
        "print(moreGreetingsCopy[0] +' '+ moreGreetings[0])"
      ],
      "execution_count": null,
      "outputs": [
        {
          "output_type": "stream",
          "name": "stdout",
          "text": [
            "Hola Hey\n"
          ]
        }
      ]
    },
    {
      "cell_type": "markdown",
      "metadata": {
        "id": "gdjLg9t5L6OT"
      },
      "source": [
        "### List comprehensions"
      ]
    },
    {
      "cell_type": "code",
      "metadata": {
        "colab": {
          "base_uri": "https://localhost:8080/"
        },
        "id": "lgugEPT7L6lE",
        "outputId": "7f58ae4d-c0d8-451f-90e4-1df52635125d"
      },
      "source": [
        "#easier to read than map, not lazily evaluated. outputs a list\n",
        "[num**2 for num in range(1,6)]"
      ],
      "execution_count": null,
      "outputs": [
        {
          "output_type": "execute_result",
          "data": {
            "text/plain": [
              "[1, 4, 9, 16, 25]"
            ]
          },
          "metadata": {},
          "execution_count": 42
        }
      ]
    },
    {
      "cell_type": "code",
      "metadata": {
        "colab": {
          "base_uri": "https://localhost:8080/"
        },
        "id": "9m0ljVwvL73x",
        "outputId": "f6477375-8584-407a-afa9-8c4210acf2a5"
      },
      "source": [
        "[num**2 for num in range(1,6) if num % 2 != 0]"
      ],
      "execution_count": null,
      "outputs": [
        {
          "output_type": "execute_result",
          "data": {
            "text/plain": [
              "[1, 9, 25]"
            ]
          },
          "metadata": {},
          "execution_count": 43
        }
      ]
    },
    {
      "cell_type": "code",
      "metadata": {
        "colab": {
          "base_uri": "https://localhost:8080/"
        },
        "id": "Pctw3GjRL84Q",
        "outputId": "ac3ad4c5-516d-49b1-d3e0-31d2f4a5bd48"
      },
      "source": [
        "[num**2 if (num % 2 != 0) else 0 for num in range(1,6)]"
      ],
      "execution_count": null,
      "outputs": [
        {
          "output_type": "execute_result",
          "data": {
            "text/plain": [
              "[1, 0, 9, 0, 25]"
            ]
          },
          "metadata": {},
          "execution_count": 44
        }
      ]
    },
    {
      "cell_type": "markdown",
      "metadata": {
        "id": "o21iLdZZMBce"
      },
      "source": [
        "***Exercise:***\n",
        "\n",
        "Using list comprehensions, write a code that takes a list of names and returns a list of \"Hello *name*\" for each *name* that has more than 6 characters.\n"
      ]
    },
    {
      "cell_type": "code",
      "metadata": {
        "id": "283a8QrrL_Bf",
        "colab": {
          "base_uri": "https://localhost:8080/"
        },
        "outputId": "974c932d-ed95-4dbb-b9cc-10cf6262f8e6"
      },
      "source": [
        "names = [\"name1\", \"longname2\", \"verylongname3\", \"name4\", \"longlonglong5\"]\n",
        "#Desired output : ['Hello longname2', 'Hello verylongname3', 'Hello longlonglong5']\n",
        "\n",
        "#Write your code here\n",
        "[\"Hello \" + name for name in names if len(name) > 6 ]"
      ],
      "execution_count": 31,
      "outputs": [
        {
          "output_type": "execute_result",
          "data": {
            "text/plain": [
              "['Hello longname2', 'Hello verylongname3', 'Hello longlonglong5']"
            ]
          },
          "metadata": {},
          "execution_count": 31
        }
      ]
    },
    {
      "cell_type": "markdown",
      "metadata": {
        "id": "BH9ueqMxMHCi"
      },
      "source": [
        "## Tuple"
      ]
    },
    {
      "cell_type": "markdown",
      "metadata": {
        "id": "7PIjr1ycMRB2"
      },
      "source": [
        "A tuple is a collection which is ***ordered*** and ***immutable(unchangeable)***. Can't append or remove elements from a tuple like you can with a list.\n",
        "\n",
        "In Python tuples are written with round brackets ().\n"
      ]
    },
    {
      "cell_type": "code",
      "metadata": {
        "colab": {
          "base_uri": "https://localhost:8080/"
        },
        "id": "PEZIwMz8MFZn",
        "outputId": "16ef0916-372f-404f-b9f0-be1da20a5a50"
      },
      "source": [
        "TA_tuple = ('Jolomi','Joe', 'Wenhao', 'Esmat', 'George')\n",
        "print(TA_tuple)"
      ],
      "execution_count": null,
      "outputs": [
        {
          "output_type": "stream",
          "name": "stdout",
          "text": [
            "('Jolomi', 'Joe', 'Wenhao', 'Esmat', 'George')\n"
          ]
        }
      ]
    },
    {
      "cell_type": "markdown",
      "metadata": {
        "id": "DJ7EgrIZMVNi"
      },
      "source": [
        "***Ordered***: you can access tuple elements by indexing."
      ]
    },
    {
      "cell_type": "code",
      "metadata": {
        "colab": {
          "base_uri": "https://localhost:8080/",
          "height": 36
        },
        "id": "kkLT3pv9MTpJ",
        "outputId": "6161d027-f84f-4ee0-be93-f857966c5305"
      },
      "source": [
        "TA_tuple[0]"
      ],
      "execution_count": null,
      "outputs": [
        {
          "output_type": "execute_result",
          "data": {
            "text/plain": [
              "'Jolomi'"
            ],
            "application/vnd.google.colaboratory.intrinsic+json": {
              "type": "string"
            }
          },
          "metadata": {},
          "execution_count": 47
        }
      ]
    },
    {
      "cell_type": "code",
      "metadata": {
        "colab": {
          "base_uri": "https://localhost:8080/",
          "height": 36
        },
        "id": "aaNbnqFXMXbv",
        "outputId": "c6e0a1a4-55dd-4f8f-d367-0d4944313466"
      },
      "source": [
        "#Negative indexing, last item in tuple has index -1\n",
        "TA_tuple[-1]"
      ],
      "execution_count": null,
      "outputs": [
        {
          "output_type": "execute_result",
          "data": {
            "text/plain": [
              "'George'"
            ],
            "application/vnd.google.colaboratory.intrinsic+json": {
              "type": "string"
            }
          },
          "metadata": {},
          "execution_count": 48
        }
      ]
    },
    {
      "cell_type": "markdown",
      "metadata": {
        "id": "H9LQ3DDBMalN"
      },
      "source": [
        "***Immutable***: You can not modify an existing elements in a tuple or append to it."
      ]
    },
    {
      "cell_type": "code",
      "metadata": {
        "id": "Gmpo8Y4YMYX2"
      },
      "source": [
        "# This will throw an error\n",
        "# TA_tuple[0] = 'Emma'"
      ],
      "execution_count": null,
      "outputs": []
    },
    {
      "cell_type": "markdown",
      "metadata": {
        "id": "cLphZSX0MdQO"
      },
      "source": [
        "Iterate through a tuple"
      ]
    },
    {
      "cell_type": "code",
      "metadata": {
        "colab": {
          "base_uri": "https://localhost:8080/"
        },
        "id": "sJI3QWvXMb8O",
        "outputId": "38a44401-5526-46b8-8845-2025a3612bf2"
      },
      "source": [
        "for TA in TA_tuple:\n",
        "  print(TA)"
      ],
      "execution_count": null,
      "outputs": [
        {
          "output_type": "stream",
          "name": "stdout",
          "text": [
            "Jolomi\n",
            "Joe\n",
            "Wenhao\n",
            "Esmat\n",
            "George\n"
          ]
        }
      ]
    },
    {
      "cell_type": "code",
      "metadata": {
        "colab": {
          "base_uri": "https://localhost:8080/"
        },
        "id": "FbdC-cYQMfuj",
        "outputId": "bd76076b-08aa-4514-8de6-f2a39b45aeb7"
      },
      "source": [
        "print(len(TA_tuple))"
      ],
      "execution_count": null,
      "outputs": [
        {
          "output_type": "stream",
          "name": "stdout",
          "text": [
            "5\n"
          ]
        }
      ]
    },
    {
      "cell_type": "markdown",
      "metadata": {
        "id": "6CL-7hU6Mi3X"
      },
      "source": [
        "You can cast a tuple to a list by using list(tuple)"
      ]
    },
    {
      "cell_type": "code",
      "metadata": {
        "colab": {
          "base_uri": "https://localhost:8080/"
        },
        "id": "fht6-AkdMhQb",
        "outputId": "ab526726-a694-4dfd-88fc-83606f5da457"
      },
      "source": [
        "TA_list = list(TA_tuple)\n",
        "print(TA_list)"
      ],
      "execution_count": null,
      "outputs": [
        {
          "output_type": "stream",
          "name": "stdout",
          "text": [
            "['Jolomi', 'Joe', 'Wenhao', 'Esmat', 'George']\n"
          ]
        }
      ]
    },
    {
      "cell_type": "markdown",
      "metadata": {
        "id": "YpaMwha6MliJ"
      },
      "source": [
        "## Set"
      ]
    },
    {
      "cell_type": "markdown",
      "metadata": {
        "id": "GB3JRIIaMmT_"
      },
      "source": [
        "A set is a collection which is ***unordered*** and ***mutable(changable)***. It ***cannot*** have duplicate values.\n",
        "\n",
        "In Python sets are written with curly brackets {}."
      ]
    },
    {
      "cell_type": "code",
      "metadata": {
        "colab": {
          "base_uri": "https://localhost:8080/"
        },
        "id": "M6S62467MkR2",
        "outputId": "c2c689da-7bd6-44a4-ad67-f5c5b4f10fcb"
      },
      "source": [
        "petSet = {\"Dog\",\"Cat\",\"Dog\",\"Fish\"}\n",
        "for x in petSet:\n",
        "  print(x)"
      ],
      "execution_count": null,
      "outputs": [
        {
          "output_type": "stream",
          "name": "stdout",
          "text": [
            "Cat\n",
            "Dog\n",
            "Fish\n"
          ]
        }
      ]
    },
    {
      "cell_type": "markdown",
      "metadata": {
        "id": "c11RBJbeMsNd"
      },
      "source": [
        "***Unordered***: You can not access elements inside a set by indexing."
      ]
    },
    {
      "cell_type": "code",
      "metadata": {
        "id": "ERg8Gff-MqOr"
      },
      "source": [
        "#this throws an error\n",
        "# petSet[0]"
      ],
      "execution_count": null,
      "outputs": []
    },
    {
      "cell_type": "markdown",
      "metadata": {
        "id": "7uHajk1QMvoJ"
      },
      "source": [
        "***Mutable***: You can add or remove items in a set after creation"
      ]
    },
    {
      "cell_type": "code",
      "metadata": {
        "colab": {
          "base_uri": "https://localhost:8080/"
        },
        "id": "SQKS0VYgMtrK",
        "outputId": "c62114f5-50d5-4d16-bb1d-e5c75abccc49"
      },
      "source": [
        "# Once a set is created, you cannot change its items , but you can add or remove new items.\n",
        "petSet.add(\"Bird\")\n",
        "petSet.remove(\"Fish\")\n",
        "print(petSet)"
      ],
      "execution_count": null,
      "outputs": [
        {
          "output_type": "stream",
          "name": "stdout",
          "text": [
            "{'Cat', 'Dog', 'Bird'}\n"
          ]
        }
      ]
    },
    {
      "cell_type": "code",
      "metadata": {
        "colab": {
          "base_uri": "https://localhost:8080/"
        },
        "id": "9ATHt3m3Mw7-",
        "outputId": "af8d85fe-cc52-479f-99db-b200fc42d4fb"
      },
      "source": [
        "#Check if set contains a value\n",
        "x = \"Hamster\"\n",
        "if x in petSet:\n",
        "  print(x + \" in petSet\")\n",
        "else:\n",
        "  print(x + \" not in petSet\")"
      ],
      "execution_count": null,
      "outputs": [
        {
          "output_type": "stream",
          "name": "stdout",
          "text": [
            "Hamster not in petSet\n"
          ]
        }
      ]
    },
    {
      "cell_type": "markdown",
      "metadata": {
        "id": "87wNQV3OM0Rf"
      },
      "source": [
        "Clear the content in a set (to get an empty set)"
      ]
    },
    {
      "cell_type": "code",
      "metadata": {
        "colab": {
          "base_uri": "https://localhost:8080/"
        },
        "id": "-bdxNaHQMyR4",
        "outputId": "22b591e1-84c5-4202-f8b1-8268d9e17f45"
      },
      "source": [
        "#Clear a set\n",
        "petSet.clear()\n",
        "print(petSet)"
      ],
      "execution_count": null,
      "outputs": [
        {
          "output_type": "stream",
          "name": "stdout",
          "text": [
            "set()\n"
          ]
        }
      ]
    },
    {
      "cell_type": "markdown",
      "metadata": {
        "id": "qVSmrNwuM3eJ"
      },
      "source": [
        "Delete the set (frees up the memory)"
      ]
    },
    {
      "cell_type": "code",
      "metadata": {
        "id": "mPE84lYNM2D7"
      },
      "source": [
        "#delete a set\n",
        "del petSet\n",
        "#print(petSet)"
      ],
      "execution_count": null,
      "outputs": []
    },
    {
      "cell_type": "markdown",
      "metadata": {
        "id": "iSkqPy3_M6Gn"
      },
      "source": [
        "You can cast a set to a list"
      ]
    },
    {
      "cell_type": "code",
      "metadata": {
        "colab": {
          "base_uri": "https://localhost:8080/"
        },
        "id": "x99jVJCTM41R",
        "outputId": "1c8adc2c-833a-47e7-bddd-b1561d5c8e06"
      },
      "source": [
        "petList = list({'Fish','Cat','Dog'})\n",
        "print(petList)"
      ],
      "execution_count": null,
      "outputs": [
        {
          "output_type": "stream",
          "name": "stdout",
          "text": [
            "['Cat', 'Dog', 'Fish']\n"
          ]
        }
      ]
    },
    {
      "cell_type": "markdown",
      "metadata": {
        "id": "xNNVWO8cM871"
      },
      "source": [
        "## Dictionary"
      ]
    },
    {
      "cell_type": "markdown",
      "metadata": {
        "id": "pPWxaRtvNF1a"
      },
      "source": [
        "A dictionary is a collection of **key-value pairs** which is ***unordered***, ***mutable(changeable)*** and ***indexed***.\n",
        "\n",
        "Dictionaries can't have duplicate keys.\n",
        "\n",
        "In Python dictionaries are written with curly brackets {key:value}."
      ]
    },
    {
      "cell_type": "code",
      "metadata": {
        "colab": {
          "base_uri": "https://localhost:8080/"
        },
        "id": "r66Ji08LM7RY",
        "outputId": "d5f44764-31b5-446f-db87-29f932d40935"
      },
      "source": [
        "#initialize blank dictionary\n",
        "someDict = {}\n",
        "#initialize dictionary with two key-value pairs\n",
        "someDict = {'university':'UofT', 'course':'MIE223'}\n",
        "print(someDict)"
      ],
      "execution_count": null,
      "outputs": [
        {
          "output_type": "stream",
          "name": "stdout",
          "text": [
            "{'university': 'UofT', 'course': 'MIE223'}\n"
          ]
        }
      ]
    },
    {
      "cell_type": "markdown",
      "metadata": {
        "id": "m4k-Cut6NI03"
      },
      "source": [
        "***Unordered***"
      ]
    },
    {
      "cell_type": "code",
      "metadata": {
        "colab": {
          "base_uri": "https://localhost:8080/"
        },
        "id": "hsuIprd9NHjr",
        "outputId": "1544873a-e2c3-4ea3-dfe7-c9b94a7d9a70"
      },
      "source": [
        "someDict1 = {'course':'MIE223', 'university':'UofT'}\n",
        "print(someDict1 == someDict)"
      ],
      "execution_count": null,
      "outputs": [
        {
          "output_type": "stream",
          "name": "stdout",
          "text": [
            "True\n"
          ]
        }
      ]
    },
    {
      "cell_type": "markdown",
      "metadata": {
        "id": "fkVFfPfqNNEa"
      },
      "source": [
        "***Indexed***: you can access a value of by indexing the key"
      ]
    },
    {
      "cell_type": "code",
      "metadata": {
        "colab": {
          "base_uri": "https://localhost:8080/"
        },
        "id": "dckxF8_GNLo9",
        "outputId": "50b5e027-50d5-4a52-e528-d866db43e4c5"
      },
      "source": [
        "print(someDict['university'])"
      ],
      "execution_count": null,
      "outputs": [
        {
          "output_type": "stream",
          "name": "stdout",
          "text": [
            "UofT\n"
          ]
        }
      ]
    },
    {
      "cell_type": "markdown",
      "metadata": {
        "id": "dYvP9G1_NQ8a"
      },
      "source": [
        "***Mutable***: You can add/remove key-value pairs after creation. You can also change values for keys."
      ]
    },
    {
      "cell_type": "code",
      "metadata": {
        "colab": {
          "base_uri": "https://localhost:8080/"
        },
        "id": "LSiZDkjmNO9o",
        "outputId": "ae27bb16-5008-42ea-94d3-3ce3f349d0e8"
      },
      "source": [
        "someDict['year']='2023'\n",
        "print(someDict)"
      ],
      "execution_count": null,
      "outputs": [
        {
          "output_type": "stream",
          "name": "stdout",
          "text": [
            "{'university': 'UofT', 'course': 'MIE223', 'year': '2023'}\n"
          ]
        }
      ]
    },
    {
      "cell_type": "code",
      "metadata": {
        "colab": {
          "base_uri": "https://localhost:8080/"
        },
        "id": "kLf25LPDNSUu",
        "outputId": "a8e27373-e087-46ad-b8ce-548bf41bc80b"
      },
      "source": [
        "someDict['year']='2024'\n",
        "print(someDict)"
      ],
      "execution_count": null,
      "outputs": [
        {
          "output_type": "stream",
          "name": "stdout",
          "text": [
            "{'university': 'UofT', 'course': 'MIE223', 'year': '2024'}\n"
          ]
        }
      ]
    },
    {
      "cell_type": "code",
      "metadata": {
        "colab": {
          "base_uri": "https://localhost:8080/"
        },
        "id": "PH4miuJFNTeu",
        "outputId": "5631b0b5-4498-4858-cbe1-72ab5cad05d6"
      },
      "source": [
        "del someDict['year']\n",
        "print(someDict)"
      ],
      "execution_count": null,
      "outputs": [
        {
          "output_type": "stream",
          "name": "stdout",
          "text": [
            "{'university': 'UofT', 'course': 'MIE223'}\n"
          ]
        }
      ]
    },
    {
      "cell_type": "markdown",
      "metadata": {
        "id": "nZVjf1xrNYlV"
      },
      "source": [
        "Iterate through a dictionary"
      ]
    },
    {
      "cell_type": "code",
      "metadata": {
        "colab": {
          "base_uri": "https://localhost:8080/"
        },
        "id": "V4WzNWrgNUgj",
        "outputId": "2fce0510-8822-4f32-a0a7-b95b314ccec1"
      },
      "source": [
        "#Iterate through the dictionary keys and print each one\n",
        "for x in someDict.keys():\n",
        "  print(x)"
      ],
      "execution_count": null,
      "outputs": [
        {
          "output_type": "stream",
          "name": "stdout",
          "text": [
            "university\n",
            "course\n"
          ]
        }
      ]
    },
    {
      "cell_type": "code",
      "metadata": {
        "colab": {
          "base_uri": "https://localhost:8080/"
        },
        "id": "Qw9BXgi5NZuj",
        "outputId": "27ec10c5-c76c-4191-a5d0-813b8c5711a3"
      },
      "source": [
        "#Iterate through the dictionary values and print each one\n",
        "for x in someDict.values():\n",
        "  print(x)"
      ],
      "execution_count": null,
      "outputs": [
        {
          "output_type": "stream",
          "name": "stdout",
          "text": [
            "UofT\n",
            "MIE223\n"
          ]
        }
      ]
    },
    {
      "cell_type": "code",
      "metadata": {
        "colab": {
          "base_uri": "https://localhost:8080/"
        },
        "id": "HiuLq6lONaqm",
        "outputId": "5bedb344-ac9d-432d-d256-a3c58dc7162c"
      },
      "source": [
        "#Iterate through the dictionary key-value pairs\n",
        "for key, value in someDict.items():\n",
        "  print('{}:{}'.format(key,value))"
      ],
      "execution_count": null,
      "outputs": [
        {
          "output_type": "stream",
          "name": "stdout",
          "text": [
            "university:UofT\n",
            "course:MIE223\n"
          ]
        }
      ]
    },
    {
      "cell_type": "code",
      "metadata": {
        "colab": {
          "base_uri": "https://localhost:8080/"
        },
        "id": "XlIa0v-VNcLq",
        "outputId": "cacec20d-ed3b-45f2-98c7-cdcaf4a8371f"
      },
      "source": [
        "#Check if key exists in dictionary, using keyword 'in'\n",
        "search_keys = ['course', 'professor']\n",
        "for k in search_keys:\n",
        "  if k in someDict:\n",
        "    print(\"\"\"key \"{}\" found with value {}\"\"\".format(k,someDict[k]))\n",
        "  else:\n",
        "    print(\"\"\"key \"{}\" not found\"\"\".format(k))"
      ],
      "execution_count": null,
      "outputs": [
        {
          "output_type": "stream",
          "name": "stdout",
          "text": [
            "key \"course\" found with value MIE223\n",
            "key \"professor\" not found\n"
          ]
        }
      ]
    },
    {
      "cell_type": "code",
      "metadata": {
        "colab": {
          "base_uri": "https://localhost:8080/"
        },
        "id": "mrM99U3RNeBQ",
        "outputId": "bb4d73ea-2478-470e-8fce-733645811cfd"
      },
      "source": [
        "# The value of a key can be a list\n",
        "TA_list = ['Jolomi','Joe', 'Wenhao', 'Esmat', 'George']\n",
        "someDict['TAs'] = TA_list\n",
        "print(someDict)"
      ],
      "execution_count": null,
      "outputs": [
        {
          "output_type": "stream",
          "name": "stdout",
          "text": [
            "{'university': 'UofT', 'course': 'MIE223', 'TAs': ['Jolomi', 'Joe', 'Wenhao', 'Esmat', 'George']}\n"
          ]
        }
      ]
    },
    {
      "cell_type": "markdown",
      "metadata": {
        "id": "WQlHJQ5nNgKu"
      },
      "source": [
        "### Dictionary comprehension"
      ]
    },
    {
      "cell_type": "markdown",
      "metadata": {
        "id": "Cav4VhPuNi8M"
      },
      "source": [
        "Create a new dictionary containing name and age for people under 30 years old."
      ]
    },
    {
      "cell_type": "code",
      "metadata": {
        "colab": {
          "base_uri": "https://localhost:8080/"
        },
        "id": "9quVS97-NfUH",
        "outputId": "d7778241-52a3-40a9-8947-927693c20512"
      },
      "source": [
        "#Dictionary comprehension\n",
        "#Collect keys if they have values meeting certain criteria, e.g., people's names whose age is under 30)?\n",
        "peopleAge = {'Sam':25,'Luke':35,'Judy':50,'Paul':18}\n",
        "peopleUnder30 = {key:value for (key,value) in peopleAge.items() if value <= 30}\n",
        "for (name,age) in peopleUnder30.items():\n",
        "  print('Name: {:<6}, Age:{:<5} '.format(name,age))"
      ],
      "execution_count": null,
      "outputs": [
        {
          "output_type": "stream",
          "name": "stdout",
          "text": [
            "Name: Sam   , Age:25    \n",
            "Name: Paul  , Age:18    \n"
          ]
        }
      ]
    },
    {
      "cell_type": "code",
      "metadata": {
        "colab": {
          "base_uri": "https://localhost:8080/"
        },
        "id": "0ZK0fh8lNlPl",
        "outputId": "42008d0f-174c-4c08-807f-444cf97b4b77"
      },
      "source": [
        "print(peopleUnder30)"
      ],
      "execution_count": null,
      "outputs": [
        {
          "output_type": "stream",
          "name": "stdout",
          "text": [
            "{'Sam': 25, 'Paul': 18}\n"
          ]
        }
      ]
    },
    {
      "cell_type": "markdown",
      "metadata": {
        "id": "Y_s3ln2COTZD"
      },
      "source": [
        "## Collections  Recap\n",
        "There are four collection data types in the Python programming language:\n",
        "\n",
        "* List is a collection which is ***ordered*** and ***mutable(changeable)***. Allows duplicate members.\n",
        "\n",
        "* Tuple is a collection which is ***ordered*** and ***immutable(unchangeable)***. Allows duplicate members.\n",
        "\n",
        "* Set is a collection which is ***unordered***, ***unidexed*** and ***mutable*** and . No duplicate members.\n",
        "\n",
        "* Dictionary is a collection of key-value pairs which is ***unordered***, ***mutable*** and ***indexed*** (values are indexed by keys). No duplicate keys, but allows duplicate values.\n",
        "\n"
      ]
    },
    {
      "cell_type": "markdown",
      "metadata": {
        "id": "PjIpwyN3OWvl"
      },
      "source": [
        "## Range"
      ]
    },
    {
      "cell_type": "markdown",
      "metadata": {
        "id": "NjVkmWosOc33"
      },
      "source": [
        "The function **``range(x,y)``** will return the range between x to y-1."
      ]
    },
    {
      "cell_type": "code",
      "metadata": {
        "id": "Ds0u7cYbNnOe",
        "colab": {
          "base_uri": "https://localhost:8080/"
        },
        "outputId": "0d5a7268-56c3-4c58-e887-0d63334ba837"
      },
      "source": [
        "for num in range(5):\n",
        "    print(num)"
      ],
      "execution_count": null,
      "outputs": [
        {
          "output_type": "stream",
          "name": "stdout",
          "text": [
            "0\n",
            "1\n",
            "2\n",
            "3\n",
            "4\n"
          ]
        }
      ]
    },
    {
      "cell_type": "markdown",
      "metadata": {
        "id": "AoZTCJUFOfPg"
      },
      "source": [
        "however, range is lazily evaluated:"
      ]
    },
    {
      "cell_type": "code",
      "metadata": {
        "colab": {
          "base_uri": "https://localhost:8080/"
        },
        "id": "483neHphOeps",
        "outputId": "45d8a702-df70-430f-d39e-582739618ec8"
      },
      "source": [
        "range(1,5)"
      ],
      "execution_count": null,
      "outputs": [
        {
          "output_type": "execute_result",
          "data": {
            "text/plain": [
              "range(1, 5)"
            ]
          },
          "metadata": {},
          "execution_count": 74
        }
      ]
    },
    {
      "cell_type": "code",
      "metadata": {
        "colab": {
          "base_uri": "https://localhost:8080/"
        },
        "id": "xVX_MNofOgYZ",
        "outputId": "e1a29d57-cb6a-4144-e358-16043b1a0e47"
      },
      "source": [
        "print(range(1,5))"
      ],
      "execution_count": null,
      "outputs": [
        {
          "output_type": "stream",
          "name": "stdout",
          "text": [
            "range(1, 5)\n"
          ]
        }
      ]
    },
    {
      "cell_type": "code",
      "metadata": {
        "colab": {
          "base_uri": "https://localhost:8080/"
        },
        "id": "XkSvgnc2OhId",
        "outputId": "6c4d1f5b-fa0f-4474-b1fb-6396f898474c"
      },
      "source": [
        "list(range(1,5))"
      ],
      "execution_count": null,
      "outputs": [
        {
          "output_type": "execute_result",
          "data": {
            "text/plain": [
              "[1, 2, 3, 4]"
            ]
          },
          "metadata": {},
          "execution_count": 76
        }
      ]
    },
    {
      "cell_type": "code",
      "metadata": {
        "colab": {
          "base_uri": "https://localhost:8080/"
        },
        "id": "smF7HtBLOh9G",
        "outputId": "204c639b-6c0e-4051-abd9-36e30a7db85a"
      },
      "source": [
        "list(range(1,11,2))"
      ],
      "execution_count": null,
      "outputs": [
        {
          "output_type": "execute_result",
          "data": {
            "text/plain": [
              "[1, 3, 5, 7, 9]"
            ]
          },
          "metadata": {},
          "execution_count": 77
        }
      ]
    },
    {
      "cell_type": "markdown",
      "metadata": {
        "id": "XdzSLwpqOk4g"
      },
      "source": [
        "***Exercise:***\n",
        "\n",
        "1. The function range has a third argument z: ```range(x,y,z)```. Find out what does it do?"
      ]
    },
    {
      "cell_type": "markdown",
      "source": [
        "\n",
        "Answer: range starts from x iterates by z each step until y-1\n",
        "\n"
      ],
      "metadata": {
        "id": "9oRd4Sq_Fe8-"
      }
    },
    {
      "cell_type": "markdown",
      "metadata": {
        "id": "dh1Pod0OOk8k"
      },
      "source": [
        "##Map"
      ]
    },
    {
      "cell_type": "markdown",
      "metadata": {
        "id": "M8jFTHEiOp_P"
      },
      "source": [
        "map applies a function to all items in a list:\n",
        "\n",
        "```map(func, input_list)```"
      ]
    },
    {
      "cell_type": "code",
      "metadata": {
        "colab": {
          "base_uri": "https://localhost:8080/"
        },
        "id": "SvGCnL0pOi3l",
        "outputId": "5c6ba41c-9655-4dbb-f7c6-042987fc5707"
      },
      "source": [
        "items = [1, 2, 3, 4, 5]\n",
        "squaredItems = []\n",
        "for item in items:\n",
        "    squaredItems.append(item**2)\n",
        "\n",
        "print(squaredItems)"
      ],
      "execution_count": null,
      "outputs": [
        {
          "output_type": "stream",
          "name": "stdout",
          "text": [
            "[1, 4, 9, 16, 25]\n"
          ]
        }
      ]
    },
    {
      "cell_type": "code",
      "metadata": {
        "colab": {
          "base_uri": "https://localhost:8080/"
        },
        "id": "GIdYQxD4Osyz",
        "outputId": "5f904050-3c9a-4e78-bdb0-e8487844621c"
      },
      "source": [
        "def square(num):\n",
        "    return num**2\n",
        "\n",
        "square(2)"
      ],
      "execution_count": null,
      "outputs": [
        {
          "output_type": "execute_result",
          "data": {
            "text/plain": [
              "4"
            ]
          },
          "metadata": {},
          "execution_count": 79
        }
      ]
    },
    {
      "cell_type": "code",
      "metadata": {
        "colab": {
          "base_uri": "https://localhost:8080/"
        },
        "id": "xxjzM1m9Oxc0",
        "outputId": "9c09dfcb-1e39-478b-c488-0c6fa4009db1"
      },
      "source": [
        "items = [1, 2, 3, 4, 5]\n",
        "squaredItems_bymap = list(map(square, items))\n",
        "print(squaredItems_bymap)"
      ],
      "execution_count": null,
      "outputs": [
        {
          "output_type": "stream",
          "name": "stdout",
          "text": [
            "[1, 4, 9, 16, 25]\n"
          ]
        }
      ]
    },
    {
      "cell_type": "code",
      "metadata": {
        "colab": {
          "base_uri": "https://localhost:8080/"
        },
        "id": "4M09nDKpOyiB",
        "outputId": "66039df9-68ed-4fef-902b-6652f159fe77"
      },
      "source": [
        "squaredItems = list(map(square, range(1,6)))\n",
        "print(squaredItems)"
      ],
      "execution_count": null,
      "outputs": [
        {
          "output_type": "stream",
          "name": "stdout",
          "text": [
            "[1, 4, 9, 16, 25]\n"
          ]
        }
      ]
    },
    {
      "cell_type": "markdown",
      "metadata": {
        "id": "Qn2WvvV8O7Or"
      },
      "source": [
        "**map is lazily evaluated**"
      ]
    },
    {
      "cell_type": "code",
      "metadata": {
        "colab": {
          "base_uri": "https://localhost:8080/"
        },
        "id": "KlywSZBxOzqZ",
        "outputId": "88c13fd3-5cad-444b-ead6-dd8b9987dc9a"
      },
      "source": [
        "map(square, range(1,6))"
      ],
      "execution_count": null,
      "outputs": [
        {
          "output_type": "execute_result",
          "data": {
            "text/plain": [
              "<map at 0x7cb4d836a9b0>"
            ]
          },
          "metadata": {},
          "execution_count": 82
        }
      ]
    },
    {
      "cell_type": "code",
      "metadata": {
        "colab": {
          "base_uri": "https://localhost:8080/"
        },
        "id": "hcYNFZsYO8kD",
        "outputId": "4fe4f21c-d342-4841-9fef-3465ffd84df6"
      },
      "source": [
        "print(map(square, range(1,6)))"
      ],
      "execution_count": null,
      "outputs": [
        {
          "output_type": "stream",
          "name": "stdout",
          "text": [
            "<map object at 0x7cb4d836bcd0>\n"
          ]
        }
      ]
    },
    {
      "cell_type": "code",
      "metadata": {
        "colab": {
          "base_uri": "https://localhost:8080/"
        },
        "id": "6BV7cs5vO9cV",
        "outputId": "27aedc76-c788-47c2-91ae-fb4f539394d8"
      },
      "source": [
        "list(map(square, range(1,6)))"
      ],
      "execution_count": null,
      "outputs": [
        {
          "output_type": "execute_result",
          "data": {
            "text/plain": [
              "[1, 4, 9, 16, 25]"
            ]
          },
          "metadata": {},
          "execution_count": 84
        }
      ]
    },
    {
      "cell_type": "markdown",
      "metadata": {
        "id": "pEguWGJIPABj"
      },
      "source": [
        "***Exercise***:\n",
        "\n",
        "Write a function that takes a list of strings, and returns a list of the lengths of the strings.\n",
        "\n",
        "For example, listLengths([\"dog\", \"cat\", \"donkey\", \"elephant\"] should return [3, 3, 6, 8]"
      ]
    },
    {
      "cell_type": "code",
      "source": [
        "listlength = [];\n",
        "\n",
        "def listLengths(list):\n",
        "    for item in list:\n",
        "        listlength.append(len(item))\n",
        "    return listlength\n",
        "\n",
        "listLengths([\"dog\", \"cat\", \"donkey\", \"elephant\"])\n"
      ],
      "metadata": {
        "colab": {
          "base_uri": "https://localhost:8080/"
        },
        "id": "PAzXV1PmHFHc",
        "outputId": "76afeabf-d138-45cb-d0a3-61921745a653"
      },
      "execution_count": 33,
      "outputs": [
        {
          "output_type": "execute_result",
          "data": {
            "text/plain": [
              "[3, 3, 6, 8]"
            ]
          },
          "metadata": {},
          "execution_count": 33
        }
      ]
    },
    {
      "cell_type": "markdown",
      "metadata": {
        "id": "e3nwS-DLPCUk"
      },
      "source": [
        "## Lambda functions\n",
        "\n",
        "A short form of writing simple return-based functions"
      ]
    },
    {
      "cell_type": "code",
      "metadata": {
        "id": "m8woDYOYO-Tc"
      },
      "source": [
        "def longMultiply(num):\n",
        "    return num * 2\n",
        "\n",
        "shortMultiply = lambda num: num * 2"
      ],
      "execution_count": null,
      "outputs": []
    },
    {
      "cell_type": "code",
      "metadata": {
        "colab": {
          "base_uri": "https://localhost:8080/"
        },
        "id": "n173sMFrPD6e",
        "outputId": "2b74c959-da10-4f95-abe8-3948bfae6f8a"
      },
      "source": [
        "longMultiply(5)"
      ],
      "execution_count": null,
      "outputs": [
        {
          "output_type": "execute_result",
          "data": {
            "text/plain": [
              "10"
            ]
          },
          "metadata": {},
          "execution_count": 86
        }
      ]
    },
    {
      "cell_type": "code",
      "metadata": {
        "colab": {
          "base_uri": "https://localhost:8080/"
        },
        "id": "5x6kPOoJPKDr",
        "outputId": "41015159-d1d4-4e91-a0b0-0e92da8f8a72"
      },
      "source": [
        "shortMultiply(5)"
      ],
      "execution_count": null,
      "outputs": [
        {
          "output_type": "execute_result",
          "data": {
            "text/plain": [
              "10"
            ]
          },
          "metadata": {},
          "execution_count": 87
        }
      ]
    },
    {
      "cell_type": "code",
      "metadata": {
        "colab": {
          "base_uri": "https://localhost:8080/"
        },
        "id": "gRZXv3X4PLQp",
        "outputId": "3ecefccf-657b-48b0-f7a0-b5f50ae0a0bc"
      },
      "source": [
        "longMultiply(5) == shortMultiply(5)"
      ],
      "execution_count": null,
      "outputs": [
        {
          "output_type": "execute_result",
          "data": {
            "text/plain": [
              "True"
            ]
          },
          "metadata": {},
          "execution_count": 88
        }
      ]
    },
    {
      "cell_type": "markdown",
      "metadata": {
        "id": "2syU7rI_PNhE"
      },
      "source": [
        "An easier way of writing maps:"
      ]
    },
    {
      "cell_type": "code",
      "metadata": {
        "colab": {
          "base_uri": "https://localhost:8080/"
        },
        "id": "1RkDqbp_PMT0",
        "outputId": "e21b438c-02fe-485d-e2d4-03830347f047"
      },
      "source": [
        "for i in map(lambda x: x+1, range(1,5)):\n",
        "  print (i)"
      ],
      "execution_count": null,
      "outputs": [
        {
          "output_type": "stream",
          "name": "stdout",
          "text": [
            "2\n",
            "3\n",
            "4\n",
            "5\n"
          ]
        }
      ]
    },
    {
      "cell_type": "code",
      "metadata": {
        "colab": {
          "base_uri": "https://localhost:8080/"
        },
        "id": "WMqnB1ERPPQM",
        "outputId": "1dc79da3-b4a3-4a60-cde1-574d5cea6b33"
      },
      "source": [
        "list(map(lambda x: x+1, range(1,5)))"
      ],
      "execution_count": null,
      "outputs": [
        {
          "output_type": "execute_result",
          "data": {
            "text/plain": [
              "[2, 3, 4, 5]"
            ]
          },
          "metadata": {},
          "execution_count": 90
        }
      ]
    },
    {
      "cell_type": "code",
      "metadata": {
        "colab": {
          "base_uri": "https://localhost:8080/"
        },
        "id": "D1gccJSIPUsA",
        "outputId": "3403a19c-3c0b-4646-ca4c-bc807a634335"
      },
      "source": [
        "list(map(lambda x: x+1, range(1,5))) == list(range(2,6))"
      ],
      "execution_count": null,
      "outputs": [
        {
          "output_type": "execute_result",
          "data": {
            "text/plain": [
              "True"
            ]
          },
          "metadata": {},
          "execution_count": 91
        }
      ]
    },
    {
      "cell_type": "markdown",
      "metadata": {
        "id": "lM40ASlEPXrI"
      },
      "source": [
        "writing the list length example with lambda functions:"
      ]
    },
    {
      "cell_type": "code",
      "metadata": {
        "colab": {
          "base_uri": "https://localhost:8080/"
        },
        "id": "DKIYoNo3PV5R",
        "outputId": "a2229649-4b12-46b3-cda1-157802f43039"
      },
      "source": [
        "list(map(lambda x: len(x), [\"dog\", \"cat\", \"donkey\", \"elephant\"]))"
      ],
      "execution_count": null,
      "outputs": [
        {
          "output_type": "execute_result",
          "data": {
            "text/plain": [
              "[3, 3, 6, 8]"
            ]
          },
          "metadata": {},
          "execution_count": 92
        }
      ]
    },
    {
      "cell_type": "markdown",
      "metadata": {
        "id": "DjGwS6BmPa3q"
      },
      "source": [
        "***Exercise:***\n",
        "\n",
        "Write the square example (above) using lambda functions"
      ]
    },
    {
      "cell_type": "code",
      "metadata": {
        "id": "HIvQZR5QPZko",
        "colab": {
          "base_uri": "https://localhost:8080/"
        },
        "outputId": "d1fd2853-92e7-4c98-f1fd-122db3d17eee"
      },
      "source": [
        "# Write your code here\n",
        "list(map(lambda x: x**2, range(1,6)))"
      ],
      "execution_count": 34,
      "outputs": [
        {
          "output_type": "execute_result",
          "data": {
            "text/plain": [
              "[1, 4, 9, 16, 25]"
            ]
          },
          "metadata": {},
          "execution_count": 34
        }
      ]
    },
    {
      "cell_type": "markdown",
      "metadata": {
        "id": "C6VHuNjWPeqb"
      },
      "source": [
        "## Filter"
      ]
    },
    {
      "cell_type": "code",
      "metadata": {
        "colab": {
          "base_uri": "https://localhost:8080/"
        },
        "id": "c2Yg0WqUPch0",
        "outputId": "e40d3535-6704-4a61-c719-2123f418da35"
      },
      "source": [
        "items = [1, 2, 3, 4, 5]\n",
        "oddItems = []\n",
        "for item in items:\n",
        "    if item % 2 != 0:\n",
        "        oddItems.append(item)\n",
        "\n",
        "print(oddItems)"
      ],
      "execution_count": null,
      "outputs": [
        {
          "output_type": "stream",
          "name": "stdout",
          "text": [
            "[1, 3, 5]\n"
          ]
        }
      ]
    },
    {
      "cell_type": "code",
      "metadata": {
        "id": "pS1jEJNYPf40"
      },
      "source": [
        "def isOdd(num):\n",
        "    if num % 2 != 0:\n",
        "        return True\n",
        "    else:\n",
        "        return False"
      ],
      "execution_count": null,
      "outputs": []
    },
    {
      "cell_type": "code",
      "metadata": {
        "colab": {
          "base_uri": "https://localhost:8080/"
        },
        "id": "T-R46NRUPhL5",
        "outputId": "854b3c8e-a7a2-4be6-e84a-627a7a662016"
      },
      "source": [
        "items = [1, 2, 3, 4, 5]\n",
        "# if isodd returns true, then the item stays in list\n",
        "oddItems = list(filter(isOdd, items))\n",
        "print(oddItems)"
      ],
      "execution_count": null,
      "outputs": [
        {
          "output_type": "stream",
          "name": "stdout",
          "text": [
            "[1, 3, 5]\n"
          ]
        }
      ]
    },
    {
      "cell_type": "markdown",
      "metadata": {
        "id": "0C25eIaLPpOP"
      },
      "source": [
        "Note that ``num % 2 != 0`` is a boolean expression (evaluates to True or False)"
      ]
    },
    {
      "cell_type": "code",
      "metadata": {
        "colab": {
          "base_uri": "https://localhost:8080/"
        },
        "id": "x8WMXcmIPjcC",
        "outputId": "2fcd2405-ee87-4b1e-a62b-cd38ff88738e"
      },
      "source": [
        "num = 4\n",
        "num % 2 != 0"
      ],
      "execution_count": null,
      "outputs": [
        {
          "output_type": "execute_result",
          "data": {
            "text/plain": [
              "False"
            ]
          },
          "metadata": {},
          "execution_count": 97
        }
      ]
    },
    {
      "cell_type": "code",
      "metadata": {
        "colab": {
          "base_uri": "https://localhost:8080/"
        },
        "id": "PfpFsyk-Pqqs",
        "outputId": "6b047b54-05b0-4d68-9e9c-fb2151351acc"
      },
      "source": [
        "def isOdd(num):\n",
        "    return num % 2 != 0\n",
        "\n",
        "items = [1, 2, 3, 4, 5]\n",
        "oddItems = list(filter(isOdd, items))\n",
        "print(oddItems)"
      ],
      "execution_count": null,
      "outputs": [
        {
          "output_type": "stream",
          "name": "stdout",
          "text": [
            "[1, 3, 5]\n"
          ]
        }
      ]
    },
    {
      "cell_type": "markdown",
      "metadata": {
        "id": "YZu11i2_Pulj"
      },
      "source": [
        "With lambda functions"
      ]
    },
    {
      "cell_type": "code",
      "metadata": {
        "colab": {
          "base_uri": "https://localhost:8080/"
        },
        "id": "pxGH9f9oPs1S",
        "outputId": "465f10e8-99ed-464b-e088-5efcf2204de4"
      },
      "source": [
        "oddItems = list(filter(lambda num: num % 2 != 0, range(1, 6)))\n",
        "print(oddItems)"
      ],
      "execution_count": null,
      "outputs": [
        {
          "output_type": "stream",
          "name": "stdout",
          "text": [
            "[1, 3, 5]\n"
          ]
        }
      ]
    },
    {
      "cell_type": "markdown",
      "metadata": {
        "id": "ep683AxTPxkA"
      },
      "source": [
        "***Exercise:***\n",
        "\n",
        "Write a code that takes in a list ```range(1,6)``` and output a list of the squared numbers that are also odd. Use only map, filter, and lambda functions"
      ]
    },
    {
      "cell_type": "code",
      "metadata": {
        "id": "j_6uO3bUPv1P",
        "colab": {
          "base_uri": "https://localhost:8080/"
        },
        "outputId": "983a210b-028a-4215-d4a1-23e298d119dd"
      },
      "source": [
        "# your code here\n",
        "list(filter(lambda x: x%2 != 0, map(lambda x: x**2, range(1,6))))\n"
      ],
      "execution_count": 37,
      "outputs": [
        {
          "output_type": "execute_result",
          "data": {
            "text/plain": [
              "[1, 9, 25]"
            ]
          },
          "metadata": {},
          "execution_count": 37
        }
      ]
    },
    {
      "cell_type": "markdown",
      "metadata": {
        "id": "g8V_KiHbP1Xb"
      },
      "source": [
        "## String Formatting"
      ]
    },
    {
      "cell_type": "code",
      "metadata": {
        "id": "99ueorILPy9S"
      },
      "source": [
        "year = 2024"
      ],
      "execution_count": null,
      "outputs": []
    },
    {
      "cell_type": "code",
      "metadata": {
        "colab": {
          "base_uri": "https://localhost:8080/",
          "height": 36
        },
        "id": "P9gLd5R3P25Q",
        "outputId": "aa65acee-e0e1-47ea-f87e-c7382fe332ea"
      },
      "source": [
        "\"The year is \" + str(year) + \" right now\""
      ],
      "execution_count": null,
      "outputs": [
        {
          "output_type": "execute_result",
          "data": {
            "text/plain": [
              "'The year is 2024 right now'"
            ],
            "application/vnd.google.colaboratory.intrinsic+json": {
              "type": "string"
            }
          },
          "metadata": {},
          "execution_count": 102
        }
      ]
    },
    {
      "cell_type": "code",
      "metadata": {
        "colab": {
          "base_uri": "https://localhost:8080/",
          "height": 36
        },
        "id": "6yISy3vsP3zG",
        "outputId": "155beff4-a47c-47f2-d0ff-12939078931a"
      },
      "source": [
        "\"The year is %d right now\" % (year)"
      ],
      "execution_count": null,
      "outputs": [
        {
          "output_type": "execute_result",
          "data": {
            "text/plain": [
              "'The year is 2024 right now'"
            ],
            "application/vnd.google.colaboratory.intrinsic+json": {
              "type": "string"
            }
          },
          "metadata": {},
          "execution_count": 103
        }
      ]
    },
    {
      "cell_type": "code",
      "metadata": {
        "colab": {
          "base_uri": "https://localhost:8080/",
          "height": 36
        },
        "id": "gZLT1OlkP4mC",
        "outputId": "a4c44d71-6126-4a71-b99b-be099c9ceaa7"
      },
      "source": [
        "\"The year is {} right now\".format(year)"
      ],
      "execution_count": null,
      "outputs": [
        {
          "output_type": "execute_result",
          "data": {
            "text/plain": [
              "'The year is 2024 right now'"
            ],
            "application/vnd.google.colaboratory.intrinsic+json": {
              "type": "string"
            }
          },
          "metadata": {},
          "execution_count": 104
        }
      ]
    },
    {
      "cell_type": "code",
      "metadata": {
        "id": "2jLRB8kFP5to"
      },
      "source": [
        "years = [2022, 2023, 2024]"
      ],
      "execution_count": null,
      "outputs": []
    },
    {
      "cell_type": "code",
      "metadata": {
        "colab": {
          "base_uri": "https://localhost:8080/"
        },
        "id": "IBZyuUFxP8eT",
        "outputId": "c64bdb5b-61d7-40c5-f21f-ca784d258165"
      },
      "source": [
        "[\"The year is {}\".format(y) for y in years]"
      ],
      "execution_count": null,
      "outputs": [
        {
          "output_type": "execute_result",
          "data": {
            "text/plain": [
              "['The year is 2022', 'The year is 2023', 'The year is 2024']"
            ]
          },
          "metadata": {},
          "execution_count": 106
        }
      ]
    },
    {
      "cell_type": "code",
      "metadata": {
        "colab": {
          "base_uri": "https://localhost:8080/",
          "height": 36
        },
        "id": "WYOrjJ0CP9Vb",
        "outputId": "2a8a4f68-9893-49b8-f964-81eb2c07c129"
      },
      "source": [
        "\" | \".join([\"The year is {}\".format(y) for y in years])"
      ],
      "execution_count": null,
      "outputs": [
        {
          "output_type": "execute_result",
          "data": {
            "text/plain": [
              "'The year is 2022 | The year is 2023 | The year is 2024'"
            ],
            "application/vnd.google.colaboratory.intrinsic+json": {
              "type": "string"
            }
          },
          "metadata": {},
          "execution_count": 107
        }
      ]
    },
    {
      "cell_type": "code",
      "metadata": {
        "colab": {
          "base_uri": "https://localhost:8080/"
        },
        "id": "9NjCCKn4P-78",
        "outputId": "efffb407-477e-4252-b196-672da6db206d"
      },
      "source": [
        "print(\"\\n\".join([\"The year is {}\".format(y) for y in years]))"
      ],
      "execution_count": null,
      "outputs": [
        {
          "output_type": "stream",
          "name": "stdout",
          "text": [
            "The year is 2022\n",
            "The year is 2023\n",
            "The year is 2024\n"
          ]
        }
      ]
    },
    {
      "cell_type": "markdown",
      "metadata": {
        "id": "vFcGLS2JQC9L"
      },
      "source": [
        "For more examples check: https://pyformat.info/"
      ]
    },
    {
      "cell_type": "markdown",
      "metadata": {
        "id": "N4rse3M7QFs-"
      },
      "source": [
        "## NumPy library\n",
        "Python library to support large, multi-dimensional arrays and matrices, along with a large collection of high-level mathematical functions to operate on these arrays.\n",
        "\n",
        "Core functionality is offered through the ndarray (n dimensional array)."
      ]
    },
    {
      "cell_type": "code",
      "metadata": {
        "colab": {
          "base_uri": "https://localhost:8080/"
        },
        "id": "Ls7fPrRZQAfe",
        "outputId": "3783ac32-ffde-4ba8-8867-0df3c3389f4e"
      },
      "source": [
        "import numpy as np\n",
        "array = np.arange(8).reshape(2,4)\n",
        "array"
      ],
      "execution_count": null,
      "outputs": [
        {
          "output_type": "execute_result",
          "data": {
            "text/plain": [
              "array([[0, 1, 2, 3],\n",
              "       [4, 5, 6, 7]])"
            ]
          },
          "metadata": {},
          "execution_count": 109
        }
      ]
    },
    {
      "cell_type": "code",
      "metadata": {
        "colab": {
          "base_uri": "https://localhost:8080/"
        },
        "id": "Dit2_IxfQIlu",
        "outputId": "bb7cdbc4-b006-406b-e6e2-f05d66f10cf9"
      },
      "source": [
        "# Access the shape, number of dimensions, data type, and number of elements in our array\n",
        "# Tip: use \"print()\" when you want a cell to output more than one thing, or you want to append text to your output, otherwise the cell will output the last object you call, as in the cell above\n",
        "print (\"Shape:\", array.shape)\n",
        "print (\"Dimensions:\", array.ndim)\n",
        "print (\"Data type:\" , array.dtype.name)\n",
        "print (\"Number of elements:\", array.size)"
      ],
      "execution_count": null,
      "outputs": [
        {
          "output_type": "stream",
          "name": "stdout",
          "text": [
            "Shape: (2, 4)\n",
            "Dimensions: 2\n",
            "Data type: int64\n",
            "Number of elements: 8\n"
          ]
        }
      ]
    },
    {
      "cell_type": "code",
      "metadata": {
        "colab": {
          "base_uri": "https://localhost:8080/"
        },
        "id": "9w33ZzDRQJ0h",
        "outputId": "b836d496-11ac-43c5-ad57-72089197c40a"
      },
      "source": [
        "# Use Python list containing a set of numbers to create a NumPy array\n",
        "mylist = [0, 1, 1, 2, 3, 5, 8, 13, 21]\n",
        "myarray = np.array(mylist)\n",
        "myarray"
      ],
      "execution_count": null,
      "outputs": [
        {
          "output_type": "execute_result",
          "data": {
            "text/plain": [
              "array([ 0,  1,  1,  2,  3,  5,  8, 13, 21])"
            ]
          },
          "metadata": {},
          "execution_count": 111
        }
      ]
    },
    {
      "cell_type": "code",
      "metadata": {
        "colab": {
          "base_uri": "https://localhost:8080/"
        },
        "id": "C6j8mwe7QNNy",
        "outputId": "b2c17618-f233-4665-e377-39d2843b119a"
      },
      "source": [
        "# Can do it for nested lists as well, creating multidimensional NumPy arrays:\n",
        "my2dlist = [[1,2,3],[4,5,6]]\n",
        "my2darray = np.array(my2dlist)\n",
        "my2darray"
      ],
      "execution_count": null,
      "outputs": [
        {
          "output_type": "execute_result",
          "data": {
            "text/plain": [
              "array([[1, 2, 3],\n",
              "       [4, 5, 6]])"
            ]
          },
          "metadata": {},
          "execution_count": 112
        }
      ]
    },
    {
      "cell_type": "code",
      "metadata": {
        "colab": {
          "base_uri": "https://localhost:8080/"
        },
        "id": "SMrhdodHQOqY",
        "outputId": "8878fe94-112f-4295-a203-33e75aee408c"
      },
      "source": [
        "#Can also index and slice NumPy arrays like we would do with a Python list or another container object\n",
        "array = np.arange(10)\n",
        "print (\"Originally: \", array)\n",
        "print (\"First four elements: \", array[:4])\n",
        "print (\"After the first four elements: \", array[4:])\n",
        "print (\"The last element: \", array[-1])"
      ],
      "execution_count": null,
      "outputs": [
        {
          "output_type": "stream",
          "name": "stdout",
          "text": [
            "Originally:  [0 1 2 3 4 5 6 7 8 9]\n",
            "First four elements:  [0 1 2 3]\n",
            "After the first four elements:  [4 5 6 7 8 9]\n",
            "The last element:  9\n"
          ]
        }
      ]
    },
    {
      "cell_type": "code",
      "metadata": {
        "colab": {
          "base_uri": "https://localhost:8080/"
        },
        "id": "hDP_IgjOQPxT",
        "outputId": "e7f02434-3503-49ec-e365-1e61e2cc9f3b"
      },
      "source": [
        "#Can index/slice multidimensional arrays, too.\n",
        "array = np.array([[1,2,3],[4,5,6]])\n",
        "print (\"Originally: \", array)\n",
        "print (\"First row only: \", array[0])\n",
        "print (\"First column only: \", array[:,0])"
      ],
      "execution_count": null,
      "outputs": [
        {
          "output_type": "stream",
          "name": "stdout",
          "text": [
            "Originally:  [[1 2 3]\n",
            " [4 5 6]]\n",
            "First row only:  [1 2 3]\n",
            "First column only:  [1 4]\n"
          ]
        }
      ]
    },
    {
      "cell_type": "code",
      "metadata": {
        "colab": {
          "base_uri": "https://localhost:8080/"
        },
        "id": "iyYJT5y4QRMR",
        "outputId": "4de3a384-dbe2-48a1-d3e0-a0e13a3402bd"
      },
      "source": [
        "#Range subindexing\n",
        "# i:j:k where i is the starting index, j is the stopping index, and k is the step (k != 0).\n",
        "x = np.array([0, 1, 2, 3, 4, 5, 6, 7, 8, 9])\n",
        "print(x[1:7:2])"
      ],
      "execution_count": null,
      "outputs": [
        {
          "output_type": "stream",
          "name": "stdout",
          "text": [
            "[1 3 5]\n"
          ]
        }
      ]
    },
    {
      "cell_type": "code",
      "metadata": {
        "colab": {
          "base_uri": "https://localhost:8080/"
        },
        "id": "1Xssw7K7QUvP",
        "outputId": "54f0500f-513f-4ad4-fd5b-a23a0c2a7630"
      },
      "source": [
        "#Tranpose a matrix and verify by checking shape has changed\n",
        "x = np.array([[11,22,33],[99,88,77]])\n",
        "print(x.shape)\n",
        "x = x.T\n",
        "print(x.shape)\n",
        "print(x)"
      ],
      "execution_count": null,
      "outputs": [
        {
          "output_type": "stream",
          "name": "stdout",
          "text": [
            "(2, 3)\n",
            "(3, 2)\n",
            "[[11 99]\n",
            " [22 88]\n",
            " [33 77]]\n"
          ]
        }
      ]
    },
    {
      "cell_type": "code",
      "metadata": {
        "colab": {
          "base_uri": "https://localhost:8080/"
        },
        "id": "EBGcRw3mQWVU",
        "outputId": "bb8e7833-6292-46ca-8ccd-98e43a4db19b"
      },
      "source": [
        "#Invert a matrix\n",
        "x = np.array([[11,22],[99,88]])\n",
        "xI = np.linalg.inv(x)\n",
        "print(xI)"
      ],
      "execution_count": null,
      "outputs": [
        {
          "output_type": "stream",
          "name": "stdout",
          "text": [
            "[[-0.07272727  0.01818182]\n",
            " [ 0.08181818 -0.00909091]]\n"
          ]
        }
      ]
    },
    {
      "cell_type": "code",
      "metadata": {
        "colab": {
          "base_uri": "https://localhost:8080/"
        },
        "id": "uzhklnN-QYMG",
        "outputId": "bb89355d-1078-48d9-ddb4-f44f7910ef81"
      },
      "source": [
        "#Matrix multiply two arrays using @\n",
        "# https://docs.scipy.org/doc/numpy/reference/generated/numpy.matmul.html#numpy.matmul\n",
        "x = np.array([[11,22],[99,88]])\n",
        "xI = np.linalg.inv(x)\n",
        "identityMatrix = x@xI\n",
        "print(identityMatrix)\n",
        "print(np.round(identityMatrix,decimals=2))"
      ],
      "execution_count": null,
      "outputs": [
        {
          "output_type": "stream",
          "name": "stdout",
          "text": [
            "[[ 1.00000000e+00  1.04083409e-17]\n",
            " [-1.11022302e-15  1.00000000e+00]]\n",
            "[[ 1.  0.]\n",
            " [-0.  1.]]\n"
          ]
        }
      ]
    },
    {
      "cell_type": "code",
      "metadata": {
        "colab": {
          "base_uri": "https://localhost:8080/"
        },
        "id": "LlEbBybNQZkS",
        "outputId": "815d5c25-4a1c-4e3e-f7b2-593b94069a1e"
      },
      "source": [
        "#Show type\n",
        "type(identityMatrix)"
      ],
      "execution_count": null,
      "outputs": [
        {
          "output_type": "execute_result",
          "data": {
            "text/plain": [
              "numpy.ndarray"
            ]
          },
          "metadata": {},
          "execution_count": 119
        }
      ]
    },
    {
      "cell_type": "code",
      "metadata": {
        "colab": {
          "base_uri": "https://localhost:8080/"
        },
        "id": "3OWjALehQbK3",
        "outputId": "43f72e70-4e55-4e60-90e3-751a53fbf752"
      },
      "source": [
        "#Convert list to ndarray or ndmatrix\n",
        "someList = [1,0,1]\n",
        "print(type(someList))\n",
        "somendarray = np.asarray(someList)\n",
        "print(type(somendarray))\n",
        "somendmatrix = np.asmatrix(someList)\n",
        "print(type(somendmatrix))"
      ],
      "execution_count": null,
      "outputs": [
        {
          "output_type": "stream",
          "name": "stdout",
          "text": [
            "<class 'list'>\n",
            "<class 'numpy.ndarray'>\n",
            "<class 'numpy.matrix'>\n"
          ]
        }
      ]
    },
    {
      "cell_type": "markdown",
      "metadata": {
        "id": "CimxNrssQeQW"
      },
      "source": [
        "## Pandas library"
      ]
    },
    {
      "cell_type": "markdown",
      "metadata": {
        "id": "3C06x4zFQhM6"
      },
      "source": [
        "Python library that relies on NumPy to provide high-performance, easy-to-use data structures and data analysis tools.\n",
        "\n",
        "The primary tabular data structure is called a dataframe (df).\n",
        "\n",
        "https://pandas.pydata.org/pandas-docs/stable/reference/api/pandas.DataFrame.html"
      ]
    },
    {
      "cell_type": "code",
      "metadata": {
        "colab": {
          "base_uri": "https://localhost:8080/",
          "height": 377
        },
        "id": "yqaMu1SCQcao",
        "outputId": "047474b8-401a-41e1-86f1-e537beb13070"
      },
      "source": [
        "import pandas as pd\n",
        "# Data source: https://www.kaggle.com/ankurchavda/coffee-beans-reviews-by-coffee-quality-institute\n",
        "# Load data from public github repo (csv must be <25mb)\n",
        "url = 'https://raw.githubusercontent.com/MIE223-2024/course-datasets/main/arabica_data.csv'\n",
        "df = pd.read_csv(url, index_col=0)\n",
        "#Print first 5 rows of dataframe\n",
        "df.head()"
      ],
      "execution_count": null,
      "outputs": [
        {
          "output_type": "execute_result",
          "data": {
            "text/plain": [
              "   Acidity  Aftertaste  Aroma Bag Weight  Balance  Body  Category.One.Defects  \\\n",
              "0     8.75        8.67   8.67      60 kg     8.42  8.50                     0   \n",
              "1     8.58        8.50   8.75      60 kg     8.42  8.42                     0   \n",
              "2     8.42        8.42   8.42          1     8.42  8.33                     0   \n",
              "3     8.42        8.42   8.17      60 kg     8.25  8.50                     0   \n",
              "4     8.50        8.25   8.25      60 kg     8.33  8.42                     0   \n",
              "\n",
              "   Category.Two.Defects  Clean Cup  Color  ...  \\\n",
              "0                     0       10.0  Green  ...   \n",
              "1                     1       10.0  Green  ...   \n",
              "2                     0       10.0    NaN  ...   \n",
              "3                     2       10.0  Green  ...   \n",
              "4                     2       10.0  Green  ...   \n",
              "\n",
              "                                Producer        Region  Species Sweetness  \\\n",
              "0                              METAD PLC  guji-hambela  Arabica      10.0   \n",
              "1                              METAD PLC  guji-hambela  Arabica      10.0   \n",
              "2                                    NaN           NaN  Arabica      10.0   \n",
              "3  Yidnekachew Dabessa Coffee Plantation        oromia  Arabica      10.0   \n",
              "4                              METAD PLC  guji-hambela  Arabica      10.0   \n",
              "\n",
              "  Uniformity  Variety altitude_high_meters altitude_low_meters  \\\n",
              "0       10.0      NaN               2200.0              1950.0   \n",
              "1       10.0    Other               2200.0              1950.0   \n",
              "2       10.0  Bourbon               1800.0              1600.0   \n",
              "3       10.0      NaN               2200.0              1800.0   \n",
              "4       10.0    Other               2200.0              1950.0   \n",
              "\n",
              "  altitude_mean_meters quality_score  \n",
              "0               2075.0         90.58  \n",
              "1               2075.0         89.92  \n",
              "2               1700.0         89.75  \n",
              "3               2000.0         89.00  \n",
              "4               2075.0         88.83  \n",
              "\n",
              "[5 rows x 34 columns]"
            ],
            "text/html": [
              "\n",
              "  <div id=\"df-2548bd2a-9519-4b39-bd9a-08dbe75c8434\" class=\"colab-df-container\">\n",
              "    <div>\n",
              "<style scoped>\n",
              "    .dataframe tbody tr th:only-of-type {\n",
              "        vertical-align: middle;\n",
              "    }\n",
              "\n",
              "    .dataframe tbody tr th {\n",
              "        vertical-align: top;\n",
              "    }\n",
              "\n",
              "    .dataframe thead th {\n",
              "        text-align: right;\n",
              "    }\n",
              "</style>\n",
              "<table border=\"1\" class=\"dataframe\">\n",
              "  <thead>\n",
              "    <tr style=\"text-align: right;\">\n",
              "      <th></th>\n",
              "      <th>Acidity</th>\n",
              "      <th>Aftertaste</th>\n",
              "      <th>Aroma</th>\n",
              "      <th>Bag Weight</th>\n",
              "      <th>Balance</th>\n",
              "      <th>Body</th>\n",
              "      <th>Category.One.Defects</th>\n",
              "      <th>Category.Two.Defects</th>\n",
              "      <th>Clean Cup</th>\n",
              "      <th>Color</th>\n",
              "      <th>...</th>\n",
              "      <th>Producer</th>\n",
              "      <th>Region</th>\n",
              "      <th>Species</th>\n",
              "      <th>Sweetness</th>\n",
              "      <th>Uniformity</th>\n",
              "      <th>Variety</th>\n",
              "      <th>altitude_high_meters</th>\n",
              "      <th>altitude_low_meters</th>\n",
              "      <th>altitude_mean_meters</th>\n",
              "      <th>quality_score</th>\n",
              "    </tr>\n",
              "  </thead>\n",
              "  <tbody>\n",
              "    <tr>\n",
              "      <th>0</th>\n",
              "      <td>8.75</td>\n",
              "      <td>8.67</td>\n",
              "      <td>8.67</td>\n",
              "      <td>60 kg</td>\n",
              "      <td>8.42</td>\n",
              "      <td>8.50</td>\n",
              "      <td>0</td>\n",
              "      <td>0</td>\n",
              "      <td>10.0</td>\n",
              "      <td>Green</td>\n",
              "      <td>...</td>\n",
              "      <td>METAD PLC</td>\n",
              "      <td>guji-hambela</td>\n",
              "      <td>Arabica</td>\n",
              "      <td>10.0</td>\n",
              "      <td>10.0</td>\n",
              "      <td>NaN</td>\n",
              "      <td>2200.0</td>\n",
              "      <td>1950.0</td>\n",
              "      <td>2075.0</td>\n",
              "      <td>90.58</td>\n",
              "    </tr>\n",
              "    <tr>\n",
              "      <th>1</th>\n",
              "      <td>8.58</td>\n",
              "      <td>8.50</td>\n",
              "      <td>8.75</td>\n",
              "      <td>60 kg</td>\n",
              "      <td>8.42</td>\n",
              "      <td>8.42</td>\n",
              "      <td>0</td>\n",
              "      <td>1</td>\n",
              "      <td>10.0</td>\n",
              "      <td>Green</td>\n",
              "      <td>...</td>\n",
              "      <td>METAD PLC</td>\n",
              "      <td>guji-hambela</td>\n",
              "      <td>Arabica</td>\n",
              "      <td>10.0</td>\n",
              "      <td>10.0</td>\n",
              "      <td>Other</td>\n",
              "      <td>2200.0</td>\n",
              "      <td>1950.0</td>\n",
              "      <td>2075.0</td>\n",
              "      <td>89.92</td>\n",
              "    </tr>\n",
              "    <tr>\n",
              "      <th>2</th>\n",
              "      <td>8.42</td>\n",
              "      <td>8.42</td>\n",
              "      <td>8.42</td>\n",
              "      <td>1</td>\n",
              "      <td>8.42</td>\n",
              "      <td>8.33</td>\n",
              "      <td>0</td>\n",
              "      <td>0</td>\n",
              "      <td>10.0</td>\n",
              "      <td>NaN</td>\n",
              "      <td>...</td>\n",
              "      <td>NaN</td>\n",
              "      <td>NaN</td>\n",
              "      <td>Arabica</td>\n",
              "      <td>10.0</td>\n",
              "      <td>10.0</td>\n",
              "      <td>Bourbon</td>\n",
              "      <td>1800.0</td>\n",
              "      <td>1600.0</td>\n",
              "      <td>1700.0</td>\n",
              "      <td>89.75</td>\n",
              "    </tr>\n",
              "    <tr>\n",
              "      <th>3</th>\n",
              "      <td>8.42</td>\n",
              "      <td>8.42</td>\n",
              "      <td>8.17</td>\n",
              "      <td>60 kg</td>\n",
              "      <td>8.25</td>\n",
              "      <td>8.50</td>\n",
              "      <td>0</td>\n",
              "      <td>2</td>\n",
              "      <td>10.0</td>\n",
              "      <td>Green</td>\n",
              "      <td>...</td>\n",
              "      <td>Yidnekachew Dabessa Coffee Plantation</td>\n",
              "      <td>oromia</td>\n",
              "      <td>Arabica</td>\n",
              "      <td>10.0</td>\n",
              "      <td>10.0</td>\n",
              "      <td>NaN</td>\n",
              "      <td>2200.0</td>\n",
              "      <td>1800.0</td>\n",
              "      <td>2000.0</td>\n",
              "      <td>89.00</td>\n",
              "    </tr>\n",
              "    <tr>\n",
              "      <th>4</th>\n",
              "      <td>8.50</td>\n",
              "      <td>8.25</td>\n",
              "      <td>8.25</td>\n",
              "      <td>60 kg</td>\n",
              "      <td>8.33</td>\n",
              "      <td>8.42</td>\n",
              "      <td>0</td>\n",
              "      <td>2</td>\n",
              "      <td>10.0</td>\n",
              "      <td>Green</td>\n",
              "      <td>...</td>\n",
              "      <td>METAD PLC</td>\n",
              "      <td>guji-hambela</td>\n",
              "      <td>Arabica</td>\n",
              "      <td>10.0</td>\n",
              "      <td>10.0</td>\n",
              "      <td>Other</td>\n",
              "      <td>2200.0</td>\n",
              "      <td>1950.0</td>\n",
              "      <td>2075.0</td>\n",
              "      <td>88.83</td>\n",
              "    </tr>\n",
              "  </tbody>\n",
              "</table>\n",
              "<p>5 rows × 34 columns</p>\n",
              "</div>\n",
              "    <div class=\"colab-df-buttons\">\n",
              "\n",
              "  <div class=\"colab-df-container\">\n",
              "    <button class=\"colab-df-convert\" onclick=\"convertToInteractive('df-2548bd2a-9519-4b39-bd9a-08dbe75c8434')\"\n",
              "            title=\"Convert this dataframe to an interactive table.\"\n",
              "            style=\"display:none;\">\n",
              "\n",
              "  <svg xmlns=\"http://www.w3.org/2000/svg\" height=\"24px\" viewBox=\"0 -960 960 960\">\n",
              "    <path d=\"M120-120v-720h720v720H120Zm60-500h600v-160H180v160Zm220 220h160v-160H400v160Zm0 220h160v-160H400v160ZM180-400h160v-160H180v160Zm440 0h160v-160H620v160ZM180-180h160v-160H180v160Zm440 0h160v-160H620v160Z\"/>\n",
              "  </svg>\n",
              "    </button>\n",
              "\n",
              "  <style>\n",
              "    .colab-df-container {\n",
              "      display:flex;\n",
              "      gap: 12px;\n",
              "    }\n",
              "\n",
              "    .colab-df-convert {\n",
              "      background-color: #E8F0FE;\n",
              "      border: none;\n",
              "      border-radius: 50%;\n",
              "      cursor: pointer;\n",
              "      display: none;\n",
              "      fill: #1967D2;\n",
              "      height: 32px;\n",
              "      padding: 0 0 0 0;\n",
              "      width: 32px;\n",
              "    }\n",
              "\n",
              "    .colab-df-convert:hover {\n",
              "      background-color: #E2EBFA;\n",
              "      box-shadow: 0px 1px 2px rgba(60, 64, 67, 0.3), 0px 1px 3px 1px rgba(60, 64, 67, 0.15);\n",
              "      fill: #174EA6;\n",
              "    }\n",
              "\n",
              "    .colab-df-buttons div {\n",
              "      margin-bottom: 4px;\n",
              "    }\n",
              "\n",
              "    [theme=dark] .colab-df-convert {\n",
              "      background-color: #3B4455;\n",
              "      fill: #D2E3FC;\n",
              "    }\n",
              "\n",
              "    [theme=dark] .colab-df-convert:hover {\n",
              "      background-color: #434B5C;\n",
              "      box-shadow: 0px 1px 3px 1px rgba(0, 0, 0, 0.15);\n",
              "      filter: drop-shadow(0px 1px 2px rgba(0, 0, 0, 0.3));\n",
              "      fill: #FFFFFF;\n",
              "    }\n",
              "  </style>\n",
              "\n",
              "    <script>\n",
              "      const buttonEl =\n",
              "        document.querySelector('#df-2548bd2a-9519-4b39-bd9a-08dbe75c8434 button.colab-df-convert');\n",
              "      buttonEl.style.display =\n",
              "        google.colab.kernel.accessAllowed ? 'block' : 'none';\n",
              "\n",
              "      async function convertToInteractive(key) {\n",
              "        const element = document.querySelector('#df-2548bd2a-9519-4b39-bd9a-08dbe75c8434');\n",
              "        const dataTable =\n",
              "          await google.colab.kernel.invokeFunction('convertToInteractive',\n",
              "                                                    [key], {});\n",
              "        if (!dataTable) return;\n",
              "\n",
              "        const docLinkHtml = 'Like what you see? Visit the ' +\n",
              "          '<a target=\"_blank\" href=https://colab.research.google.com/notebooks/data_table.ipynb>data table notebook</a>'\n",
              "          + ' to learn more about interactive tables.';\n",
              "        element.innerHTML = '';\n",
              "        dataTable['output_type'] = 'display_data';\n",
              "        await google.colab.output.renderOutput(dataTable, element);\n",
              "        const docLink = document.createElement('div');\n",
              "        docLink.innerHTML = docLinkHtml;\n",
              "        element.appendChild(docLink);\n",
              "      }\n",
              "    </script>\n",
              "  </div>\n",
              "\n",
              "\n",
              "<div id=\"df-4239fd37-a4c4-4422-a508-4ebc1bfb0c85\">\n",
              "  <button class=\"colab-df-quickchart\" onclick=\"quickchart('df-4239fd37-a4c4-4422-a508-4ebc1bfb0c85')\"\n",
              "            title=\"Suggest charts\"\n",
              "            style=\"display:none;\">\n",
              "\n",
              "<svg xmlns=\"http://www.w3.org/2000/svg\" height=\"24px\"viewBox=\"0 0 24 24\"\n",
              "     width=\"24px\">\n",
              "    <g>\n",
              "        <path d=\"M19 3H5c-1.1 0-2 .9-2 2v14c0 1.1.9 2 2 2h14c1.1 0 2-.9 2-2V5c0-1.1-.9-2-2-2zM9 17H7v-7h2v7zm4 0h-2V7h2v10zm4 0h-2v-4h2v4z\"/>\n",
              "    </g>\n",
              "</svg>\n",
              "  </button>\n",
              "\n",
              "<style>\n",
              "  .colab-df-quickchart {\n",
              "      --bg-color: #E8F0FE;\n",
              "      --fill-color: #1967D2;\n",
              "      --hover-bg-color: #E2EBFA;\n",
              "      --hover-fill-color: #174EA6;\n",
              "      --disabled-fill-color: #AAA;\n",
              "      --disabled-bg-color: #DDD;\n",
              "  }\n",
              "\n",
              "  [theme=dark] .colab-df-quickchart {\n",
              "      --bg-color: #3B4455;\n",
              "      --fill-color: #D2E3FC;\n",
              "      --hover-bg-color: #434B5C;\n",
              "      --hover-fill-color: #FFFFFF;\n",
              "      --disabled-bg-color: #3B4455;\n",
              "      --disabled-fill-color: #666;\n",
              "  }\n",
              "\n",
              "  .colab-df-quickchart {\n",
              "    background-color: var(--bg-color);\n",
              "    border: none;\n",
              "    border-radius: 50%;\n",
              "    cursor: pointer;\n",
              "    display: none;\n",
              "    fill: var(--fill-color);\n",
              "    height: 32px;\n",
              "    padding: 0;\n",
              "    width: 32px;\n",
              "  }\n",
              "\n",
              "  .colab-df-quickchart:hover {\n",
              "    background-color: var(--hover-bg-color);\n",
              "    box-shadow: 0 1px 2px rgba(60, 64, 67, 0.3), 0 1px 3px 1px rgba(60, 64, 67, 0.15);\n",
              "    fill: var(--button-hover-fill-color);\n",
              "  }\n",
              "\n",
              "  .colab-df-quickchart-complete:disabled,\n",
              "  .colab-df-quickchart-complete:disabled:hover {\n",
              "    background-color: var(--disabled-bg-color);\n",
              "    fill: var(--disabled-fill-color);\n",
              "    box-shadow: none;\n",
              "  }\n",
              "\n",
              "  .colab-df-spinner {\n",
              "    border: 2px solid var(--fill-color);\n",
              "    border-color: transparent;\n",
              "    border-bottom-color: var(--fill-color);\n",
              "    animation:\n",
              "      spin 1s steps(1) infinite;\n",
              "  }\n",
              "\n",
              "  @keyframes spin {\n",
              "    0% {\n",
              "      border-color: transparent;\n",
              "      border-bottom-color: var(--fill-color);\n",
              "      border-left-color: var(--fill-color);\n",
              "    }\n",
              "    20% {\n",
              "      border-color: transparent;\n",
              "      border-left-color: var(--fill-color);\n",
              "      border-top-color: var(--fill-color);\n",
              "    }\n",
              "    30% {\n",
              "      border-color: transparent;\n",
              "      border-left-color: var(--fill-color);\n",
              "      border-top-color: var(--fill-color);\n",
              "      border-right-color: var(--fill-color);\n",
              "    }\n",
              "    40% {\n",
              "      border-color: transparent;\n",
              "      border-right-color: var(--fill-color);\n",
              "      border-top-color: var(--fill-color);\n",
              "    }\n",
              "    60% {\n",
              "      border-color: transparent;\n",
              "      border-right-color: var(--fill-color);\n",
              "    }\n",
              "    80% {\n",
              "      border-color: transparent;\n",
              "      border-right-color: var(--fill-color);\n",
              "      border-bottom-color: var(--fill-color);\n",
              "    }\n",
              "    90% {\n",
              "      border-color: transparent;\n",
              "      border-bottom-color: var(--fill-color);\n",
              "    }\n",
              "  }\n",
              "</style>\n",
              "\n",
              "  <script>\n",
              "    async function quickchart(key) {\n",
              "      const quickchartButtonEl =\n",
              "        document.querySelector('#' + key + ' button');\n",
              "      quickchartButtonEl.disabled = true;  // To prevent multiple clicks.\n",
              "      quickchartButtonEl.classList.add('colab-df-spinner');\n",
              "      try {\n",
              "        const charts = await google.colab.kernel.invokeFunction(\n",
              "            'suggestCharts', [key], {});\n",
              "      } catch (error) {\n",
              "        console.error('Error during call to suggestCharts:', error);\n",
              "      }\n",
              "      quickchartButtonEl.classList.remove('colab-df-spinner');\n",
              "      quickchartButtonEl.classList.add('colab-df-quickchart-complete');\n",
              "    }\n",
              "    (() => {\n",
              "      let quickchartButtonEl =\n",
              "        document.querySelector('#df-4239fd37-a4c4-4422-a508-4ebc1bfb0c85 button');\n",
              "      quickchartButtonEl.style.display =\n",
              "        google.colab.kernel.accessAllowed ? 'block' : 'none';\n",
              "    })();\n",
              "  </script>\n",
              "</div>\n",
              "\n",
              "    </div>\n",
              "  </div>\n"
            ]
          },
          "metadata": {},
          "execution_count": 121
        }
      ]
    },
    {
      "cell_type": "code",
      "metadata": {
        "colab": {
          "base_uri": "https://localhost:8080/",
          "height": 738
        },
        "id": "f1Q6ktpgQi4g",
        "outputId": "34988bab-9f05-48ab-e12e-874ac5d73d66"
      },
      "source": [
        "#Prints the first 5 and last 5 rows, can be unwieldy/not useful\n",
        "df"
      ],
      "execution_count": null,
      "outputs": [
        {
          "output_type": "execute_result",
          "data": {
            "text/plain": [
              "      Acidity  Aftertaste  Aroma Bag Weight  Balance  Body  \\\n",
              "0        8.75        8.67   8.67      60 kg     8.42  8.50   \n",
              "1        8.58        8.50   8.75      60 kg     8.42  8.42   \n",
              "2        8.42        8.42   8.42          1     8.42  8.33   \n",
              "3        8.42        8.42   8.17      60 kg     8.25  8.50   \n",
              "4        8.50        8.25   8.25      60 kg     8.33  8.42   \n",
              "...       ...         ...    ...        ...      ...   ...   \n",
              "1306     6.50        6.17   7.00       1 kg     6.17  6.67   \n",
              "1307     7.42        6.25   7.08       2 kg     6.75  7.25   \n",
              "1308     6.67        6.42   6.75      69 kg     6.67  7.08   \n",
              "1309     6.25        6.33   7.25       1 kg     6.08  6.42   \n",
              "1310     7.67        6.67   7.50      0 lbs     6.67  7.33   \n",
              "\n",
              "      Category.One.Defects  Category.Two.Defects  Clean Cup       Color  ...  \\\n",
              "0                        0                     0      10.00       Green  ...   \n",
              "1                        0                     1      10.00       Green  ...   \n",
              "2                        0                     0      10.00         NaN  ...   \n",
              "3                        0                     2      10.00       Green  ...   \n",
              "4                        0                     2      10.00       Green  ...   \n",
              "...                    ...                   ...        ...         ...  ...   \n",
              "1306                     0                     4       0.00       Green  ...   \n",
              "1307                     0                    20       6.00        None  ...   \n",
              "1308                     8                    16       6.00  Blue-Green  ...   \n",
              "1309                     1                     5       1.33       Green  ...   \n",
              "1310                     0                     4       0.00       Green  ...   \n",
              "\n",
              "                                   Producer                           Region  \\\n",
              "0                                 METAD PLC                     guji-hambela   \n",
              "1                                 METAD PLC                     guji-hambela   \n",
              "2                                       NaN                              NaN   \n",
              "3     Yidnekachew Dabessa Coffee Plantation                           oromia   \n",
              "4                                 METAD PLC                     guji-hambela   \n",
              "...                                     ...                              ...   \n",
              "1306                            Omar Acosta                          marcala   \n",
              "1307               JUAN CARLOS GARCÍA LOPEZ               juchique de ferrer   \n",
              "1308          COEB Koperativ Ekselsyo Basen  department d'artibonite , haiti   \n",
              "1309                        Teófilo Narváez                           jalapa   \n",
              "1310      WILLIAM ESTUARDO MARTINEZ PACHECO                    nuevo oriente   \n",
              "\n",
              "      Species Sweetness Uniformity  Variety altitude_high_meters  \\\n",
              "0     Arabica     10.00      10.00      NaN              2200.00   \n",
              "1     Arabica     10.00      10.00    Other              2200.00   \n",
              "2     Arabica     10.00      10.00  Bourbon              1800.00   \n",
              "3     Arabica     10.00      10.00      NaN              2200.00   \n",
              "4     Arabica     10.00      10.00    Other              2200.00   \n",
              "...       ...       ...        ...      ...                  ...   \n",
              "1306  Arabica      8.00       8.00   Catuai              1450.00   \n",
              "1307  Arabica     10.00      10.00  Bourbon               900.00   \n",
              "1308  Arabica      6.00       9.33   Typica               350.00   \n",
              "1309  Arabica      6.00       6.00  Caturra              1100.00   \n",
              "1310  Arabica      1.33       8.00   Catuai              1417.32   \n",
              "\n",
              "     altitude_low_meters altitude_mean_meters quality_score  \n",
              "0                1950.00              2075.00         90.58  \n",
              "1                1950.00              2075.00         89.92  \n",
              "2                1600.00              1700.00         89.75  \n",
              "3                1800.00              2000.00         89.00  \n",
              "4                1950.00              2075.00         88.83  \n",
              "...                  ...                  ...           ...  \n",
              "1306             1450.00              1450.00         68.33  \n",
              "1307              900.00               900.00         67.92  \n",
              "1308              350.00               350.00         63.08  \n",
              "1309             1100.00              1100.00         59.83  \n",
              "1310             1417.32              1417.32         43.13  \n",
              "\n",
              "[1311 rows x 34 columns]"
            ],
            "text/html": [
              "\n",
              "  <div id=\"df-8dbf6ca1-8a6e-4917-9fe0-617a2dacb601\" class=\"colab-df-container\">\n",
              "    <div>\n",
              "<style scoped>\n",
              "    .dataframe tbody tr th:only-of-type {\n",
              "        vertical-align: middle;\n",
              "    }\n",
              "\n",
              "    .dataframe tbody tr th {\n",
              "        vertical-align: top;\n",
              "    }\n",
              "\n",
              "    .dataframe thead th {\n",
              "        text-align: right;\n",
              "    }\n",
              "</style>\n",
              "<table border=\"1\" class=\"dataframe\">\n",
              "  <thead>\n",
              "    <tr style=\"text-align: right;\">\n",
              "      <th></th>\n",
              "      <th>Acidity</th>\n",
              "      <th>Aftertaste</th>\n",
              "      <th>Aroma</th>\n",
              "      <th>Bag Weight</th>\n",
              "      <th>Balance</th>\n",
              "      <th>Body</th>\n",
              "      <th>Category.One.Defects</th>\n",
              "      <th>Category.Two.Defects</th>\n",
              "      <th>Clean Cup</th>\n",
              "      <th>Color</th>\n",
              "      <th>...</th>\n",
              "      <th>Producer</th>\n",
              "      <th>Region</th>\n",
              "      <th>Species</th>\n",
              "      <th>Sweetness</th>\n",
              "      <th>Uniformity</th>\n",
              "      <th>Variety</th>\n",
              "      <th>altitude_high_meters</th>\n",
              "      <th>altitude_low_meters</th>\n",
              "      <th>altitude_mean_meters</th>\n",
              "      <th>quality_score</th>\n",
              "    </tr>\n",
              "  </thead>\n",
              "  <tbody>\n",
              "    <tr>\n",
              "      <th>0</th>\n",
              "      <td>8.75</td>\n",
              "      <td>8.67</td>\n",
              "      <td>8.67</td>\n",
              "      <td>60 kg</td>\n",
              "      <td>8.42</td>\n",
              "      <td>8.50</td>\n",
              "      <td>0</td>\n",
              "      <td>0</td>\n",
              "      <td>10.00</td>\n",
              "      <td>Green</td>\n",
              "      <td>...</td>\n",
              "      <td>METAD PLC</td>\n",
              "      <td>guji-hambela</td>\n",
              "      <td>Arabica</td>\n",
              "      <td>10.00</td>\n",
              "      <td>10.00</td>\n",
              "      <td>NaN</td>\n",
              "      <td>2200.00</td>\n",
              "      <td>1950.00</td>\n",
              "      <td>2075.00</td>\n",
              "      <td>90.58</td>\n",
              "    </tr>\n",
              "    <tr>\n",
              "      <th>1</th>\n",
              "      <td>8.58</td>\n",
              "      <td>8.50</td>\n",
              "      <td>8.75</td>\n",
              "      <td>60 kg</td>\n",
              "      <td>8.42</td>\n",
              "      <td>8.42</td>\n",
              "      <td>0</td>\n",
              "      <td>1</td>\n",
              "      <td>10.00</td>\n",
              "      <td>Green</td>\n",
              "      <td>...</td>\n",
              "      <td>METAD PLC</td>\n",
              "      <td>guji-hambela</td>\n",
              "      <td>Arabica</td>\n",
              "      <td>10.00</td>\n",
              "      <td>10.00</td>\n",
              "      <td>Other</td>\n",
              "      <td>2200.00</td>\n",
              "      <td>1950.00</td>\n",
              "      <td>2075.00</td>\n",
              "      <td>89.92</td>\n",
              "    </tr>\n",
              "    <tr>\n",
              "      <th>2</th>\n",
              "      <td>8.42</td>\n",
              "      <td>8.42</td>\n",
              "      <td>8.42</td>\n",
              "      <td>1</td>\n",
              "      <td>8.42</td>\n",
              "      <td>8.33</td>\n",
              "      <td>0</td>\n",
              "      <td>0</td>\n",
              "      <td>10.00</td>\n",
              "      <td>NaN</td>\n",
              "      <td>...</td>\n",
              "      <td>NaN</td>\n",
              "      <td>NaN</td>\n",
              "      <td>Arabica</td>\n",
              "      <td>10.00</td>\n",
              "      <td>10.00</td>\n",
              "      <td>Bourbon</td>\n",
              "      <td>1800.00</td>\n",
              "      <td>1600.00</td>\n",
              "      <td>1700.00</td>\n",
              "      <td>89.75</td>\n",
              "    </tr>\n",
              "    <tr>\n",
              "      <th>3</th>\n",
              "      <td>8.42</td>\n",
              "      <td>8.42</td>\n",
              "      <td>8.17</td>\n",
              "      <td>60 kg</td>\n",
              "      <td>8.25</td>\n",
              "      <td>8.50</td>\n",
              "      <td>0</td>\n",
              "      <td>2</td>\n",
              "      <td>10.00</td>\n",
              "      <td>Green</td>\n",
              "      <td>...</td>\n",
              "      <td>Yidnekachew Dabessa Coffee Plantation</td>\n",
              "      <td>oromia</td>\n",
              "      <td>Arabica</td>\n",
              "      <td>10.00</td>\n",
              "      <td>10.00</td>\n",
              "      <td>NaN</td>\n",
              "      <td>2200.00</td>\n",
              "      <td>1800.00</td>\n",
              "      <td>2000.00</td>\n",
              "      <td>89.00</td>\n",
              "    </tr>\n",
              "    <tr>\n",
              "      <th>4</th>\n",
              "      <td>8.50</td>\n",
              "      <td>8.25</td>\n",
              "      <td>8.25</td>\n",
              "      <td>60 kg</td>\n",
              "      <td>8.33</td>\n",
              "      <td>8.42</td>\n",
              "      <td>0</td>\n",
              "      <td>2</td>\n",
              "      <td>10.00</td>\n",
              "      <td>Green</td>\n",
              "      <td>...</td>\n",
              "      <td>METAD PLC</td>\n",
              "      <td>guji-hambela</td>\n",
              "      <td>Arabica</td>\n",
              "      <td>10.00</td>\n",
              "      <td>10.00</td>\n",
              "      <td>Other</td>\n",
              "      <td>2200.00</td>\n",
              "      <td>1950.00</td>\n",
              "      <td>2075.00</td>\n",
              "      <td>88.83</td>\n",
              "    </tr>\n",
              "    <tr>\n",
              "      <th>...</th>\n",
              "      <td>...</td>\n",
              "      <td>...</td>\n",
              "      <td>...</td>\n",
              "      <td>...</td>\n",
              "      <td>...</td>\n",
              "      <td>...</td>\n",
              "      <td>...</td>\n",
              "      <td>...</td>\n",
              "      <td>...</td>\n",
              "      <td>...</td>\n",
              "      <td>...</td>\n",
              "      <td>...</td>\n",
              "      <td>...</td>\n",
              "      <td>...</td>\n",
              "      <td>...</td>\n",
              "      <td>...</td>\n",
              "      <td>...</td>\n",
              "      <td>...</td>\n",
              "      <td>...</td>\n",
              "      <td>...</td>\n",
              "      <td>...</td>\n",
              "    </tr>\n",
              "    <tr>\n",
              "      <th>1306</th>\n",
              "      <td>6.50</td>\n",
              "      <td>6.17</td>\n",
              "      <td>7.00</td>\n",
              "      <td>1 kg</td>\n",
              "      <td>6.17</td>\n",
              "      <td>6.67</td>\n",
              "      <td>0</td>\n",
              "      <td>4</td>\n",
              "      <td>0.00</td>\n",
              "      <td>Green</td>\n",
              "      <td>...</td>\n",
              "      <td>Omar Acosta</td>\n",
              "      <td>marcala</td>\n",
              "      <td>Arabica</td>\n",
              "      <td>8.00</td>\n",
              "      <td>8.00</td>\n",
              "      <td>Catuai</td>\n",
              "      <td>1450.00</td>\n",
              "      <td>1450.00</td>\n",
              "      <td>1450.00</td>\n",
              "      <td>68.33</td>\n",
              "    </tr>\n",
              "    <tr>\n",
              "      <th>1307</th>\n",
              "      <td>7.42</td>\n",
              "      <td>6.25</td>\n",
              "      <td>7.08</td>\n",
              "      <td>2 kg</td>\n",
              "      <td>6.75</td>\n",
              "      <td>7.25</td>\n",
              "      <td>0</td>\n",
              "      <td>20</td>\n",
              "      <td>6.00</td>\n",
              "      <td>None</td>\n",
              "      <td>...</td>\n",
              "      <td>JUAN CARLOS GARCÍA LOPEZ</td>\n",
              "      <td>juchique de ferrer</td>\n",
              "      <td>Arabica</td>\n",
              "      <td>10.00</td>\n",
              "      <td>10.00</td>\n",
              "      <td>Bourbon</td>\n",
              "      <td>900.00</td>\n",
              "      <td>900.00</td>\n",
              "      <td>900.00</td>\n",
              "      <td>67.92</td>\n",
              "    </tr>\n",
              "    <tr>\n",
              "      <th>1308</th>\n",
              "      <td>6.67</td>\n",
              "      <td>6.42</td>\n",
              "      <td>6.75</td>\n",
              "      <td>69 kg</td>\n",
              "      <td>6.67</td>\n",
              "      <td>7.08</td>\n",
              "      <td>8</td>\n",
              "      <td>16</td>\n",
              "      <td>6.00</td>\n",
              "      <td>Blue-Green</td>\n",
              "      <td>...</td>\n",
              "      <td>COEB Koperativ Ekselsyo Basen</td>\n",
              "      <td>department d'artibonite , haiti</td>\n",
              "      <td>Arabica</td>\n",
              "      <td>6.00</td>\n",
              "      <td>9.33</td>\n",
              "      <td>Typica</td>\n",
              "      <td>350.00</td>\n",
              "      <td>350.00</td>\n",
              "      <td>350.00</td>\n",
              "      <td>63.08</td>\n",
              "    </tr>\n",
              "    <tr>\n",
              "      <th>1309</th>\n",
              "      <td>6.25</td>\n",
              "      <td>6.33</td>\n",
              "      <td>7.25</td>\n",
              "      <td>1 kg</td>\n",
              "      <td>6.08</td>\n",
              "      <td>6.42</td>\n",
              "      <td>1</td>\n",
              "      <td>5</td>\n",
              "      <td>1.33</td>\n",
              "      <td>Green</td>\n",
              "      <td>...</td>\n",
              "      <td>Teófilo Narváez</td>\n",
              "      <td>jalapa</td>\n",
              "      <td>Arabica</td>\n",
              "      <td>6.00</td>\n",
              "      <td>6.00</td>\n",
              "      <td>Caturra</td>\n",
              "      <td>1100.00</td>\n",
              "      <td>1100.00</td>\n",
              "      <td>1100.00</td>\n",
              "      <td>59.83</td>\n",
              "    </tr>\n",
              "    <tr>\n",
              "      <th>1310</th>\n",
              "      <td>7.67</td>\n",
              "      <td>6.67</td>\n",
              "      <td>7.50</td>\n",
              "      <td>0 lbs</td>\n",
              "      <td>6.67</td>\n",
              "      <td>7.33</td>\n",
              "      <td>0</td>\n",
              "      <td>4</td>\n",
              "      <td>0.00</td>\n",
              "      <td>Green</td>\n",
              "      <td>...</td>\n",
              "      <td>WILLIAM ESTUARDO MARTINEZ PACHECO</td>\n",
              "      <td>nuevo oriente</td>\n",
              "      <td>Arabica</td>\n",
              "      <td>1.33</td>\n",
              "      <td>8.00</td>\n",
              "      <td>Catuai</td>\n",
              "      <td>1417.32</td>\n",
              "      <td>1417.32</td>\n",
              "      <td>1417.32</td>\n",
              "      <td>43.13</td>\n",
              "    </tr>\n",
              "  </tbody>\n",
              "</table>\n",
              "<p>1311 rows × 34 columns</p>\n",
              "</div>\n",
              "    <div class=\"colab-df-buttons\">\n",
              "\n",
              "  <div class=\"colab-df-container\">\n",
              "    <button class=\"colab-df-convert\" onclick=\"convertToInteractive('df-8dbf6ca1-8a6e-4917-9fe0-617a2dacb601')\"\n",
              "            title=\"Convert this dataframe to an interactive table.\"\n",
              "            style=\"display:none;\">\n",
              "\n",
              "  <svg xmlns=\"http://www.w3.org/2000/svg\" height=\"24px\" viewBox=\"0 -960 960 960\">\n",
              "    <path d=\"M120-120v-720h720v720H120Zm60-500h600v-160H180v160Zm220 220h160v-160H400v160Zm0 220h160v-160H400v160ZM180-400h160v-160H180v160Zm440 0h160v-160H620v160ZM180-180h160v-160H180v160Zm440 0h160v-160H620v160Z\"/>\n",
              "  </svg>\n",
              "    </button>\n",
              "\n",
              "  <style>\n",
              "    .colab-df-container {\n",
              "      display:flex;\n",
              "      gap: 12px;\n",
              "    }\n",
              "\n",
              "    .colab-df-convert {\n",
              "      background-color: #E8F0FE;\n",
              "      border: none;\n",
              "      border-radius: 50%;\n",
              "      cursor: pointer;\n",
              "      display: none;\n",
              "      fill: #1967D2;\n",
              "      height: 32px;\n",
              "      padding: 0 0 0 0;\n",
              "      width: 32px;\n",
              "    }\n",
              "\n",
              "    .colab-df-convert:hover {\n",
              "      background-color: #E2EBFA;\n",
              "      box-shadow: 0px 1px 2px rgba(60, 64, 67, 0.3), 0px 1px 3px 1px rgba(60, 64, 67, 0.15);\n",
              "      fill: #174EA6;\n",
              "    }\n",
              "\n",
              "    .colab-df-buttons div {\n",
              "      margin-bottom: 4px;\n",
              "    }\n",
              "\n",
              "    [theme=dark] .colab-df-convert {\n",
              "      background-color: #3B4455;\n",
              "      fill: #D2E3FC;\n",
              "    }\n",
              "\n",
              "    [theme=dark] .colab-df-convert:hover {\n",
              "      background-color: #434B5C;\n",
              "      box-shadow: 0px 1px 3px 1px rgba(0, 0, 0, 0.15);\n",
              "      filter: drop-shadow(0px 1px 2px rgba(0, 0, 0, 0.3));\n",
              "      fill: #FFFFFF;\n",
              "    }\n",
              "  </style>\n",
              "\n",
              "    <script>\n",
              "      const buttonEl =\n",
              "        document.querySelector('#df-8dbf6ca1-8a6e-4917-9fe0-617a2dacb601 button.colab-df-convert');\n",
              "      buttonEl.style.display =\n",
              "        google.colab.kernel.accessAllowed ? 'block' : 'none';\n",
              "\n",
              "      async function convertToInteractive(key) {\n",
              "        const element = document.querySelector('#df-8dbf6ca1-8a6e-4917-9fe0-617a2dacb601');\n",
              "        const dataTable =\n",
              "          await google.colab.kernel.invokeFunction('convertToInteractive',\n",
              "                                                    [key], {});\n",
              "        if (!dataTable) return;\n",
              "\n",
              "        const docLinkHtml = 'Like what you see? Visit the ' +\n",
              "          '<a target=\"_blank\" href=https://colab.research.google.com/notebooks/data_table.ipynb>data table notebook</a>'\n",
              "          + ' to learn more about interactive tables.';\n",
              "        element.innerHTML = '';\n",
              "        dataTable['output_type'] = 'display_data';\n",
              "        await google.colab.output.renderOutput(dataTable, element);\n",
              "        const docLink = document.createElement('div');\n",
              "        docLink.innerHTML = docLinkHtml;\n",
              "        element.appendChild(docLink);\n",
              "      }\n",
              "    </script>\n",
              "  </div>\n",
              "\n",
              "\n",
              "<div id=\"df-078a1f5d-a250-40e1-bf79-2af30a407ea5\">\n",
              "  <button class=\"colab-df-quickchart\" onclick=\"quickchart('df-078a1f5d-a250-40e1-bf79-2af30a407ea5')\"\n",
              "            title=\"Suggest charts\"\n",
              "            style=\"display:none;\">\n",
              "\n",
              "<svg xmlns=\"http://www.w3.org/2000/svg\" height=\"24px\"viewBox=\"0 0 24 24\"\n",
              "     width=\"24px\">\n",
              "    <g>\n",
              "        <path d=\"M19 3H5c-1.1 0-2 .9-2 2v14c0 1.1.9 2 2 2h14c1.1 0 2-.9 2-2V5c0-1.1-.9-2-2-2zM9 17H7v-7h2v7zm4 0h-2V7h2v10zm4 0h-2v-4h2v4z\"/>\n",
              "    </g>\n",
              "</svg>\n",
              "  </button>\n",
              "\n",
              "<style>\n",
              "  .colab-df-quickchart {\n",
              "      --bg-color: #E8F0FE;\n",
              "      --fill-color: #1967D2;\n",
              "      --hover-bg-color: #E2EBFA;\n",
              "      --hover-fill-color: #174EA6;\n",
              "      --disabled-fill-color: #AAA;\n",
              "      --disabled-bg-color: #DDD;\n",
              "  }\n",
              "\n",
              "  [theme=dark] .colab-df-quickchart {\n",
              "      --bg-color: #3B4455;\n",
              "      --fill-color: #D2E3FC;\n",
              "      --hover-bg-color: #434B5C;\n",
              "      --hover-fill-color: #FFFFFF;\n",
              "      --disabled-bg-color: #3B4455;\n",
              "      --disabled-fill-color: #666;\n",
              "  }\n",
              "\n",
              "  .colab-df-quickchart {\n",
              "    background-color: var(--bg-color);\n",
              "    border: none;\n",
              "    border-radius: 50%;\n",
              "    cursor: pointer;\n",
              "    display: none;\n",
              "    fill: var(--fill-color);\n",
              "    height: 32px;\n",
              "    padding: 0;\n",
              "    width: 32px;\n",
              "  }\n",
              "\n",
              "  .colab-df-quickchart:hover {\n",
              "    background-color: var(--hover-bg-color);\n",
              "    box-shadow: 0 1px 2px rgba(60, 64, 67, 0.3), 0 1px 3px 1px rgba(60, 64, 67, 0.15);\n",
              "    fill: var(--button-hover-fill-color);\n",
              "  }\n",
              "\n",
              "  .colab-df-quickchart-complete:disabled,\n",
              "  .colab-df-quickchart-complete:disabled:hover {\n",
              "    background-color: var(--disabled-bg-color);\n",
              "    fill: var(--disabled-fill-color);\n",
              "    box-shadow: none;\n",
              "  }\n",
              "\n",
              "  .colab-df-spinner {\n",
              "    border: 2px solid var(--fill-color);\n",
              "    border-color: transparent;\n",
              "    border-bottom-color: var(--fill-color);\n",
              "    animation:\n",
              "      spin 1s steps(1) infinite;\n",
              "  }\n",
              "\n",
              "  @keyframes spin {\n",
              "    0% {\n",
              "      border-color: transparent;\n",
              "      border-bottom-color: var(--fill-color);\n",
              "      border-left-color: var(--fill-color);\n",
              "    }\n",
              "    20% {\n",
              "      border-color: transparent;\n",
              "      border-left-color: var(--fill-color);\n",
              "      border-top-color: var(--fill-color);\n",
              "    }\n",
              "    30% {\n",
              "      border-color: transparent;\n",
              "      border-left-color: var(--fill-color);\n",
              "      border-top-color: var(--fill-color);\n",
              "      border-right-color: var(--fill-color);\n",
              "    }\n",
              "    40% {\n",
              "      border-color: transparent;\n",
              "      border-right-color: var(--fill-color);\n",
              "      border-top-color: var(--fill-color);\n",
              "    }\n",
              "    60% {\n",
              "      border-color: transparent;\n",
              "      border-right-color: var(--fill-color);\n",
              "    }\n",
              "    80% {\n",
              "      border-color: transparent;\n",
              "      border-right-color: var(--fill-color);\n",
              "      border-bottom-color: var(--fill-color);\n",
              "    }\n",
              "    90% {\n",
              "      border-color: transparent;\n",
              "      border-bottom-color: var(--fill-color);\n",
              "    }\n",
              "  }\n",
              "</style>\n",
              "\n",
              "  <script>\n",
              "    async function quickchart(key) {\n",
              "      const quickchartButtonEl =\n",
              "        document.querySelector('#' + key + ' button');\n",
              "      quickchartButtonEl.disabled = true;  // To prevent multiple clicks.\n",
              "      quickchartButtonEl.classList.add('colab-df-spinner');\n",
              "      try {\n",
              "        const charts = await google.colab.kernel.invokeFunction(\n",
              "            'suggestCharts', [key], {});\n",
              "      } catch (error) {\n",
              "        console.error('Error during call to suggestCharts:', error);\n",
              "      }\n",
              "      quickchartButtonEl.classList.remove('colab-df-spinner');\n",
              "      quickchartButtonEl.classList.add('colab-df-quickchart-complete');\n",
              "    }\n",
              "    (() => {\n",
              "      let quickchartButtonEl =\n",
              "        document.querySelector('#df-078a1f5d-a250-40e1-bf79-2af30a407ea5 button');\n",
              "      quickchartButtonEl.style.display =\n",
              "        google.colab.kernel.accessAllowed ? 'block' : 'none';\n",
              "    })();\n",
              "  </script>\n",
              "</div>\n",
              "\n",
              "  <div id=\"id_0198501d-bdbc-4707-91b7-773a73fbd54a\">\n",
              "    <style>\n",
              "      .colab-df-generate {\n",
              "        background-color: #E8F0FE;\n",
              "        border: none;\n",
              "        border-radius: 50%;\n",
              "        cursor: pointer;\n",
              "        display: none;\n",
              "        fill: #1967D2;\n",
              "        height: 32px;\n",
              "        padding: 0 0 0 0;\n",
              "        width: 32px;\n",
              "      }\n",
              "\n",
              "      .colab-df-generate:hover {\n",
              "        background-color: #E2EBFA;\n",
              "        box-shadow: 0px 1px 2px rgba(60, 64, 67, 0.3), 0px 1px 3px 1px rgba(60, 64, 67, 0.15);\n",
              "        fill: #174EA6;\n",
              "      }\n",
              "\n",
              "      [theme=dark] .colab-df-generate {\n",
              "        background-color: #3B4455;\n",
              "        fill: #D2E3FC;\n",
              "      }\n",
              "\n",
              "      [theme=dark] .colab-df-generate:hover {\n",
              "        background-color: #434B5C;\n",
              "        box-shadow: 0px 1px 3px 1px rgba(0, 0, 0, 0.15);\n",
              "        filter: drop-shadow(0px 1px 2px rgba(0, 0, 0, 0.3));\n",
              "        fill: #FFFFFF;\n",
              "      }\n",
              "    </style>\n",
              "    <button class=\"colab-df-generate\" onclick=\"generateWithVariable('df')\"\n",
              "            title=\"Generate code using this dataframe.\"\n",
              "            style=\"display:none;\">\n",
              "\n",
              "  <svg xmlns=\"http://www.w3.org/2000/svg\" height=\"24px\"viewBox=\"0 0 24 24\"\n",
              "       width=\"24px\">\n",
              "    <path d=\"M7,19H8.4L18.45,9,17,7.55,7,17.6ZM5,21V16.75L18.45,3.32a2,2,0,0,1,2.83,0l1.4,1.43a1.91,1.91,0,0,1,.58,1.4,1.91,1.91,0,0,1-.58,1.4L9.25,21ZM18.45,9,17,7.55Zm-12,3A5.31,5.31,0,0,0,4.9,8.1,5.31,5.31,0,0,0,1,6.5,5.31,5.31,0,0,0,4.9,4.9,5.31,5.31,0,0,0,6.5,1,5.31,5.31,0,0,0,8.1,4.9,5.31,5.31,0,0,0,12,6.5,5.46,5.46,0,0,0,6.5,12Z\"/>\n",
              "  </svg>\n",
              "    </button>\n",
              "    <script>\n",
              "      (() => {\n",
              "      const buttonEl =\n",
              "        document.querySelector('#id_0198501d-bdbc-4707-91b7-773a73fbd54a button.colab-df-generate');\n",
              "      buttonEl.style.display =\n",
              "        google.colab.kernel.accessAllowed ? 'block' : 'none';\n",
              "\n",
              "      buttonEl.onclick = () => {\n",
              "        google.colab.notebook.generateWithVariable('df');\n",
              "      }\n",
              "      })();\n",
              "    </script>\n",
              "  </div>\n",
              "\n",
              "    </div>\n",
              "  </div>\n"
            ]
          },
          "metadata": {},
          "execution_count": 122
        }
      ]
    },
    {
      "cell_type": "code",
      "metadata": {
        "colab": {
          "base_uri": "https://localhost:8080/",
          "height": 337
        },
        "id": "qP3EUHi4Qn2-",
        "outputId": "7a16fbae-090f-4f7c-edb1-b5473b704e7c"
      },
      "source": [
        "#Summary statistics\n",
        "df.describe()"
      ],
      "execution_count": null,
      "outputs": [
        {
          "output_type": "execute_result",
          "data": {
            "text/plain": [
              "           Acidity   Aftertaste        Aroma      Balance         Body  \\\n",
              "count  1311.000000  1311.000000  1311.000000  1311.000000  1311.000000   \n",
              "mean      7.538764     7.403158     7.569527     7.523288     7.523387   \n",
              "std       0.319773     0.349945     0.315930     0.349174     0.293089   \n",
              "min       5.250000     6.170000     5.080000     6.080000     5.250000   \n",
              "25%       7.330000     7.250000     7.420000     7.330000     7.330000   \n",
              "50%       7.500000     7.420000     7.580000     7.500000     7.500000   \n",
              "75%       7.750000     7.580000     7.750000     7.750000     7.670000   \n",
              "max       8.750000     8.670000     8.750000     8.750000     8.580000   \n",
              "\n",
              "       Category.One.Defects  Category.Two.Defects   Clean Cup  Cupper Points  \\\n",
              "count           1311.000000           1311.000000  1311.00000    1311.000000   \n",
              "mean               0.450038              3.626240     9.83312       7.502441   \n",
              "std                2.017571              5.482857     0.77135       0.428989   \n",
              "min                0.000000              0.000000     0.00000       5.170000   \n",
              "25%                0.000000              0.000000    10.00000       7.250000   \n",
              "50%                0.000000              2.000000    10.00000       7.500000   \n",
              "75%                0.000000              4.000000    10.00000       7.750000   \n",
              "max               31.000000             55.000000    10.00000      10.000000   \n",
              "\n",
              "            Flavor     Moisture  Number of Bags    Sweetness   Uniformity  \\\n",
              "count  1311.000000  1311.000000     1311.000000  1311.000000  1311.000000   \n",
              "mean      7.523539     0.088963      153.678108     9.910900     9.839497   \n",
              "std       0.341817     0.047907      129.760079     0.454824     0.491508   \n",
              "min       6.080000     0.000000        0.000000     1.330000     6.000000   \n",
              "25%       7.330000     0.090000       14.000000    10.000000    10.000000   \n",
              "50%       7.580000     0.110000      170.000000    10.000000    10.000000   \n",
              "75%       7.750000     0.120000      275.000000    10.000000    10.000000   \n",
              "max       8.830000     0.280000     1062.000000    10.000000    10.000000   \n",
              "\n",
              "       altitude_high_meters  altitude_low_meters  altitude_mean_meters  \\\n",
              "count           1084.000000          1084.000000           1084.000000   \n",
              "mean            1808.751552          1759.456703           1784.104128   \n",
              "std             8767.192330          8767.851565           8767.021485   \n",
              "min                1.000000             1.000000              1.000000   \n",
              "25%             1100.000000          1100.000000           1100.000000   \n",
              "50%             1350.000000          1310.640000           1310.640000   \n",
              "75%             1650.000000          1600.000000           1600.000000   \n",
              "max           190164.000000        190164.000000         190164.000000   \n",
              "\n",
              "       quality_score  \n",
              "count    1311.000000  \n",
              "mean       82.148825  \n",
              "std         2.893505  \n",
              "min        43.130000  \n",
              "25%        81.170000  \n",
              "50%        82.500000  \n",
              "75%        83.670000  \n",
              "max        90.580000  "
            ],
            "text/html": [
              "\n",
              "  <div id=\"df-fc9231a1-d043-478d-ba6d-b5ccc78aceb0\" class=\"colab-df-container\">\n",
              "    <div>\n",
              "<style scoped>\n",
              "    .dataframe tbody tr th:only-of-type {\n",
              "        vertical-align: middle;\n",
              "    }\n",
              "\n",
              "    .dataframe tbody tr th {\n",
              "        vertical-align: top;\n",
              "    }\n",
              "\n",
              "    .dataframe thead th {\n",
              "        text-align: right;\n",
              "    }\n",
              "</style>\n",
              "<table border=\"1\" class=\"dataframe\">\n",
              "  <thead>\n",
              "    <tr style=\"text-align: right;\">\n",
              "      <th></th>\n",
              "      <th>Acidity</th>\n",
              "      <th>Aftertaste</th>\n",
              "      <th>Aroma</th>\n",
              "      <th>Balance</th>\n",
              "      <th>Body</th>\n",
              "      <th>Category.One.Defects</th>\n",
              "      <th>Category.Two.Defects</th>\n",
              "      <th>Clean Cup</th>\n",
              "      <th>Cupper Points</th>\n",
              "      <th>Flavor</th>\n",
              "      <th>Moisture</th>\n",
              "      <th>Number of Bags</th>\n",
              "      <th>Sweetness</th>\n",
              "      <th>Uniformity</th>\n",
              "      <th>altitude_high_meters</th>\n",
              "      <th>altitude_low_meters</th>\n",
              "      <th>altitude_mean_meters</th>\n",
              "      <th>quality_score</th>\n",
              "    </tr>\n",
              "  </thead>\n",
              "  <tbody>\n",
              "    <tr>\n",
              "      <th>count</th>\n",
              "      <td>1311.000000</td>\n",
              "      <td>1311.000000</td>\n",
              "      <td>1311.000000</td>\n",
              "      <td>1311.000000</td>\n",
              "      <td>1311.000000</td>\n",
              "      <td>1311.000000</td>\n",
              "      <td>1311.000000</td>\n",
              "      <td>1311.00000</td>\n",
              "      <td>1311.000000</td>\n",
              "      <td>1311.000000</td>\n",
              "      <td>1311.000000</td>\n",
              "      <td>1311.000000</td>\n",
              "      <td>1311.000000</td>\n",
              "      <td>1311.000000</td>\n",
              "      <td>1084.000000</td>\n",
              "      <td>1084.000000</td>\n",
              "      <td>1084.000000</td>\n",
              "      <td>1311.000000</td>\n",
              "    </tr>\n",
              "    <tr>\n",
              "      <th>mean</th>\n",
              "      <td>7.538764</td>\n",
              "      <td>7.403158</td>\n",
              "      <td>7.569527</td>\n",
              "      <td>7.523288</td>\n",
              "      <td>7.523387</td>\n",
              "      <td>0.450038</td>\n",
              "      <td>3.626240</td>\n",
              "      <td>9.83312</td>\n",
              "      <td>7.502441</td>\n",
              "      <td>7.523539</td>\n",
              "      <td>0.088963</td>\n",
              "      <td>153.678108</td>\n",
              "      <td>9.910900</td>\n",
              "      <td>9.839497</td>\n",
              "      <td>1808.751552</td>\n",
              "      <td>1759.456703</td>\n",
              "      <td>1784.104128</td>\n",
              "      <td>82.148825</td>\n",
              "    </tr>\n",
              "    <tr>\n",
              "      <th>std</th>\n",
              "      <td>0.319773</td>\n",
              "      <td>0.349945</td>\n",
              "      <td>0.315930</td>\n",
              "      <td>0.349174</td>\n",
              "      <td>0.293089</td>\n",
              "      <td>2.017571</td>\n",
              "      <td>5.482857</td>\n",
              "      <td>0.77135</td>\n",
              "      <td>0.428989</td>\n",
              "      <td>0.341817</td>\n",
              "      <td>0.047907</td>\n",
              "      <td>129.760079</td>\n",
              "      <td>0.454824</td>\n",
              "      <td>0.491508</td>\n",
              "      <td>8767.192330</td>\n",
              "      <td>8767.851565</td>\n",
              "      <td>8767.021485</td>\n",
              "      <td>2.893505</td>\n",
              "    </tr>\n",
              "    <tr>\n",
              "      <th>min</th>\n",
              "      <td>5.250000</td>\n",
              "      <td>6.170000</td>\n",
              "      <td>5.080000</td>\n",
              "      <td>6.080000</td>\n",
              "      <td>5.250000</td>\n",
              "      <td>0.000000</td>\n",
              "      <td>0.000000</td>\n",
              "      <td>0.00000</td>\n",
              "      <td>5.170000</td>\n",
              "      <td>6.080000</td>\n",
              "      <td>0.000000</td>\n",
              "      <td>0.000000</td>\n",
              "      <td>1.330000</td>\n",
              "      <td>6.000000</td>\n",
              "      <td>1.000000</td>\n",
              "      <td>1.000000</td>\n",
              "      <td>1.000000</td>\n",
              "      <td>43.130000</td>\n",
              "    </tr>\n",
              "    <tr>\n",
              "      <th>25%</th>\n",
              "      <td>7.330000</td>\n",
              "      <td>7.250000</td>\n",
              "      <td>7.420000</td>\n",
              "      <td>7.330000</td>\n",
              "      <td>7.330000</td>\n",
              "      <td>0.000000</td>\n",
              "      <td>0.000000</td>\n",
              "      <td>10.00000</td>\n",
              "      <td>7.250000</td>\n",
              "      <td>7.330000</td>\n",
              "      <td>0.090000</td>\n",
              "      <td>14.000000</td>\n",
              "      <td>10.000000</td>\n",
              "      <td>10.000000</td>\n",
              "      <td>1100.000000</td>\n",
              "      <td>1100.000000</td>\n",
              "      <td>1100.000000</td>\n",
              "      <td>81.170000</td>\n",
              "    </tr>\n",
              "    <tr>\n",
              "      <th>50%</th>\n",
              "      <td>7.500000</td>\n",
              "      <td>7.420000</td>\n",
              "      <td>7.580000</td>\n",
              "      <td>7.500000</td>\n",
              "      <td>7.500000</td>\n",
              "      <td>0.000000</td>\n",
              "      <td>2.000000</td>\n",
              "      <td>10.00000</td>\n",
              "      <td>7.500000</td>\n",
              "      <td>7.580000</td>\n",
              "      <td>0.110000</td>\n",
              "      <td>170.000000</td>\n",
              "      <td>10.000000</td>\n",
              "      <td>10.000000</td>\n",
              "      <td>1350.000000</td>\n",
              "      <td>1310.640000</td>\n",
              "      <td>1310.640000</td>\n",
              "      <td>82.500000</td>\n",
              "    </tr>\n",
              "    <tr>\n",
              "      <th>75%</th>\n",
              "      <td>7.750000</td>\n",
              "      <td>7.580000</td>\n",
              "      <td>7.750000</td>\n",
              "      <td>7.750000</td>\n",
              "      <td>7.670000</td>\n",
              "      <td>0.000000</td>\n",
              "      <td>4.000000</td>\n",
              "      <td>10.00000</td>\n",
              "      <td>7.750000</td>\n",
              "      <td>7.750000</td>\n",
              "      <td>0.120000</td>\n",
              "      <td>275.000000</td>\n",
              "      <td>10.000000</td>\n",
              "      <td>10.000000</td>\n",
              "      <td>1650.000000</td>\n",
              "      <td>1600.000000</td>\n",
              "      <td>1600.000000</td>\n",
              "      <td>83.670000</td>\n",
              "    </tr>\n",
              "    <tr>\n",
              "      <th>max</th>\n",
              "      <td>8.750000</td>\n",
              "      <td>8.670000</td>\n",
              "      <td>8.750000</td>\n",
              "      <td>8.750000</td>\n",
              "      <td>8.580000</td>\n",
              "      <td>31.000000</td>\n",
              "      <td>55.000000</td>\n",
              "      <td>10.00000</td>\n",
              "      <td>10.000000</td>\n",
              "      <td>8.830000</td>\n",
              "      <td>0.280000</td>\n",
              "      <td>1062.000000</td>\n",
              "      <td>10.000000</td>\n",
              "      <td>10.000000</td>\n",
              "      <td>190164.000000</td>\n",
              "      <td>190164.000000</td>\n",
              "      <td>190164.000000</td>\n",
              "      <td>90.580000</td>\n",
              "    </tr>\n",
              "  </tbody>\n",
              "</table>\n",
              "</div>\n",
              "    <div class=\"colab-df-buttons\">\n",
              "\n",
              "  <div class=\"colab-df-container\">\n",
              "    <button class=\"colab-df-convert\" onclick=\"convertToInteractive('df-fc9231a1-d043-478d-ba6d-b5ccc78aceb0')\"\n",
              "            title=\"Convert this dataframe to an interactive table.\"\n",
              "            style=\"display:none;\">\n",
              "\n",
              "  <svg xmlns=\"http://www.w3.org/2000/svg\" height=\"24px\" viewBox=\"0 -960 960 960\">\n",
              "    <path d=\"M120-120v-720h720v720H120Zm60-500h600v-160H180v160Zm220 220h160v-160H400v160Zm0 220h160v-160H400v160ZM180-400h160v-160H180v160Zm440 0h160v-160H620v160ZM180-180h160v-160H180v160Zm440 0h160v-160H620v160Z\"/>\n",
              "  </svg>\n",
              "    </button>\n",
              "\n",
              "  <style>\n",
              "    .colab-df-container {\n",
              "      display:flex;\n",
              "      gap: 12px;\n",
              "    }\n",
              "\n",
              "    .colab-df-convert {\n",
              "      background-color: #E8F0FE;\n",
              "      border: none;\n",
              "      border-radius: 50%;\n",
              "      cursor: pointer;\n",
              "      display: none;\n",
              "      fill: #1967D2;\n",
              "      height: 32px;\n",
              "      padding: 0 0 0 0;\n",
              "      width: 32px;\n",
              "    }\n",
              "\n",
              "    .colab-df-convert:hover {\n",
              "      background-color: #E2EBFA;\n",
              "      box-shadow: 0px 1px 2px rgba(60, 64, 67, 0.3), 0px 1px 3px 1px rgba(60, 64, 67, 0.15);\n",
              "      fill: #174EA6;\n",
              "    }\n",
              "\n",
              "    .colab-df-buttons div {\n",
              "      margin-bottom: 4px;\n",
              "    }\n",
              "\n",
              "    [theme=dark] .colab-df-convert {\n",
              "      background-color: #3B4455;\n",
              "      fill: #D2E3FC;\n",
              "    }\n",
              "\n",
              "    [theme=dark] .colab-df-convert:hover {\n",
              "      background-color: #434B5C;\n",
              "      box-shadow: 0px 1px 3px 1px rgba(0, 0, 0, 0.15);\n",
              "      filter: drop-shadow(0px 1px 2px rgba(0, 0, 0, 0.3));\n",
              "      fill: #FFFFFF;\n",
              "    }\n",
              "  </style>\n",
              "\n",
              "    <script>\n",
              "      const buttonEl =\n",
              "        document.querySelector('#df-fc9231a1-d043-478d-ba6d-b5ccc78aceb0 button.colab-df-convert');\n",
              "      buttonEl.style.display =\n",
              "        google.colab.kernel.accessAllowed ? 'block' : 'none';\n",
              "\n",
              "      async function convertToInteractive(key) {\n",
              "        const element = document.querySelector('#df-fc9231a1-d043-478d-ba6d-b5ccc78aceb0');\n",
              "        const dataTable =\n",
              "          await google.colab.kernel.invokeFunction('convertToInteractive',\n",
              "                                                    [key], {});\n",
              "        if (!dataTable) return;\n",
              "\n",
              "        const docLinkHtml = 'Like what you see? Visit the ' +\n",
              "          '<a target=\"_blank\" href=https://colab.research.google.com/notebooks/data_table.ipynb>data table notebook</a>'\n",
              "          + ' to learn more about interactive tables.';\n",
              "        element.innerHTML = '';\n",
              "        dataTable['output_type'] = 'display_data';\n",
              "        await google.colab.output.renderOutput(dataTable, element);\n",
              "        const docLink = document.createElement('div');\n",
              "        docLink.innerHTML = docLinkHtml;\n",
              "        element.appendChild(docLink);\n",
              "      }\n",
              "    </script>\n",
              "  </div>\n",
              "\n",
              "\n",
              "<div id=\"df-9cb6c4a2-83d4-459c-9d44-f05b9c7433ea\">\n",
              "  <button class=\"colab-df-quickchart\" onclick=\"quickchart('df-9cb6c4a2-83d4-459c-9d44-f05b9c7433ea')\"\n",
              "            title=\"Suggest charts\"\n",
              "            style=\"display:none;\">\n",
              "\n",
              "<svg xmlns=\"http://www.w3.org/2000/svg\" height=\"24px\"viewBox=\"0 0 24 24\"\n",
              "     width=\"24px\">\n",
              "    <g>\n",
              "        <path d=\"M19 3H5c-1.1 0-2 .9-2 2v14c0 1.1.9 2 2 2h14c1.1 0 2-.9 2-2V5c0-1.1-.9-2-2-2zM9 17H7v-7h2v7zm4 0h-2V7h2v10zm4 0h-2v-4h2v4z\"/>\n",
              "    </g>\n",
              "</svg>\n",
              "  </button>\n",
              "\n",
              "<style>\n",
              "  .colab-df-quickchart {\n",
              "      --bg-color: #E8F0FE;\n",
              "      --fill-color: #1967D2;\n",
              "      --hover-bg-color: #E2EBFA;\n",
              "      --hover-fill-color: #174EA6;\n",
              "      --disabled-fill-color: #AAA;\n",
              "      --disabled-bg-color: #DDD;\n",
              "  }\n",
              "\n",
              "  [theme=dark] .colab-df-quickchart {\n",
              "      --bg-color: #3B4455;\n",
              "      --fill-color: #D2E3FC;\n",
              "      --hover-bg-color: #434B5C;\n",
              "      --hover-fill-color: #FFFFFF;\n",
              "      --disabled-bg-color: #3B4455;\n",
              "      --disabled-fill-color: #666;\n",
              "  }\n",
              "\n",
              "  .colab-df-quickchart {\n",
              "    background-color: var(--bg-color);\n",
              "    border: none;\n",
              "    border-radius: 50%;\n",
              "    cursor: pointer;\n",
              "    display: none;\n",
              "    fill: var(--fill-color);\n",
              "    height: 32px;\n",
              "    padding: 0;\n",
              "    width: 32px;\n",
              "  }\n",
              "\n",
              "  .colab-df-quickchart:hover {\n",
              "    background-color: var(--hover-bg-color);\n",
              "    box-shadow: 0 1px 2px rgba(60, 64, 67, 0.3), 0 1px 3px 1px rgba(60, 64, 67, 0.15);\n",
              "    fill: var(--button-hover-fill-color);\n",
              "  }\n",
              "\n",
              "  .colab-df-quickchart-complete:disabled,\n",
              "  .colab-df-quickchart-complete:disabled:hover {\n",
              "    background-color: var(--disabled-bg-color);\n",
              "    fill: var(--disabled-fill-color);\n",
              "    box-shadow: none;\n",
              "  }\n",
              "\n",
              "  .colab-df-spinner {\n",
              "    border: 2px solid var(--fill-color);\n",
              "    border-color: transparent;\n",
              "    border-bottom-color: var(--fill-color);\n",
              "    animation:\n",
              "      spin 1s steps(1) infinite;\n",
              "  }\n",
              "\n",
              "  @keyframes spin {\n",
              "    0% {\n",
              "      border-color: transparent;\n",
              "      border-bottom-color: var(--fill-color);\n",
              "      border-left-color: var(--fill-color);\n",
              "    }\n",
              "    20% {\n",
              "      border-color: transparent;\n",
              "      border-left-color: var(--fill-color);\n",
              "      border-top-color: var(--fill-color);\n",
              "    }\n",
              "    30% {\n",
              "      border-color: transparent;\n",
              "      border-left-color: var(--fill-color);\n",
              "      border-top-color: var(--fill-color);\n",
              "      border-right-color: var(--fill-color);\n",
              "    }\n",
              "    40% {\n",
              "      border-color: transparent;\n",
              "      border-right-color: var(--fill-color);\n",
              "      border-top-color: var(--fill-color);\n",
              "    }\n",
              "    60% {\n",
              "      border-color: transparent;\n",
              "      border-right-color: var(--fill-color);\n",
              "    }\n",
              "    80% {\n",
              "      border-color: transparent;\n",
              "      border-right-color: var(--fill-color);\n",
              "      border-bottom-color: var(--fill-color);\n",
              "    }\n",
              "    90% {\n",
              "      border-color: transparent;\n",
              "      border-bottom-color: var(--fill-color);\n",
              "    }\n",
              "  }\n",
              "</style>\n",
              "\n",
              "  <script>\n",
              "    async function quickchart(key) {\n",
              "      const quickchartButtonEl =\n",
              "        document.querySelector('#' + key + ' button');\n",
              "      quickchartButtonEl.disabled = true;  // To prevent multiple clicks.\n",
              "      quickchartButtonEl.classList.add('colab-df-spinner');\n",
              "      try {\n",
              "        const charts = await google.colab.kernel.invokeFunction(\n",
              "            'suggestCharts', [key], {});\n",
              "      } catch (error) {\n",
              "        console.error('Error during call to suggestCharts:', error);\n",
              "      }\n",
              "      quickchartButtonEl.classList.remove('colab-df-spinner');\n",
              "      quickchartButtonEl.classList.add('colab-df-quickchart-complete');\n",
              "    }\n",
              "    (() => {\n",
              "      let quickchartButtonEl =\n",
              "        document.querySelector('#df-9cb6c4a2-83d4-459c-9d44-f05b9c7433ea button');\n",
              "      quickchartButtonEl.style.display =\n",
              "        google.colab.kernel.accessAllowed ? 'block' : 'none';\n",
              "    })();\n",
              "  </script>\n",
              "</div>\n",
              "\n",
              "    </div>\n",
              "  </div>\n"
            ]
          },
          "metadata": {},
          "execution_count": 123
        }
      ]
    },
    {
      "cell_type": "code",
      "metadata": {
        "colab": {
          "base_uri": "https://localhost:8080/"
        },
        "id": "AWxaOGkrQqbg",
        "outputId": "5d2774dc-926e-4ec6-c420-9b928faf9341"
      },
      "source": [
        "#Focus on specific column, similar to accessing a dictionary key\n",
        "df['Species']"
      ],
      "execution_count": null,
      "outputs": [
        {
          "output_type": "execute_result",
          "data": {
            "text/plain": [
              "0       Arabica\n",
              "1       Arabica\n",
              "2       Arabica\n",
              "3       Arabica\n",
              "4       Arabica\n",
              "         ...   \n",
              "1306    Arabica\n",
              "1307    Arabica\n",
              "1308    Arabica\n",
              "1309    Arabica\n",
              "1310    Arabica\n",
              "Name: Species, Length: 1311, dtype: object"
            ]
          },
          "metadata": {},
          "execution_count": 124
        }
      ]
    },
    {
      "cell_type": "markdown",
      "metadata": {
        "id": "mep1uuu5QuHs"
      },
      "source": [
        "Using the above method of column access on its own returns a Series object - think of this as a DataFrame with only one column.\n",
        "\n",
        "If you want to get the raw values however, you can simply specify this by adding .values after your entry.\n",
        "\n",
        "Then by putting the object in a Set (which does not allow duplicate entries), we can quickly see all of the possible values for any column:"
      ]
    },
    {
      "cell_type": "code",
      "metadata": {
        "colab": {
          "base_uri": "https://localhost:8080/"
        },
        "id": "wjcsCJ3cQsT4",
        "outputId": "a86818f3-18a3-4f2c-9bf3-8c1f2ac8c415"
      },
      "source": [
        "set(df['Variety'].values)"
      ],
      "execution_count": null,
      "outputs": [
        {
          "output_type": "execute_result",
          "data": {
            "text/plain": [
              "{'Arusha',\n",
              " 'Blue Mountain',\n",
              " 'Bourbon',\n",
              " 'Catimor',\n",
              " 'Catuai',\n",
              " 'Caturra',\n",
              " 'Ethiopian Heirlooms',\n",
              " 'Ethiopian Yirgacheffe',\n",
              " 'Gesha',\n",
              " 'Hawaiian Kona',\n",
              " 'Java',\n",
              " 'Mandheling',\n",
              " 'Marigojipe',\n",
              " 'Moka Peaberry',\n",
              " 'Mundo Novo',\n",
              " 'Other',\n",
              " 'Pacamara',\n",
              " 'Pacas',\n",
              " 'Pache Comun',\n",
              " 'Peaberry',\n",
              " 'Ruiru 11',\n",
              " 'SL14',\n",
              " 'SL28',\n",
              " 'SL34',\n",
              " 'Sulawesi',\n",
              " 'Sumatra',\n",
              " 'Sumatra Lintong',\n",
              " 'Typica',\n",
              " 'Yellow Bourbon',\n",
              " nan}"
            ]
          },
          "metadata": {},
          "execution_count": 125
        }
      ]
    },
    {
      "cell_type": "markdown",
      "metadata": {
        "id": "4u3CgFqOQ0A0"
      },
      "source": [
        "Alternatively, you can also call unique() to get all unique values in a column"
      ]
    },
    {
      "cell_type": "code",
      "metadata": {
        "colab": {
          "base_uri": "https://localhost:8080/"
        },
        "id": "Adsm9KKyQxlI",
        "outputId": "1bedfbcd-cbd5-4db5-f000-934fc3991ce3"
      },
      "source": [
        "df['Variety'].unique()"
      ],
      "execution_count": null,
      "outputs": [
        {
          "output_type": "execute_result",
          "data": {
            "text/plain": [
              "array([nan, 'Other', 'Bourbon', 'Catimor', 'Ethiopian Yirgacheffe',\n",
              "       'Caturra', 'SL14', 'Sumatra', 'SL34', 'Hawaiian Kona',\n",
              "       'Yellow Bourbon', 'SL28', 'Gesha', 'Catuai', 'Pacamara', 'Typica',\n",
              "       'Sumatra Lintong', 'Mundo Novo', 'Java', 'Peaberry', 'Pacas',\n",
              "       'Mandheling', 'Ruiru 11', 'Arusha', 'Ethiopian Heirlooms',\n",
              "       'Moka Peaberry', 'Sulawesi', 'Blue Mountain', 'Marigojipe',\n",
              "       'Pache Comun'], dtype=object)"
            ]
          },
          "metadata": {},
          "execution_count": 126
        }
      ]
    },
    {
      "cell_type": "markdown",
      "metadata": {
        "id": "JbJzujdkQ3jO"
      },
      "source": [
        "Notice that the \"nan\" entry in the values, which in Pandas denotes a missing entry.\n",
        "\n",
        "When working with real world datasets it's very common for entries to be missing, and there are a variety of ways of approaching a problem like this.\n",
        "\n",
        "For now, though, we are simply going to tell Pandas to drop any row that has a missing column, using the dropna() method."
      ]
    },
    {
      "cell_type": "code",
      "metadata": {
        "id": "Q7wcHTVTQ1PX"
      },
      "source": [
        "df_clean = df.dropna()"
      ],
      "execution_count": null,
      "outputs": []
    },
    {
      "cell_type": "markdown",
      "metadata": {
        "id": "5tz4oLy_Q6ll"
      },
      "source": [
        "As you perform this analysis, you will probably notice that we've lost quite a bit of our original data by simply dropping the nan values.\n",
        "\n",
        "There is another approach that we can examine, however. Instead of dropping the missing entries entirely, we can impute their value using the data we do have.\n",
        "\n",
        "For a single column we can do this like so:"
      ]
    },
    {
      "cell_type": "code",
      "source": [
        "avg_altitude_mean_meters = df['altitude_mean_meters'].mean()\n",
        "avg_altitude_mean_meters"
      ],
      "metadata": {
        "colab": {
          "base_uri": "https://localhost:8080/"
        },
        "id": "1q9bMnpil4p2",
        "outputId": "4100c413-6ec8-4aa5-d41e-1235caa4edf0"
      },
      "execution_count": null,
      "outputs": [
        {
          "output_type": "execute_result",
          "data": {
            "text/plain": [
              "1784.104127675277"
            ]
          },
          "metadata": {},
          "execution_count": 128
        }
      ]
    },
    {
      "cell_type": "code",
      "metadata": {
        "id": "V4nmOZxJQ4_f"
      },
      "source": [
        "df['altitude_mean_meters_imputed'] = df['altitude_mean_meters'].fillna(avg_altitude_mean_meters)"
      ],
      "execution_count": null,
      "outputs": []
    },
    {
      "cell_type": "code",
      "metadata": {
        "colab": {
          "base_uri": "https://localhost:8080/",
          "height": 363
        },
        "id": "7X8fo3yPQ_Cw",
        "outputId": "41e78275-35b7-449f-f56b-f84755395bd9"
      },
      "source": [
        "df[['altitude_mean_meters','altitude_mean_meters_imputed']].head(10)"
      ],
      "execution_count": null,
      "outputs": [
        {
          "output_type": "execute_result",
          "data": {
            "text/plain": [
              "   altitude_mean_meters  altitude_mean_meters_imputed\n",
              "0                2075.0                   2075.000000\n",
              "1                2075.0                   2075.000000\n",
              "2                1700.0                   1700.000000\n",
              "3                2000.0                   2000.000000\n",
              "4                2075.0                   2075.000000\n",
              "5                   NaN                   1784.104128\n",
              "6                   NaN                   1784.104128\n",
              "7                1635.0                   1635.000000\n",
              "8                1635.0                   1635.000000\n",
              "9                1822.5                   1822.500000"
            ],
            "text/html": [
              "\n",
              "  <div id=\"df-84ee7efe-b04e-4a5f-aa0a-8c7077c28f73\" class=\"colab-df-container\">\n",
              "    <div>\n",
              "<style scoped>\n",
              "    .dataframe tbody tr th:only-of-type {\n",
              "        vertical-align: middle;\n",
              "    }\n",
              "\n",
              "    .dataframe tbody tr th {\n",
              "        vertical-align: top;\n",
              "    }\n",
              "\n",
              "    .dataframe thead th {\n",
              "        text-align: right;\n",
              "    }\n",
              "</style>\n",
              "<table border=\"1\" class=\"dataframe\">\n",
              "  <thead>\n",
              "    <tr style=\"text-align: right;\">\n",
              "      <th></th>\n",
              "      <th>altitude_mean_meters</th>\n",
              "      <th>altitude_mean_meters_imputed</th>\n",
              "    </tr>\n",
              "  </thead>\n",
              "  <tbody>\n",
              "    <tr>\n",
              "      <th>0</th>\n",
              "      <td>2075.0</td>\n",
              "      <td>2075.000000</td>\n",
              "    </tr>\n",
              "    <tr>\n",
              "      <th>1</th>\n",
              "      <td>2075.0</td>\n",
              "      <td>2075.000000</td>\n",
              "    </tr>\n",
              "    <tr>\n",
              "      <th>2</th>\n",
              "      <td>1700.0</td>\n",
              "      <td>1700.000000</td>\n",
              "    </tr>\n",
              "    <tr>\n",
              "      <th>3</th>\n",
              "      <td>2000.0</td>\n",
              "      <td>2000.000000</td>\n",
              "    </tr>\n",
              "    <tr>\n",
              "      <th>4</th>\n",
              "      <td>2075.0</td>\n",
              "      <td>2075.000000</td>\n",
              "    </tr>\n",
              "    <tr>\n",
              "      <th>5</th>\n",
              "      <td>NaN</td>\n",
              "      <td>1784.104128</td>\n",
              "    </tr>\n",
              "    <tr>\n",
              "      <th>6</th>\n",
              "      <td>NaN</td>\n",
              "      <td>1784.104128</td>\n",
              "    </tr>\n",
              "    <tr>\n",
              "      <th>7</th>\n",
              "      <td>1635.0</td>\n",
              "      <td>1635.000000</td>\n",
              "    </tr>\n",
              "    <tr>\n",
              "      <th>8</th>\n",
              "      <td>1635.0</td>\n",
              "      <td>1635.000000</td>\n",
              "    </tr>\n",
              "    <tr>\n",
              "      <th>9</th>\n",
              "      <td>1822.5</td>\n",
              "      <td>1822.500000</td>\n",
              "    </tr>\n",
              "  </tbody>\n",
              "</table>\n",
              "</div>\n",
              "    <div class=\"colab-df-buttons\">\n",
              "\n",
              "  <div class=\"colab-df-container\">\n",
              "    <button class=\"colab-df-convert\" onclick=\"convertToInteractive('df-84ee7efe-b04e-4a5f-aa0a-8c7077c28f73')\"\n",
              "            title=\"Convert this dataframe to an interactive table.\"\n",
              "            style=\"display:none;\">\n",
              "\n",
              "  <svg xmlns=\"http://www.w3.org/2000/svg\" height=\"24px\" viewBox=\"0 -960 960 960\">\n",
              "    <path d=\"M120-120v-720h720v720H120Zm60-500h600v-160H180v160Zm220 220h160v-160H400v160Zm0 220h160v-160H400v160ZM180-400h160v-160H180v160Zm440 0h160v-160H620v160ZM180-180h160v-160H180v160Zm440 0h160v-160H620v160Z\"/>\n",
              "  </svg>\n",
              "    </button>\n",
              "\n",
              "  <style>\n",
              "    .colab-df-container {\n",
              "      display:flex;\n",
              "      gap: 12px;\n",
              "    }\n",
              "\n",
              "    .colab-df-convert {\n",
              "      background-color: #E8F0FE;\n",
              "      border: none;\n",
              "      border-radius: 50%;\n",
              "      cursor: pointer;\n",
              "      display: none;\n",
              "      fill: #1967D2;\n",
              "      height: 32px;\n",
              "      padding: 0 0 0 0;\n",
              "      width: 32px;\n",
              "    }\n",
              "\n",
              "    .colab-df-convert:hover {\n",
              "      background-color: #E2EBFA;\n",
              "      box-shadow: 0px 1px 2px rgba(60, 64, 67, 0.3), 0px 1px 3px 1px rgba(60, 64, 67, 0.15);\n",
              "      fill: #174EA6;\n",
              "    }\n",
              "\n",
              "    .colab-df-buttons div {\n",
              "      margin-bottom: 4px;\n",
              "    }\n",
              "\n",
              "    [theme=dark] .colab-df-convert {\n",
              "      background-color: #3B4455;\n",
              "      fill: #D2E3FC;\n",
              "    }\n",
              "\n",
              "    [theme=dark] .colab-df-convert:hover {\n",
              "      background-color: #434B5C;\n",
              "      box-shadow: 0px 1px 3px 1px rgba(0, 0, 0, 0.15);\n",
              "      filter: drop-shadow(0px 1px 2px rgba(0, 0, 0, 0.3));\n",
              "      fill: #FFFFFF;\n",
              "    }\n",
              "  </style>\n",
              "\n",
              "    <script>\n",
              "      const buttonEl =\n",
              "        document.querySelector('#df-84ee7efe-b04e-4a5f-aa0a-8c7077c28f73 button.colab-df-convert');\n",
              "      buttonEl.style.display =\n",
              "        google.colab.kernel.accessAllowed ? 'block' : 'none';\n",
              "\n",
              "      async function convertToInteractive(key) {\n",
              "        const element = document.querySelector('#df-84ee7efe-b04e-4a5f-aa0a-8c7077c28f73');\n",
              "        const dataTable =\n",
              "          await google.colab.kernel.invokeFunction('convertToInteractive',\n",
              "                                                    [key], {});\n",
              "        if (!dataTable) return;\n",
              "\n",
              "        const docLinkHtml = 'Like what you see? Visit the ' +\n",
              "          '<a target=\"_blank\" href=https://colab.research.google.com/notebooks/data_table.ipynb>data table notebook</a>'\n",
              "          + ' to learn more about interactive tables.';\n",
              "        element.innerHTML = '';\n",
              "        dataTable['output_type'] = 'display_data';\n",
              "        await google.colab.output.renderOutput(dataTable, element);\n",
              "        const docLink = document.createElement('div');\n",
              "        docLink.innerHTML = docLinkHtml;\n",
              "        element.appendChild(docLink);\n",
              "      }\n",
              "    </script>\n",
              "  </div>\n",
              "\n",
              "\n",
              "<div id=\"df-1a3c0f0c-21fd-4bbb-9e63-7461284ba9eb\">\n",
              "  <button class=\"colab-df-quickchart\" onclick=\"quickchart('df-1a3c0f0c-21fd-4bbb-9e63-7461284ba9eb')\"\n",
              "            title=\"Suggest charts\"\n",
              "            style=\"display:none;\">\n",
              "\n",
              "<svg xmlns=\"http://www.w3.org/2000/svg\" height=\"24px\"viewBox=\"0 0 24 24\"\n",
              "     width=\"24px\">\n",
              "    <g>\n",
              "        <path d=\"M19 3H5c-1.1 0-2 .9-2 2v14c0 1.1.9 2 2 2h14c1.1 0 2-.9 2-2V5c0-1.1-.9-2-2-2zM9 17H7v-7h2v7zm4 0h-2V7h2v10zm4 0h-2v-4h2v4z\"/>\n",
              "    </g>\n",
              "</svg>\n",
              "  </button>\n",
              "\n",
              "<style>\n",
              "  .colab-df-quickchart {\n",
              "      --bg-color: #E8F0FE;\n",
              "      --fill-color: #1967D2;\n",
              "      --hover-bg-color: #E2EBFA;\n",
              "      --hover-fill-color: #174EA6;\n",
              "      --disabled-fill-color: #AAA;\n",
              "      --disabled-bg-color: #DDD;\n",
              "  }\n",
              "\n",
              "  [theme=dark] .colab-df-quickchart {\n",
              "      --bg-color: #3B4455;\n",
              "      --fill-color: #D2E3FC;\n",
              "      --hover-bg-color: #434B5C;\n",
              "      --hover-fill-color: #FFFFFF;\n",
              "      --disabled-bg-color: #3B4455;\n",
              "      --disabled-fill-color: #666;\n",
              "  }\n",
              "\n",
              "  .colab-df-quickchart {\n",
              "    background-color: var(--bg-color);\n",
              "    border: none;\n",
              "    border-radius: 50%;\n",
              "    cursor: pointer;\n",
              "    display: none;\n",
              "    fill: var(--fill-color);\n",
              "    height: 32px;\n",
              "    padding: 0;\n",
              "    width: 32px;\n",
              "  }\n",
              "\n",
              "  .colab-df-quickchart:hover {\n",
              "    background-color: var(--hover-bg-color);\n",
              "    box-shadow: 0 1px 2px rgba(60, 64, 67, 0.3), 0 1px 3px 1px rgba(60, 64, 67, 0.15);\n",
              "    fill: var(--button-hover-fill-color);\n",
              "  }\n",
              "\n",
              "  .colab-df-quickchart-complete:disabled,\n",
              "  .colab-df-quickchart-complete:disabled:hover {\n",
              "    background-color: var(--disabled-bg-color);\n",
              "    fill: var(--disabled-fill-color);\n",
              "    box-shadow: none;\n",
              "  }\n",
              "\n",
              "  .colab-df-spinner {\n",
              "    border: 2px solid var(--fill-color);\n",
              "    border-color: transparent;\n",
              "    border-bottom-color: var(--fill-color);\n",
              "    animation:\n",
              "      spin 1s steps(1) infinite;\n",
              "  }\n",
              "\n",
              "  @keyframes spin {\n",
              "    0% {\n",
              "      border-color: transparent;\n",
              "      border-bottom-color: var(--fill-color);\n",
              "      border-left-color: var(--fill-color);\n",
              "    }\n",
              "    20% {\n",
              "      border-color: transparent;\n",
              "      border-left-color: var(--fill-color);\n",
              "      border-top-color: var(--fill-color);\n",
              "    }\n",
              "    30% {\n",
              "      border-color: transparent;\n",
              "      border-left-color: var(--fill-color);\n",
              "      border-top-color: var(--fill-color);\n",
              "      border-right-color: var(--fill-color);\n",
              "    }\n",
              "    40% {\n",
              "      border-color: transparent;\n",
              "      border-right-color: var(--fill-color);\n",
              "      border-top-color: var(--fill-color);\n",
              "    }\n",
              "    60% {\n",
              "      border-color: transparent;\n",
              "      border-right-color: var(--fill-color);\n",
              "    }\n",
              "    80% {\n",
              "      border-color: transparent;\n",
              "      border-right-color: var(--fill-color);\n",
              "      border-bottom-color: var(--fill-color);\n",
              "    }\n",
              "    90% {\n",
              "      border-color: transparent;\n",
              "      border-bottom-color: var(--fill-color);\n",
              "    }\n",
              "  }\n",
              "</style>\n",
              "\n",
              "  <script>\n",
              "    async function quickchart(key) {\n",
              "      const quickchartButtonEl =\n",
              "        document.querySelector('#' + key + ' button');\n",
              "      quickchartButtonEl.disabled = true;  // To prevent multiple clicks.\n",
              "      quickchartButtonEl.classList.add('colab-df-spinner');\n",
              "      try {\n",
              "        const charts = await google.colab.kernel.invokeFunction(\n",
              "            'suggestCharts', [key], {});\n",
              "      } catch (error) {\n",
              "        console.error('Error during call to suggestCharts:', error);\n",
              "      }\n",
              "      quickchartButtonEl.classList.remove('colab-df-spinner');\n",
              "      quickchartButtonEl.classList.add('colab-df-quickchart-complete');\n",
              "    }\n",
              "    (() => {\n",
              "      let quickchartButtonEl =\n",
              "        document.querySelector('#df-1a3c0f0c-21fd-4bbb-9e63-7461284ba9eb button');\n",
              "      quickchartButtonEl.style.display =\n",
              "        google.colab.kernel.accessAllowed ? 'block' : 'none';\n",
              "    })();\n",
              "  </script>\n",
              "</div>\n",
              "\n",
              "    </div>\n",
              "  </div>\n"
            ]
          },
          "metadata": {},
          "execution_count": 130
        }
      ]
    },
    {
      "cell_type": "markdown",
      "metadata": {
        "id": "w1d10CeIRFAx"
      },
      "source": [
        "Now we have replaced the useless NaN values with the average height. While this obviously isn't as good as original data, in a lot of situations this can be a step up from losing rows entirely."
      ]
    },
    {
      "cell_type": "markdown",
      "metadata": {
        "id": "B0yOTccaRHMj"
      },
      "source": [
        "Sophisticated analysis can be done in only a few lines using Pandas. Let's say that we want to get the average coffee rating by country. First, we can use the groupby method to automatically collect the results by country. Then, we can select the column we want - quality_score - and calculate its mean the same way we would using NumPy:"
      ]
    },
    {
      "cell_type": "code",
      "metadata": {
        "colab": {
          "base_uri": "https://localhost:8080/"
        },
        "id": "EHoFo7OvRAbD",
        "outputId": "6dec0ab2-b490-49d4-dc64-1823cdfdf03e"
      },
      "source": [
        "df_clean.groupby('Country of Origin')['quality_score'].mean()"
      ],
      "execution_count": null,
      "outputs": [
        {
          "output_type": "execute_result",
          "data": {
            "text/plain": [
              "Country of Origin\n",
              "Brazil                          82.330725\n",
              "China                           80.868000\n",
              "Colombia                        82.932000\n",
              "Costa Rica                      83.090000\n",
              "El Salvador                     82.804545\n",
              "Ethiopia                        87.792500\n",
              "Guatemala                       81.957832\n",
              "Haiti                           80.750000\n",
              "Honduras                        81.010476\n",
              "Indonesia                       81.524286\n",
              "Kenya                           85.415000\n",
              "Laos                            82.000000\n",
              "Malawi                          81.711818\n",
              "Mexico                          80.246087\n",
              "Myanmar                         80.666667\n",
              "Nicaragua                       79.333000\n",
              "Panama                          81.750000\n",
              "Peru                            77.000000\n",
              "Philippines                     80.312500\n",
              "Taiwan                          82.462895\n",
              "Tanzania, United Republic Of    82.411724\n",
              "Uganda                          83.778333\n",
              "Name: quality_score, dtype: float64"
            ]
          },
          "metadata": {},
          "execution_count": 131
        }
      ]
    },
    {
      "cell_type": "markdown",
      "metadata": {
        "id": "7LqQ4npGRLOB"
      },
      "source": [
        "This is certainly interesting, but it could be presented better. First, all of the ratings are pretty high (what's the highest and lowest rating?). Let's standardize to unit mean and variance so that we can tell the difference more easily. We'll just do that on our subset here for now, but you can apply it to the entire dataset too!"
      ]
    },
    {
      "cell_type": "code",
      "metadata": {
        "colab": {
          "base_uri": "https://localhost:8080/"
        },
        "id": "TRjoD8rsRI00",
        "outputId": "11dbfd55-946e-43ec-c2e5-51062f767731"
      },
      "source": [
        "country_means = df_clean.groupby('Country of Origin')['quality_score'].mean()\n",
        "mu,si = country_means.mean(), country_means.std() #Calculate the overall mean and standard deviation of the quality scores\n",
        "country_means -= mu #Subtract the mean from every entry\n",
        "country_means /= si #Divide every entry by the standard deviation\n",
        "country_means"
      ],
      "execution_count": null,
      "outputs": [
        {
          "output_type": "execute_result",
          "data": {
            "text/plain": [
              "Country of Origin\n",
              "Brazil                          0.194625\n",
              "China                          -0.491541\n",
              "Colombia                        0.476684\n",
              "Costa Rica                      0.550802\n",
              "El Salvador                     0.416895\n",
              "Ethiopia                        2.756749\n",
              "Guatemala                       0.019701\n",
              "Haiti                          -0.546895\n",
              "Honduras                       -0.424705\n",
              "Indonesia                      -0.183677\n",
              "Kenya                           1.641462\n",
              "Laos                            0.039482\n",
              "Malawi                         -0.095705\n",
              "Mexico                         -0.783281\n",
              "Myanmar                        -0.585987\n",
              "Nicaragua                      -1.211611\n",
              "Panama                         -0.077794\n",
              "Peru                           -2.306024\n",
              "Philippines                    -0.752127\n",
              "Taiwan                          0.256626\n",
              "Tanzania, United Republic Of    0.232622\n",
              "Uganda                          0.873700\n",
              "Name: quality_score, dtype: float64"
            ]
          },
          "metadata": {},
          "execution_count": 132
        }
      ]
    },
    {
      "cell_type": "code",
      "metadata": {
        "colab": {
          "base_uri": "https://localhost:8080/"
        },
        "id": "VvhJSX7tRNGX",
        "outputId": "047cacaf-533b-4782-d63a-af9533b107f1"
      },
      "source": [
        "country_means.sort_values()"
      ],
      "execution_count": null,
      "outputs": [
        {
          "output_type": "execute_result",
          "data": {
            "text/plain": [
              "Country of Origin\n",
              "Peru                           -2.306024\n",
              "Nicaragua                      -1.211611\n",
              "Mexico                         -0.783281\n",
              "Philippines                    -0.752127\n",
              "Myanmar                        -0.585987\n",
              "Haiti                          -0.546895\n",
              "China                          -0.491541\n",
              "Honduras                       -0.424705\n",
              "Indonesia                      -0.183677\n",
              "Malawi                         -0.095705\n",
              "Panama                         -0.077794\n",
              "Guatemala                       0.019701\n",
              "Laos                            0.039482\n",
              "Brazil                          0.194625\n",
              "Tanzania, United Republic Of    0.232622\n",
              "Taiwan                          0.256626\n",
              "El Salvador                     0.416895\n",
              "Colombia                        0.476684\n",
              "Costa Rica                      0.550802\n",
              "Uganda                          0.873700\n",
              "Kenya                           1.641462\n",
              "Ethiopia                        2.756749\n",
              "Name: quality_score, dtype: float64"
            ]
          },
          "metadata": {},
          "execution_count": 133
        }
      ]
    },
    {
      "cell_type": "markdown",
      "metadata": {
        "id": "4GvjgCswRWgv"
      },
      "source": [
        "Finally, we'll look at indexing using Pandas. Let's say that we want to only look at the coffee entries from Taiwan. We can use the following syntax to identify those rows:"
      ]
    },
    {
      "cell_type": "code",
      "metadata": {
        "colab": {
          "base_uri": "https://localhost:8080/",
          "height": 808
        },
        "id": "iYJFoVAgRTNr",
        "outputId": "11170a94-6ac1-4e4b-8126-ec4404bb3590"
      },
      "source": [
        "df_clean[df_clean['Country of Origin'] == 'Brazil']"
      ],
      "execution_count": null,
      "outputs": [
        {
          "output_type": "execute_result",
          "data": {
            "text/plain": [
              "      Acidity  Aftertaste  Aroma Bag Weight  Balance  Body  \\\n",
              "225      7.67        7.75   7.58       2 kg     8.00  7.67   \n",
              "251      7.25        7.67   7.58      60 kg     7.75  8.00   \n",
              "258      7.50        7.58   7.50      60 kg     7.50  7.58   \n",
              "261      7.75        7.67   7.58      60 kg     7.83  7.58   \n",
              "279      8.00        7.42   7.25       2 kg     7.83  7.75   \n",
              "...       ...         ...    ...        ...      ...   ...   \n",
              "1063     7.00        7.33   7.42       2 kg     7.25  7.08   \n",
              "1072     7.50        7.17   7.25      60 kg     7.25  7.33   \n",
              "1075     7.33        7.08   7.42      60 kg     7.50  7.67   \n",
              "1094     7.08        7.42   7.17      59 kg     7.00  7.00   \n",
              "1253     7.00        6.33   7.08      60 kg     7.00  6.92   \n",
              "\n",
              "      Category.One.Defects  Category.Two.Defects  Clean Cup  Color  ...  \\\n",
              "225                      0                     3      10.00  Green  ...   \n",
              "251                      0                     0      10.00  Green  ...   \n",
              "258                      0                     3      10.00  Green  ...   \n",
              "261                      0                     7      10.00  Green  ...   \n",
              "279                      0                     0      10.00  Green  ...   \n",
              "...                    ...                   ...        ...    ...  ...   \n",
              "1063                     0                     3      10.00  Green  ...   \n",
              "1072                     0                     3      10.00  Green  ...   \n",
              "1075                     0                    10       9.33   None  ...   \n",
              "1094                     0                     1      10.00  Green  ...   \n",
              "1253                     2                    15       8.00  Green  ...   \n",
              "\n",
              "                                   Producer  \\\n",
              "225                         Café do Paraíso   \n",
              "251                         Ipanema Coffees   \n",
              "258                    Ipanema Agricola S.A   \n",
              "261                        Ipanema Agricola   \n",
              "279                     Ipanema Agrícola SA   \n",
              "...                                     ...   \n",
              "1063                    Ipanema Agrícola SA   \n",
              "1072             Lindolpho de Carvalho Dias   \n",
              "1075            MARIA ROGERIA COSTA PEREIRA   \n",
              "1094          Luiz Augusto Pereira Moguilod   \n",
              "1253  MARGARITA DE NUYENS Y/O CARLOS NUYENS   \n",
              "\n",
              "                                      Region  Species Sweetness Uniformity  \\\n",
              "225                         minas gerais, br  Arabica      10.0      10.00   \n",
              "251                           south of minas  Arabica      10.0      10.00   \n",
              "258                           south of minas  Arabica      10.0      10.00   \n",
              "261                           south of minas  Arabica      10.0      10.00   \n",
              "279                           south of minas  Arabica      10.0      10.00   \n",
              "...                                      ...      ...       ...        ...   \n",
              "1063                          south of minas  Arabica      10.0      10.00   \n",
              "1072                           vale da grama  Arabica      10.0       9.33   \n",
              "1075                    mantiqueira de minas  Arabica      10.0       9.33   \n",
              "1094  cerrado - monte carmelo - minas gerais  Arabica      10.0      10.00   \n",
              "1253                                 oriente  Arabica      10.0      10.00   \n",
              "\n",
              "             Variety altitude_high_meters altitude_low_meters  \\\n",
              "225       Mundo Novo              1183.00              894.00   \n",
              "251   Yellow Bourbon              1260.00             1260.00   \n",
              "258          Bourbon               890.00              890.00   \n",
              "261          Bourbon               934.00              934.00   \n",
              "279   Yellow Bourbon                 1.00                1.00   \n",
              "...              ...                  ...                 ...   \n",
              "1063         Bourbon              1200.00             1200.00   \n",
              "1072  Yellow Bourbon              1250.00             1250.00   \n",
              "1075  Yellow Bourbon              1250.00             1250.00   \n",
              "1094          Catuai               995.00              995.00   \n",
              "1253         Bourbon              1310.64             1310.64   \n",
              "\n",
              "     altitude_mean_meters quality_score  \n",
              "225               1038.50         84.17  \n",
              "251               1260.00         84.00  \n",
              "258                890.00         83.92  \n",
              "261                934.00         83.92  \n",
              "279                  1.00         83.83  \n",
              "...                   ...           ...  \n",
              "1063              1200.00         80.58  \n",
              "1072              1250.00         80.50  \n",
              "1075              1250.00         80.50  \n",
              "1094               995.00         80.25  \n",
              "1253              1310.64         77.33  \n",
              "\n",
              "[69 rows x 34 columns]"
            ],
            "text/html": [
              "\n",
              "  <div id=\"df-3db4b10e-0282-448e-b7dd-50cef11c45aa\" class=\"colab-df-container\">\n",
              "    <div>\n",
              "<style scoped>\n",
              "    .dataframe tbody tr th:only-of-type {\n",
              "        vertical-align: middle;\n",
              "    }\n",
              "\n",
              "    .dataframe tbody tr th {\n",
              "        vertical-align: top;\n",
              "    }\n",
              "\n",
              "    .dataframe thead th {\n",
              "        text-align: right;\n",
              "    }\n",
              "</style>\n",
              "<table border=\"1\" class=\"dataframe\">\n",
              "  <thead>\n",
              "    <tr style=\"text-align: right;\">\n",
              "      <th></th>\n",
              "      <th>Acidity</th>\n",
              "      <th>Aftertaste</th>\n",
              "      <th>Aroma</th>\n",
              "      <th>Bag Weight</th>\n",
              "      <th>Balance</th>\n",
              "      <th>Body</th>\n",
              "      <th>Category.One.Defects</th>\n",
              "      <th>Category.Two.Defects</th>\n",
              "      <th>Clean Cup</th>\n",
              "      <th>Color</th>\n",
              "      <th>...</th>\n",
              "      <th>Producer</th>\n",
              "      <th>Region</th>\n",
              "      <th>Species</th>\n",
              "      <th>Sweetness</th>\n",
              "      <th>Uniformity</th>\n",
              "      <th>Variety</th>\n",
              "      <th>altitude_high_meters</th>\n",
              "      <th>altitude_low_meters</th>\n",
              "      <th>altitude_mean_meters</th>\n",
              "      <th>quality_score</th>\n",
              "    </tr>\n",
              "  </thead>\n",
              "  <tbody>\n",
              "    <tr>\n",
              "      <th>225</th>\n",
              "      <td>7.67</td>\n",
              "      <td>7.75</td>\n",
              "      <td>7.58</td>\n",
              "      <td>2 kg</td>\n",
              "      <td>8.00</td>\n",
              "      <td>7.67</td>\n",
              "      <td>0</td>\n",
              "      <td>3</td>\n",
              "      <td>10.00</td>\n",
              "      <td>Green</td>\n",
              "      <td>...</td>\n",
              "      <td>Café do Paraíso</td>\n",
              "      <td>minas gerais, br</td>\n",
              "      <td>Arabica</td>\n",
              "      <td>10.0</td>\n",
              "      <td>10.00</td>\n",
              "      <td>Mundo Novo</td>\n",
              "      <td>1183.00</td>\n",
              "      <td>894.00</td>\n",
              "      <td>1038.50</td>\n",
              "      <td>84.17</td>\n",
              "    </tr>\n",
              "    <tr>\n",
              "      <th>251</th>\n",
              "      <td>7.25</td>\n",
              "      <td>7.67</td>\n",
              "      <td>7.58</td>\n",
              "      <td>60 kg</td>\n",
              "      <td>7.75</td>\n",
              "      <td>8.00</td>\n",
              "      <td>0</td>\n",
              "      <td>0</td>\n",
              "      <td>10.00</td>\n",
              "      <td>Green</td>\n",
              "      <td>...</td>\n",
              "      <td>Ipanema Coffees</td>\n",
              "      <td>south of minas</td>\n",
              "      <td>Arabica</td>\n",
              "      <td>10.0</td>\n",
              "      <td>10.00</td>\n",
              "      <td>Yellow Bourbon</td>\n",
              "      <td>1260.00</td>\n",
              "      <td>1260.00</td>\n",
              "      <td>1260.00</td>\n",
              "      <td>84.00</td>\n",
              "    </tr>\n",
              "    <tr>\n",
              "      <th>258</th>\n",
              "      <td>7.50</td>\n",
              "      <td>7.58</td>\n",
              "      <td>7.50</td>\n",
              "      <td>60 kg</td>\n",
              "      <td>7.50</td>\n",
              "      <td>7.58</td>\n",
              "      <td>0</td>\n",
              "      <td>3</td>\n",
              "      <td>10.00</td>\n",
              "      <td>Green</td>\n",
              "      <td>...</td>\n",
              "      <td>Ipanema Agricola S.A</td>\n",
              "      <td>south of minas</td>\n",
              "      <td>Arabica</td>\n",
              "      <td>10.0</td>\n",
              "      <td>10.00</td>\n",
              "      <td>Bourbon</td>\n",
              "      <td>890.00</td>\n",
              "      <td>890.00</td>\n",
              "      <td>890.00</td>\n",
              "      <td>83.92</td>\n",
              "    </tr>\n",
              "    <tr>\n",
              "      <th>261</th>\n",
              "      <td>7.75</td>\n",
              "      <td>7.67</td>\n",
              "      <td>7.58</td>\n",
              "      <td>60 kg</td>\n",
              "      <td>7.83</td>\n",
              "      <td>7.58</td>\n",
              "      <td>0</td>\n",
              "      <td>7</td>\n",
              "      <td>10.00</td>\n",
              "      <td>Green</td>\n",
              "      <td>...</td>\n",
              "      <td>Ipanema Agricola</td>\n",
              "      <td>south of minas</td>\n",
              "      <td>Arabica</td>\n",
              "      <td>10.0</td>\n",
              "      <td>10.00</td>\n",
              "      <td>Bourbon</td>\n",
              "      <td>934.00</td>\n",
              "      <td>934.00</td>\n",
              "      <td>934.00</td>\n",
              "      <td>83.92</td>\n",
              "    </tr>\n",
              "    <tr>\n",
              "      <th>279</th>\n",
              "      <td>8.00</td>\n",
              "      <td>7.42</td>\n",
              "      <td>7.25</td>\n",
              "      <td>2 kg</td>\n",
              "      <td>7.83</td>\n",
              "      <td>7.75</td>\n",
              "      <td>0</td>\n",
              "      <td>0</td>\n",
              "      <td>10.00</td>\n",
              "      <td>Green</td>\n",
              "      <td>...</td>\n",
              "      <td>Ipanema Agrícola SA</td>\n",
              "      <td>south of minas</td>\n",
              "      <td>Arabica</td>\n",
              "      <td>10.0</td>\n",
              "      <td>10.00</td>\n",
              "      <td>Yellow Bourbon</td>\n",
              "      <td>1.00</td>\n",
              "      <td>1.00</td>\n",
              "      <td>1.00</td>\n",
              "      <td>83.83</td>\n",
              "    </tr>\n",
              "    <tr>\n",
              "      <th>...</th>\n",
              "      <td>...</td>\n",
              "      <td>...</td>\n",
              "      <td>...</td>\n",
              "      <td>...</td>\n",
              "      <td>...</td>\n",
              "      <td>...</td>\n",
              "      <td>...</td>\n",
              "      <td>...</td>\n",
              "      <td>...</td>\n",
              "      <td>...</td>\n",
              "      <td>...</td>\n",
              "      <td>...</td>\n",
              "      <td>...</td>\n",
              "      <td>...</td>\n",
              "      <td>...</td>\n",
              "      <td>...</td>\n",
              "      <td>...</td>\n",
              "      <td>...</td>\n",
              "      <td>...</td>\n",
              "      <td>...</td>\n",
              "      <td>...</td>\n",
              "    </tr>\n",
              "    <tr>\n",
              "      <th>1063</th>\n",
              "      <td>7.00</td>\n",
              "      <td>7.33</td>\n",
              "      <td>7.42</td>\n",
              "      <td>2 kg</td>\n",
              "      <td>7.25</td>\n",
              "      <td>7.08</td>\n",
              "      <td>0</td>\n",
              "      <td>3</td>\n",
              "      <td>10.00</td>\n",
              "      <td>Green</td>\n",
              "      <td>...</td>\n",
              "      <td>Ipanema Agrícola SA</td>\n",
              "      <td>south of minas</td>\n",
              "      <td>Arabica</td>\n",
              "      <td>10.0</td>\n",
              "      <td>10.00</td>\n",
              "      <td>Bourbon</td>\n",
              "      <td>1200.00</td>\n",
              "      <td>1200.00</td>\n",
              "      <td>1200.00</td>\n",
              "      <td>80.58</td>\n",
              "    </tr>\n",
              "    <tr>\n",
              "      <th>1072</th>\n",
              "      <td>7.50</td>\n",
              "      <td>7.17</td>\n",
              "      <td>7.25</td>\n",
              "      <td>60 kg</td>\n",
              "      <td>7.25</td>\n",
              "      <td>7.33</td>\n",
              "      <td>0</td>\n",
              "      <td>3</td>\n",
              "      <td>10.00</td>\n",
              "      <td>Green</td>\n",
              "      <td>...</td>\n",
              "      <td>Lindolpho de Carvalho Dias</td>\n",
              "      <td>vale da grama</td>\n",
              "      <td>Arabica</td>\n",
              "      <td>10.0</td>\n",
              "      <td>9.33</td>\n",
              "      <td>Yellow Bourbon</td>\n",
              "      <td>1250.00</td>\n",
              "      <td>1250.00</td>\n",
              "      <td>1250.00</td>\n",
              "      <td>80.50</td>\n",
              "    </tr>\n",
              "    <tr>\n",
              "      <th>1075</th>\n",
              "      <td>7.33</td>\n",
              "      <td>7.08</td>\n",
              "      <td>7.42</td>\n",
              "      <td>60 kg</td>\n",
              "      <td>7.50</td>\n",
              "      <td>7.67</td>\n",
              "      <td>0</td>\n",
              "      <td>10</td>\n",
              "      <td>9.33</td>\n",
              "      <td>None</td>\n",
              "      <td>...</td>\n",
              "      <td>MARIA ROGERIA COSTA PEREIRA</td>\n",
              "      <td>mantiqueira de minas</td>\n",
              "      <td>Arabica</td>\n",
              "      <td>10.0</td>\n",
              "      <td>9.33</td>\n",
              "      <td>Yellow Bourbon</td>\n",
              "      <td>1250.00</td>\n",
              "      <td>1250.00</td>\n",
              "      <td>1250.00</td>\n",
              "      <td>80.50</td>\n",
              "    </tr>\n",
              "    <tr>\n",
              "      <th>1094</th>\n",
              "      <td>7.08</td>\n",
              "      <td>7.42</td>\n",
              "      <td>7.17</td>\n",
              "      <td>59 kg</td>\n",
              "      <td>7.00</td>\n",
              "      <td>7.00</td>\n",
              "      <td>0</td>\n",
              "      <td>1</td>\n",
              "      <td>10.00</td>\n",
              "      <td>Green</td>\n",
              "      <td>...</td>\n",
              "      <td>Luiz Augusto Pereira Moguilod</td>\n",
              "      <td>cerrado - monte carmelo - minas gerais</td>\n",
              "      <td>Arabica</td>\n",
              "      <td>10.0</td>\n",
              "      <td>10.00</td>\n",
              "      <td>Catuai</td>\n",
              "      <td>995.00</td>\n",
              "      <td>995.00</td>\n",
              "      <td>995.00</td>\n",
              "      <td>80.25</td>\n",
              "    </tr>\n",
              "    <tr>\n",
              "      <th>1253</th>\n",
              "      <td>7.00</td>\n",
              "      <td>6.33</td>\n",
              "      <td>7.08</td>\n",
              "      <td>60 kg</td>\n",
              "      <td>7.00</td>\n",
              "      <td>6.92</td>\n",
              "      <td>2</td>\n",
              "      <td>15</td>\n",
              "      <td>8.00</td>\n",
              "      <td>Green</td>\n",
              "      <td>...</td>\n",
              "      <td>MARGARITA DE NUYENS Y/O CARLOS NUYENS</td>\n",
              "      <td>oriente</td>\n",
              "      <td>Arabica</td>\n",
              "      <td>10.0</td>\n",
              "      <td>10.00</td>\n",
              "      <td>Bourbon</td>\n",
              "      <td>1310.64</td>\n",
              "      <td>1310.64</td>\n",
              "      <td>1310.64</td>\n",
              "      <td>77.33</td>\n",
              "    </tr>\n",
              "  </tbody>\n",
              "</table>\n",
              "<p>69 rows × 34 columns</p>\n",
              "</div>\n",
              "    <div class=\"colab-df-buttons\">\n",
              "\n",
              "  <div class=\"colab-df-container\">\n",
              "    <button class=\"colab-df-convert\" onclick=\"convertToInteractive('df-3db4b10e-0282-448e-b7dd-50cef11c45aa')\"\n",
              "            title=\"Convert this dataframe to an interactive table.\"\n",
              "            style=\"display:none;\">\n",
              "\n",
              "  <svg xmlns=\"http://www.w3.org/2000/svg\" height=\"24px\" viewBox=\"0 -960 960 960\">\n",
              "    <path d=\"M120-120v-720h720v720H120Zm60-500h600v-160H180v160Zm220 220h160v-160H400v160Zm0 220h160v-160H400v160ZM180-400h160v-160H180v160Zm440 0h160v-160H620v160ZM180-180h160v-160H180v160Zm440 0h160v-160H620v160Z\"/>\n",
              "  </svg>\n",
              "    </button>\n",
              "\n",
              "  <style>\n",
              "    .colab-df-container {\n",
              "      display:flex;\n",
              "      gap: 12px;\n",
              "    }\n",
              "\n",
              "    .colab-df-convert {\n",
              "      background-color: #E8F0FE;\n",
              "      border: none;\n",
              "      border-radius: 50%;\n",
              "      cursor: pointer;\n",
              "      display: none;\n",
              "      fill: #1967D2;\n",
              "      height: 32px;\n",
              "      padding: 0 0 0 0;\n",
              "      width: 32px;\n",
              "    }\n",
              "\n",
              "    .colab-df-convert:hover {\n",
              "      background-color: #E2EBFA;\n",
              "      box-shadow: 0px 1px 2px rgba(60, 64, 67, 0.3), 0px 1px 3px 1px rgba(60, 64, 67, 0.15);\n",
              "      fill: #174EA6;\n",
              "    }\n",
              "\n",
              "    .colab-df-buttons div {\n",
              "      margin-bottom: 4px;\n",
              "    }\n",
              "\n",
              "    [theme=dark] .colab-df-convert {\n",
              "      background-color: #3B4455;\n",
              "      fill: #D2E3FC;\n",
              "    }\n",
              "\n",
              "    [theme=dark] .colab-df-convert:hover {\n",
              "      background-color: #434B5C;\n",
              "      box-shadow: 0px 1px 3px 1px rgba(0, 0, 0, 0.15);\n",
              "      filter: drop-shadow(0px 1px 2px rgba(0, 0, 0, 0.3));\n",
              "      fill: #FFFFFF;\n",
              "    }\n",
              "  </style>\n",
              "\n",
              "    <script>\n",
              "      const buttonEl =\n",
              "        document.querySelector('#df-3db4b10e-0282-448e-b7dd-50cef11c45aa button.colab-df-convert');\n",
              "      buttonEl.style.display =\n",
              "        google.colab.kernel.accessAllowed ? 'block' : 'none';\n",
              "\n",
              "      async function convertToInteractive(key) {\n",
              "        const element = document.querySelector('#df-3db4b10e-0282-448e-b7dd-50cef11c45aa');\n",
              "        const dataTable =\n",
              "          await google.colab.kernel.invokeFunction('convertToInteractive',\n",
              "                                                    [key], {});\n",
              "        if (!dataTable) return;\n",
              "\n",
              "        const docLinkHtml = 'Like what you see? Visit the ' +\n",
              "          '<a target=\"_blank\" href=https://colab.research.google.com/notebooks/data_table.ipynb>data table notebook</a>'\n",
              "          + ' to learn more about interactive tables.';\n",
              "        element.innerHTML = '';\n",
              "        dataTable['output_type'] = 'display_data';\n",
              "        await google.colab.output.renderOutput(dataTable, element);\n",
              "        const docLink = document.createElement('div');\n",
              "        docLink.innerHTML = docLinkHtml;\n",
              "        element.appendChild(docLink);\n",
              "      }\n",
              "    </script>\n",
              "  </div>\n",
              "\n",
              "\n",
              "<div id=\"df-179e08f1-98c9-4038-a57e-35eea883d8c0\">\n",
              "  <button class=\"colab-df-quickchart\" onclick=\"quickchart('df-179e08f1-98c9-4038-a57e-35eea883d8c0')\"\n",
              "            title=\"Suggest charts\"\n",
              "            style=\"display:none;\">\n",
              "\n",
              "<svg xmlns=\"http://www.w3.org/2000/svg\" height=\"24px\"viewBox=\"0 0 24 24\"\n",
              "     width=\"24px\">\n",
              "    <g>\n",
              "        <path d=\"M19 3H5c-1.1 0-2 .9-2 2v14c0 1.1.9 2 2 2h14c1.1 0 2-.9 2-2V5c0-1.1-.9-2-2-2zM9 17H7v-7h2v7zm4 0h-2V7h2v10zm4 0h-2v-4h2v4z\"/>\n",
              "    </g>\n",
              "</svg>\n",
              "  </button>\n",
              "\n",
              "<style>\n",
              "  .colab-df-quickchart {\n",
              "      --bg-color: #E8F0FE;\n",
              "      --fill-color: #1967D2;\n",
              "      --hover-bg-color: #E2EBFA;\n",
              "      --hover-fill-color: #174EA6;\n",
              "      --disabled-fill-color: #AAA;\n",
              "      --disabled-bg-color: #DDD;\n",
              "  }\n",
              "\n",
              "  [theme=dark] .colab-df-quickchart {\n",
              "      --bg-color: #3B4455;\n",
              "      --fill-color: #D2E3FC;\n",
              "      --hover-bg-color: #434B5C;\n",
              "      --hover-fill-color: #FFFFFF;\n",
              "      --disabled-bg-color: #3B4455;\n",
              "      --disabled-fill-color: #666;\n",
              "  }\n",
              "\n",
              "  .colab-df-quickchart {\n",
              "    background-color: var(--bg-color);\n",
              "    border: none;\n",
              "    border-radius: 50%;\n",
              "    cursor: pointer;\n",
              "    display: none;\n",
              "    fill: var(--fill-color);\n",
              "    height: 32px;\n",
              "    padding: 0;\n",
              "    width: 32px;\n",
              "  }\n",
              "\n",
              "  .colab-df-quickchart:hover {\n",
              "    background-color: var(--hover-bg-color);\n",
              "    box-shadow: 0 1px 2px rgba(60, 64, 67, 0.3), 0 1px 3px 1px rgba(60, 64, 67, 0.15);\n",
              "    fill: var(--button-hover-fill-color);\n",
              "  }\n",
              "\n",
              "  .colab-df-quickchart-complete:disabled,\n",
              "  .colab-df-quickchart-complete:disabled:hover {\n",
              "    background-color: var(--disabled-bg-color);\n",
              "    fill: var(--disabled-fill-color);\n",
              "    box-shadow: none;\n",
              "  }\n",
              "\n",
              "  .colab-df-spinner {\n",
              "    border: 2px solid var(--fill-color);\n",
              "    border-color: transparent;\n",
              "    border-bottom-color: var(--fill-color);\n",
              "    animation:\n",
              "      spin 1s steps(1) infinite;\n",
              "  }\n",
              "\n",
              "  @keyframes spin {\n",
              "    0% {\n",
              "      border-color: transparent;\n",
              "      border-bottom-color: var(--fill-color);\n",
              "      border-left-color: var(--fill-color);\n",
              "    }\n",
              "    20% {\n",
              "      border-color: transparent;\n",
              "      border-left-color: var(--fill-color);\n",
              "      border-top-color: var(--fill-color);\n",
              "    }\n",
              "    30% {\n",
              "      border-color: transparent;\n",
              "      border-left-color: var(--fill-color);\n",
              "      border-top-color: var(--fill-color);\n",
              "      border-right-color: var(--fill-color);\n",
              "    }\n",
              "    40% {\n",
              "      border-color: transparent;\n",
              "      border-right-color: var(--fill-color);\n",
              "      border-top-color: var(--fill-color);\n",
              "    }\n",
              "    60% {\n",
              "      border-color: transparent;\n",
              "      border-right-color: var(--fill-color);\n",
              "    }\n",
              "    80% {\n",
              "      border-color: transparent;\n",
              "      border-right-color: var(--fill-color);\n",
              "      border-bottom-color: var(--fill-color);\n",
              "    }\n",
              "    90% {\n",
              "      border-color: transparent;\n",
              "      border-bottom-color: var(--fill-color);\n",
              "    }\n",
              "  }\n",
              "</style>\n",
              "\n",
              "  <script>\n",
              "    async function quickchart(key) {\n",
              "      const quickchartButtonEl =\n",
              "        document.querySelector('#' + key + ' button');\n",
              "      quickchartButtonEl.disabled = true;  // To prevent multiple clicks.\n",
              "      quickchartButtonEl.classList.add('colab-df-spinner');\n",
              "      try {\n",
              "        const charts = await google.colab.kernel.invokeFunction(\n",
              "            'suggestCharts', [key], {});\n",
              "      } catch (error) {\n",
              "        console.error('Error during call to suggestCharts:', error);\n",
              "      }\n",
              "      quickchartButtonEl.classList.remove('colab-df-spinner');\n",
              "      quickchartButtonEl.classList.add('colab-df-quickchart-complete');\n",
              "    }\n",
              "    (() => {\n",
              "      let quickchartButtonEl =\n",
              "        document.querySelector('#df-179e08f1-98c9-4038-a57e-35eea883d8c0 button');\n",
              "      quickchartButtonEl.style.display =\n",
              "        google.colab.kernel.accessAllowed ? 'block' : 'none';\n",
              "    })();\n",
              "  </script>\n",
              "</div>\n",
              "\n",
              "    </div>\n",
              "  </div>\n"
            ]
          },
          "metadata": {},
          "execution_count": 134
        }
      ]
    },
    {
      "cell_type": "markdown",
      "metadata": {
        "id": "n_QouEfORhz3"
      },
      "source": [
        "Say that out of the Brazilian coffees, we only want to look at those which are the Bourbon variety. We can also chain those indexing operations like so:"
      ]
    },
    {
      "cell_type": "code",
      "metadata": {
        "colab": {
          "base_uri": "https://localhost:8080/",
          "height": 1000
        },
        "id": "Dgw--L2VRX1e",
        "outputId": "8e120da6-8857-40a6-8526-583dcfad5e65"
      },
      "source": [
        "df_clean[df_clean['Country of Origin'] == 'Brazil'][df_clean['Variety'] == 'Bourbon']"
      ],
      "execution_count": null,
      "outputs": [
        {
          "output_type": "stream",
          "name": "stderr",
          "text": [
            "<ipython-input-135-244ca1ce0048>:1: UserWarning: Boolean Series key will be reindexed to match DataFrame index.\n",
            "  df_clean[df_clean['Country of Origin'] == 'Brazil'][df_clean['Variety'] == 'Bourbon']\n"
          ]
        },
        {
          "output_type": "execute_result",
          "data": {
            "text/plain": [
              "      Acidity  Aftertaste  Aroma Bag Weight  Balance  Body  \\\n",
              "258      7.50        7.58   7.50      60 kg     7.50  7.58   \n",
              "261      7.75        7.67   7.58      60 kg     7.83  7.58   \n",
              "282      7.50        7.58   7.67       2 kg     8.17  7.83   \n",
              "296      7.75        7.58   7.67      60 kg     7.67  7.67   \n",
              "314      7.67        7.50   7.67      60 kg     7.50  7.67   \n",
              "318      7.75        7.58   7.58      60 kg     7.58  7.58   \n",
              "335      7.58        7.58   7.58      60 kg     7.58  7.67   \n",
              "441      7.58        7.50   7.67      60 kg     7.58  7.67   \n",
              "485      7.42        7.67   7.58       2 kg     7.50  7.42   \n",
              "497      7.75        7.50   7.58      60 kg     7.50  7.67   \n",
              "498      7.67        7.58   7.50      60 kg     7.50  7.58   \n",
              "499      7.67        7.58   7.50      60 kg     7.42  7.58   \n",
              "533      7.58        7.50   7.67      60 kg     7.50  7.58   \n",
              "607      7.75        7.25   7.50      60 kg     7.50  7.58   \n",
              "608      7.67        7.50   7.50      60 kg     7.42  7.50   \n",
              "653      7.50        7.50   7.50      60 kg     7.50  7.58   \n",
              "670      7.67        7.33   7.67      60 kg     7.50  7.50   \n",
              "708      7.50        7.42   7.50      60 kg     7.50  7.42   \n",
              "712      8.33        7.25   8.25       2 kg     8.08  8.17   \n",
              "716      8.08        7.67   7.75       2 kg     8.00  8.08   \n",
              "741      7.42        7.42   7.75       2 kg     7.33  7.33   \n",
              "756      7.42        7.50   7.42      60 kg     7.50  7.42   \n",
              "779      7.50        7.42   7.42      60 kg     7.25  7.42   \n",
              "796      7.50        7.42   7.50      60 kg     7.42  7.33   \n",
              "847      7.17        7.25   7.33       2 kg     7.33  7.83   \n",
              "852      7.42        7.50   7.75      60 kg     7.75  7.83   \n",
              "870      7.50        7.25   7.42      60 kg     7.25  7.50   \n",
              "880      7.50        7.25   7.25       2 kg     7.42  7.50   \n",
              "930      7.42        7.17   7.50       1 kg     7.33  7.50   \n",
              "940      7.17        7.42   7.25       2 kg     7.33  7.33   \n",
              "1022     7.25        7.17   7.17       2 kg     7.33  7.25   \n",
              "1063     7.00        7.33   7.42       2 kg     7.25  7.08   \n",
              "1253     7.00        6.33   7.08      60 kg     7.00  6.92   \n",
              "\n",
              "      Category.One.Defects  Category.Two.Defects  Clean Cup         Color  \\\n",
              "258                      0                     3      10.00         Green   \n",
              "261                      0                     7      10.00         Green   \n",
              "282                      0                     1      10.00         Green   \n",
              "296                      0                     5      10.00         Green   \n",
              "314                      0                     2      10.00         Green   \n",
              "318                      0                     3      10.00         Green   \n",
              "335                      0                     5      10.00         Green   \n",
              "441                      0                     4      10.00         Green   \n",
              "485                      0                     1      10.00         Green   \n",
              "497                      0                     4      10.00         Green   \n",
              "498                      0                     5      10.00         Green   \n",
              "499                      0                     3      10.00  Bluish-Green   \n",
              "533                      0                     0      10.00         Green   \n",
              "607                      0                     4      10.00         Green   \n",
              "608                      0                     3      10.00  Bluish-Green   \n",
              "653                      0                     4      10.00         Green   \n",
              "670                      0                     4      10.00    Blue-Green   \n",
              "708                      0                     3      10.00  Bluish-Green   \n",
              "712                      0                     0       6.67         Green   \n",
              "716                      0                     0      10.00    Blue-Green   \n",
              "741                      0                     0      10.00         Green   \n",
              "756                      0                     5      10.00         Green   \n",
              "779                      0                     3      10.00         Green   \n",
              "796                      0                     3      10.00         Green   \n",
              "847                      0                     0      10.00         Green   \n",
              "852                      0                     0       9.33  Bluish-Green   \n",
              "870                      0                     5      10.00         Green   \n",
              "880                      0                     2      10.00         Green   \n",
              "930                      0                     2      10.00    Blue-Green   \n",
              "940                      0                     0      10.00         Green   \n",
              "1022                     0                     0      10.00          None   \n",
              "1063                     0                     3      10.00         Green   \n",
              "1253                     2                    15       8.00         Green   \n",
              "\n",
              "      ...                               Producer          Region  Species  \\\n",
              "258   ...                   Ipanema Agricola S.A  south of minas  Arabica   \n",
              "261   ...                       Ipanema Agricola  south of minas  Arabica   \n",
              "282   ...                    Ipanema Agrícola SA  south of minas  Arabica   \n",
              "296   ...                   Ipanema Agricola S.A  south of minas  Arabica   \n",
              "314   ...                   Ipanema Agricola S.A  south of minas  Arabica   \n",
              "318   ...                       Ipanema Agricola  south of minas  Arabica   \n",
              "335   ...                   Ipanema Agricola S.A  south of minas  Arabica   \n",
              "441   ...                   Ipanema Agricola S.A  south of minas  Arabica   \n",
              "485   ...                    Ipanema Agrícola SA  south of minas  Arabica   \n",
              "497   ...                   Ipanema Agricola S.A  south of minas  Arabica   \n",
              "498   ...                       Ipanema Agricola  south of minas  Arabica   \n",
              "499   ...                       Ipanema Agricola  south of minas  Arabica   \n",
              "533   ...                   Ipanema Agricola S.A  south of minas  Arabica   \n",
              "607   ...                   Ipanema Agricola S.A  south of minas  Arabica   \n",
              "608   ...                       Ipanema Agricola  south of minas  Arabica   \n",
              "653   ...                   Ipanema Agricola S.A  south of minas  Arabica   \n",
              "670   ...                  Nazareth Dias Pereira  carmo de minas  Arabica   \n",
              "708   ...                       Ipanema Agricola  south of minas  Arabica   \n",
              "712   ...                    Ipanema Agrícola SA  south of minas  Arabica   \n",
              "716   ...                    Ipanema Agrícola SA  south of minas  Arabica   \n",
              "741   ...                    Ipanema Agrícola SA  south of minas  Arabica   \n",
              "756   ...                       Ipanema Agricola  south of minas  Arabica   \n",
              "779   ...                       Ipanema Agricola  south of minas  Arabica   \n",
              "796   ...                       Ipanema Agricola  south of minas  Arabica   \n",
              "847   ...                    Ipanema Agrícola SA  south of minas  Arabica   \n",
              "852   ...                  NAZARETH DIAS PEREIRA    sul de minas  Arabica   \n",
              "870   ...                   Ipanema Agricola S.A  south of minas  Arabica   \n",
              "880   ...                    Ipanema Agrícola SA  south of minas  Arabica   \n",
              "930   ...                  Nazareth Dias Pereira    sul de minas  Arabica   \n",
              "940   ...                    Ipanema Agrícola SA  south of minas  Arabica   \n",
              "1022  ...                    Ipanema Agrícola SA  south of minas  Arabica   \n",
              "1063  ...                    Ipanema Agrícola SA  south of minas  Arabica   \n",
              "1253  ...  MARGARITA DE NUYENS Y/O CARLOS NUYENS         oriente  Arabica   \n",
              "\n",
              "     Sweetness Uniformity  Variety altitude_high_meters altitude_low_meters  \\\n",
              "258      10.00      10.00  Bourbon               890.00              890.00   \n",
              "261      10.00      10.00  Bourbon               934.00              934.00   \n",
              "282       9.33      10.00  Bourbon              1200.00             1200.00   \n",
              "296      10.00      10.00  Bourbon               890.00              890.00   \n",
              "314      10.00      10.00  Bourbon               890.00              890.00   \n",
              "318      10.00      10.00  Bourbon               934.00              934.00   \n",
              "335      10.00      10.00  Bourbon               890.00              890.00   \n",
              "441      10.00      10.00  Bourbon               890.00              890.00   \n",
              "485      10.00      10.00  Bourbon              1200.00             1200.00   \n",
              "497      10.00      10.00  Bourbon               890.00              890.00   \n",
              "498      10.00      10.00  Bourbon               894.00              894.00   \n",
              "499      10.00      10.00  Bourbon               872.00              872.00   \n",
              "533      10.00      10.00  Bourbon               890.00              890.00   \n",
              "607      10.00      10.00  Bourbon               890.00              890.00   \n",
              "608      10.00      10.00  Bourbon               934.00              934.00   \n",
              "653      10.00      10.00  Bourbon               890.00              890.00   \n",
              "670      10.00      10.00  Bourbon              1250.00             1250.00   \n",
              "708      10.00      10.00  Bourbon               934.00              934.00   \n",
              "712      10.00      10.00  Bourbon              1268.00             1268.00   \n",
              "716       6.67      10.00  Bourbon              1100.00             1100.00   \n",
              "741      10.00      10.00  Bourbon              1100.00             1100.00   \n",
              "756      10.00      10.00  Bourbon               934.00              934.00   \n",
              "779      10.00      10.00  Bourbon               894.00              894.00   \n",
              "796      10.00      10.00  Bourbon               944.00              944.00   \n",
              "847      10.00      10.00  Bourbon              1100.00             1100.00   \n",
              "852       9.33       9.33  Bourbon              1250.00             1250.00   \n",
              "870      10.00      10.00  Bourbon               890.00              890.00   \n",
              "880      10.00      10.00  Bourbon              1260.00             1260.00   \n",
              "930      10.00      10.00  Bourbon               125.00              125.00   \n",
              "940      10.00      10.00  Bourbon              1100.00             1100.00   \n",
              "1022     10.00      10.00  Bourbon              1100.00             1100.00   \n",
              "1063     10.00      10.00  Bourbon              1200.00             1200.00   \n",
              "1253     10.00      10.00  Bourbon              1310.64             1310.64   \n",
              "\n",
              "     altitude_mean_meters quality_score  \n",
              "258                890.00         83.92  \n",
              "261                934.00         83.92  \n",
              "282               1200.00         83.83  \n",
              "296                890.00         83.75  \n",
              "314                890.00         83.67  \n",
              "318                934.00         83.67  \n",
              "335                890.00         83.58  \n",
              "441                890.00         83.17  \n",
              "485               1200.00         83.08  \n",
              "497                890.00         83.00  \n",
              "498                894.00         83.00  \n",
              "499                872.00         83.00  \n",
              "533                890.00         82.92  \n",
              "607                890.00         82.67  \n",
              "608                934.00         82.67  \n",
              "653                890.00         82.50  \n",
              "670               1250.00         82.50  \n",
              "708                934.00         82.33  \n",
              "712               1268.00         82.33  \n",
              "716               1100.00         82.33  \n",
              "741               1100.00         82.25  \n",
              "756                934.00         82.17  \n",
              "779                894.00         82.08  \n",
              "796                944.00         82.00  \n",
              "847               1100.00         81.83  \n",
              "852               1250.00         81.83  \n",
              "870                890.00         81.67  \n",
              "880               1260.00         81.67  \n",
              "930                125.00         81.50  \n",
              "940               1100.00         81.42  \n",
              "1022              1100.00         80.92  \n",
              "1063              1200.00         80.58  \n",
              "1253              1310.64         77.33  \n",
              "\n",
              "[33 rows x 34 columns]"
            ],
            "text/html": [
              "\n",
              "  <div id=\"df-1657ba6b-cd7e-4974-a2ce-1b25b0eeabf7\" class=\"colab-df-container\">\n",
              "    <div>\n",
              "<style scoped>\n",
              "    .dataframe tbody tr th:only-of-type {\n",
              "        vertical-align: middle;\n",
              "    }\n",
              "\n",
              "    .dataframe tbody tr th {\n",
              "        vertical-align: top;\n",
              "    }\n",
              "\n",
              "    .dataframe thead th {\n",
              "        text-align: right;\n",
              "    }\n",
              "</style>\n",
              "<table border=\"1\" class=\"dataframe\">\n",
              "  <thead>\n",
              "    <tr style=\"text-align: right;\">\n",
              "      <th></th>\n",
              "      <th>Acidity</th>\n",
              "      <th>Aftertaste</th>\n",
              "      <th>Aroma</th>\n",
              "      <th>Bag Weight</th>\n",
              "      <th>Balance</th>\n",
              "      <th>Body</th>\n",
              "      <th>Category.One.Defects</th>\n",
              "      <th>Category.Two.Defects</th>\n",
              "      <th>Clean Cup</th>\n",
              "      <th>Color</th>\n",
              "      <th>...</th>\n",
              "      <th>Producer</th>\n",
              "      <th>Region</th>\n",
              "      <th>Species</th>\n",
              "      <th>Sweetness</th>\n",
              "      <th>Uniformity</th>\n",
              "      <th>Variety</th>\n",
              "      <th>altitude_high_meters</th>\n",
              "      <th>altitude_low_meters</th>\n",
              "      <th>altitude_mean_meters</th>\n",
              "      <th>quality_score</th>\n",
              "    </tr>\n",
              "  </thead>\n",
              "  <tbody>\n",
              "    <tr>\n",
              "      <th>258</th>\n",
              "      <td>7.50</td>\n",
              "      <td>7.58</td>\n",
              "      <td>7.50</td>\n",
              "      <td>60 kg</td>\n",
              "      <td>7.50</td>\n",
              "      <td>7.58</td>\n",
              "      <td>0</td>\n",
              "      <td>3</td>\n",
              "      <td>10.00</td>\n",
              "      <td>Green</td>\n",
              "      <td>...</td>\n",
              "      <td>Ipanema Agricola S.A</td>\n",
              "      <td>south of minas</td>\n",
              "      <td>Arabica</td>\n",
              "      <td>10.00</td>\n",
              "      <td>10.00</td>\n",
              "      <td>Bourbon</td>\n",
              "      <td>890.00</td>\n",
              "      <td>890.00</td>\n",
              "      <td>890.00</td>\n",
              "      <td>83.92</td>\n",
              "    </tr>\n",
              "    <tr>\n",
              "      <th>261</th>\n",
              "      <td>7.75</td>\n",
              "      <td>7.67</td>\n",
              "      <td>7.58</td>\n",
              "      <td>60 kg</td>\n",
              "      <td>7.83</td>\n",
              "      <td>7.58</td>\n",
              "      <td>0</td>\n",
              "      <td>7</td>\n",
              "      <td>10.00</td>\n",
              "      <td>Green</td>\n",
              "      <td>...</td>\n",
              "      <td>Ipanema Agricola</td>\n",
              "      <td>south of minas</td>\n",
              "      <td>Arabica</td>\n",
              "      <td>10.00</td>\n",
              "      <td>10.00</td>\n",
              "      <td>Bourbon</td>\n",
              "      <td>934.00</td>\n",
              "      <td>934.00</td>\n",
              "      <td>934.00</td>\n",
              "      <td>83.92</td>\n",
              "    </tr>\n",
              "    <tr>\n",
              "      <th>282</th>\n",
              "      <td>7.50</td>\n",
              "      <td>7.58</td>\n",
              "      <td>7.67</td>\n",
              "      <td>2 kg</td>\n",
              "      <td>8.17</td>\n",
              "      <td>7.83</td>\n",
              "      <td>0</td>\n",
              "      <td>1</td>\n",
              "      <td>10.00</td>\n",
              "      <td>Green</td>\n",
              "      <td>...</td>\n",
              "      <td>Ipanema Agrícola SA</td>\n",
              "      <td>south of minas</td>\n",
              "      <td>Arabica</td>\n",
              "      <td>9.33</td>\n",
              "      <td>10.00</td>\n",
              "      <td>Bourbon</td>\n",
              "      <td>1200.00</td>\n",
              "      <td>1200.00</td>\n",
              "      <td>1200.00</td>\n",
              "      <td>83.83</td>\n",
              "    </tr>\n",
              "    <tr>\n",
              "      <th>296</th>\n",
              "      <td>7.75</td>\n",
              "      <td>7.58</td>\n",
              "      <td>7.67</td>\n",
              "      <td>60 kg</td>\n",
              "      <td>7.67</td>\n",
              "      <td>7.67</td>\n",
              "      <td>0</td>\n",
              "      <td>5</td>\n",
              "      <td>10.00</td>\n",
              "      <td>Green</td>\n",
              "      <td>...</td>\n",
              "      <td>Ipanema Agricola S.A</td>\n",
              "      <td>south of minas</td>\n",
              "      <td>Arabica</td>\n",
              "      <td>10.00</td>\n",
              "      <td>10.00</td>\n",
              "      <td>Bourbon</td>\n",
              "      <td>890.00</td>\n",
              "      <td>890.00</td>\n",
              "      <td>890.00</td>\n",
              "      <td>83.75</td>\n",
              "    </tr>\n",
              "    <tr>\n",
              "      <th>314</th>\n",
              "      <td>7.67</td>\n",
              "      <td>7.50</td>\n",
              "      <td>7.67</td>\n",
              "      <td>60 kg</td>\n",
              "      <td>7.50</td>\n",
              "      <td>7.67</td>\n",
              "      <td>0</td>\n",
              "      <td>2</td>\n",
              "      <td>10.00</td>\n",
              "      <td>Green</td>\n",
              "      <td>...</td>\n",
              "      <td>Ipanema Agricola S.A</td>\n",
              "      <td>south of minas</td>\n",
              "      <td>Arabica</td>\n",
              "      <td>10.00</td>\n",
              "      <td>10.00</td>\n",
              "      <td>Bourbon</td>\n",
              "      <td>890.00</td>\n",
              "      <td>890.00</td>\n",
              "      <td>890.00</td>\n",
              "      <td>83.67</td>\n",
              "    </tr>\n",
              "    <tr>\n",
              "      <th>318</th>\n",
              "      <td>7.75</td>\n",
              "      <td>7.58</td>\n",
              "      <td>7.58</td>\n",
              "      <td>60 kg</td>\n",
              "      <td>7.58</td>\n",
              "      <td>7.58</td>\n",
              "      <td>0</td>\n",
              "      <td>3</td>\n",
              "      <td>10.00</td>\n",
              "      <td>Green</td>\n",
              "      <td>...</td>\n",
              "      <td>Ipanema Agricola</td>\n",
              "      <td>south of minas</td>\n",
              "      <td>Arabica</td>\n",
              "      <td>10.00</td>\n",
              "      <td>10.00</td>\n",
              "      <td>Bourbon</td>\n",
              "      <td>934.00</td>\n",
              "      <td>934.00</td>\n",
              "      <td>934.00</td>\n",
              "      <td>83.67</td>\n",
              "    </tr>\n",
              "    <tr>\n",
              "      <th>335</th>\n",
              "      <td>7.58</td>\n",
              "      <td>7.58</td>\n",
              "      <td>7.58</td>\n",
              "      <td>60 kg</td>\n",
              "      <td>7.58</td>\n",
              "      <td>7.67</td>\n",
              "      <td>0</td>\n",
              "      <td>5</td>\n",
              "      <td>10.00</td>\n",
              "      <td>Green</td>\n",
              "      <td>...</td>\n",
              "      <td>Ipanema Agricola S.A</td>\n",
              "      <td>south of minas</td>\n",
              "      <td>Arabica</td>\n",
              "      <td>10.00</td>\n",
              "      <td>10.00</td>\n",
              "      <td>Bourbon</td>\n",
              "      <td>890.00</td>\n",
              "      <td>890.00</td>\n",
              "      <td>890.00</td>\n",
              "      <td>83.58</td>\n",
              "    </tr>\n",
              "    <tr>\n",
              "      <th>441</th>\n",
              "      <td>7.58</td>\n",
              "      <td>7.50</td>\n",
              "      <td>7.67</td>\n",
              "      <td>60 kg</td>\n",
              "      <td>7.58</td>\n",
              "      <td>7.67</td>\n",
              "      <td>0</td>\n",
              "      <td>4</td>\n",
              "      <td>10.00</td>\n",
              "      <td>Green</td>\n",
              "      <td>...</td>\n",
              "      <td>Ipanema Agricola S.A</td>\n",
              "      <td>south of minas</td>\n",
              "      <td>Arabica</td>\n",
              "      <td>10.00</td>\n",
              "      <td>10.00</td>\n",
              "      <td>Bourbon</td>\n",
              "      <td>890.00</td>\n",
              "      <td>890.00</td>\n",
              "      <td>890.00</td>\n",
              "      <td>83.17</td>\n",
              "    </tr>\n",
              "    <tr>\n",
              "      <th>485</th>\n",
              "      <td>7.42</td>\n",
              "      <td>7.67</td>\n",
              "      <td>7.58</td>\n",
              "      <td>2 kg</td>\n",
              "      <td>7.50</td>\n",
              "      <td>7.42</td>\n",
              "      <td>0</td>\n",
              "      <td>1</td>\n",
              "      <td>10.00</td>\n",
              "      <td>Green</td>\n",
              "      <td>...</td>\n",
              "      <td>Ipanema Agrícola SA</td>\n",
              "      <td>south of minas</td>\n",
              "      <td>Arabica</td>\n",
              "      <td>10.00</td>\n",
              "      <td>10.00</td>\n",
              "      <td>Bourbon</td>\n",
              "      <td>1200.00</td>\n",
              "      <td>1200.00</td>\n",
              "      <td>1200.00</td>\n",
              "      <td>83.08</td>\n",
              "    </tr>\n",
              "    <tr>\n",
              "      <th>497</th>\n",
              "      <td>7.75</td>\n",
              "      <td>7.50</td>\n",
              "      <td>7.58</td>\n",
              "      <td>60 kg</td>\n",
              "      <td>7.50</td>\n",
              "      <td>7.67</td>\n",
              "      <td>0</td>\n",
              "      <td>4</td>\n",
              "      <td>10.00</td>\n",
              "      <td>Green</td>\n",
              "      <td>...</td>\n",
              "      <td>Ipanema Agricola S.A</td>\n",
              "      <td>south of minas</td>\n",
              "      <td>Arabica</td>\n",
              "      <td>10.00</td>\n",
              "      <td>10.00</td>\n",
              "      <td>Bourbon</td>\n",
              "      <td>890.00</td>\n",
              "      <td>890.00</td>\n",
              "      <td>890.00</td>\n",
              "      <td>83.00</td>\n",
              "    </tr>\n",
              "    <tr>\n",
              "      <th>498</th>\n",
              "      <td>7.67</td>\n",
              "      <td>7.58</td>\n",
              "      <td>7.50</td>\n",
              "      <td>60 kg</td>\n",
              "      <td>7.50</td>\n",
              "      <td>7.58</td>\n",
              "      <td>0</td>\n",
              "      <td>5</td>\n",
              "      <td>10.00</td>\n",
              "      <td>Green</td>\n",
              "      <td>...</td>\n",
              "      <td>Ipanema Agricola</td>\n",
              "      <td>south of minas</td>\n",
              "      <td>Arabica</td>\n",
              "      <td>10.00</td>\n",
              "      <td>10.00</td>\n",
              "      <td>Bourbon</td>\n",
              "      <td>894.00</td>\n",
              "      <td>894.00</td>\n",
              "      <td>894.00</td>\n",
              "      <td>83.00</td>\n",
              "    </tr>\n",
              "    <tr>\n",
              "      <th>499</th>\n",
              "      <td>7.67</td>\n",
              "      <td>7.58</td>\n",
              "      <td>7.50</td>\n",
              "      <td>60 kg</td>\n",
              "      <td>7.42</td>\n",
              "      <td>7.58</td>\n",
              "      <td>0</td>\n",
              "      <td>3</td>\n",
              "      <td>10.00</td>\n",
              "      <td>Bluish-Green</td>\n",
              "      <td>...</td>\n",
              "      <td>Ipanema Agricola</td>\n",
              "      <td>south of minas</td>\n",
              "      <td>Arabica</td>\n",
              "      <td>10.00</td>\n",
              "      <td>10.00</td>\n",
              "      <td>Bourbon</td>\n",
              "      <td>872.00</td>\n",
              "      <td>872.00</td>\n",
              "      <td>872.00</td>\n",
              "      <td>83.00</td>\n",
              "    </tr>\n",
              "    <tr>\n",
              "      <th>533</th>\n",
              "      <td>7.58</td>\n",
              "      <td>7.50</td>\n",
              "      <td>7.67</td>\n",
              "      <td>60 kg</td>\n",
              "      <td>7.50</td>\n",
              "      <td>7.58</td>\n",
              "      <td>0</td>\n",
              "      <td>0</td>\n",
              "      <td>10.00</td>\n",
              "      <td>Green</td>\n",
              "      <td>...</td>\n",
              "      <td>Ipanema Agricola S.A</td>\n",
              "      <td>south of minas</td>\n",
              "      <td>Arabica</td>\n",
              "      <td>10.00</td>\n",
              "      <td>10.00</td>\n",
              "      <td>Bourbon</td>\n",
              "      <td>890.00</td>\n",
              "      <td>890.00</td>\n",
              "      <td>890.00</td>\n",
              "      <td>82.92</td>\n",
              "    </tr>\n",
              "    <tr>\n",
              "      <th>607</th>\n",
              "      <td>7.75</td>\n",
              "      <td>7.25</td>\n",
              "      <td>7.50</td>\n",
              "      <td>60 kg</td>\n",
              "      <td>7.50</td>\n",
              "      <td>7.58</td>\n",
              "      <td>0</td>\n",
              "      <td>4</td>\n",
              "      <td>10.00</td>\n",
              "      <td>Green</td>\n",
              "      <td>...</td>\n",
              "      <td>Ipanema Agricola S.A</td>\n",
              "      <td>south of minas</td>\n",
              "      <td>Arabica</td>\n",
              "      <td>10.00</td>\n",
              "      <td>10.00</td>\n",
              "      <td>Bourbon</td>\n",
              "      <td>890.00</td>\n",
              "      <td>890.00</td>\n",
              "      <td>890.00</td>\n",
              "      <td>82.67</td>\n",
              "    </tr>\n",
              "    <tr>\n",
              "      <th>608</th>\n",
              "      <td>7.67</td>\n",
              "      <td>7.50</td>\n",
              "      <td>7.50</td>\n",
              "      <td>60 kg</td>\n",
              "      <td>7.42</td>\n",
              "      <td>7.50</td>\n",
              "      <td>0</td>\n",
              "      <td>3</td>\n",
              "      <td>10.00</td>\n",
              "      <td>Bluish-Green</td>\n",
              "      <td>...</td>\n",
              "      <td>Ipanema Agricola</td>\n",
              "      <td>south of minas</td>\n",
              "      <td>Arabica</td>\n",
              "      <td>10.00</td>\n",
              "      <td>10.00</td>\n",
              "      <td>Bourbon</td>\n",
              "      <td>934.00</td>\n",
              "      <td>934.00</td>\n",
              "      <td>934.00</td>\n",
              "      <td>82.67</td>\n",
              "    </tr>\n",
              "    <tr>\n",
              "      <th>653</th>\n",
              "      <td>7.50</td>\n",
              "      <td>7.50</td>\n",
              "      <td>7.50</td>\n",
              "      <td>60 kg</td>\n",
              "      <td>7.50</td>\n",
              "      <td>7.58</td>\n",
              "      <td>0</td>\n",
              "      <td>4</td>\n",
              "      <td>10.00</td>\n",
              "      <td>Green</td>\n",
              "      <td>...</td>\n",
              "      <td>Ipanema Agricola S.A</td>\n",
              "      <td>south of minas</td>\n",
              "      <td>Arabica</td>\n",
              "      <td>10.00</td>\n",
              "      <td>10.00</td>\n",
              "      <td>Bourbon</td>\n",
              "      <td>890.00</td>\n",
              "      <td>890.00</td>\n",
              "      <td>890.00</td>\n",
              "      <td>82.50</td>\n",
              "    </tr>\n",
              "    <tr>\n",
              "      <th>670</th>\n",
              "      <td>7.67</td>\n",
              "      <td>7.33</td>\n",
              "      <td>7.67</td>\n",
              "      <td>60 kg</td>\n",
              "      <td>7.50</td>\n",
              "      <td>7.50</td>\n",
              "      <td>0</td>\n",
              "      <td>4</td>\n",
              "      <td>10.00</td>\n",
              "      <td>Blue-Green</td>\n",
              "      <td>...</td>\n",
              "      <td>Nazareth Dias Pereira</td>\n",
              "      <td>carmo de minas</td>\n",
              "      <td>Arabica</td>\n",
              "      <td>10.00</td>\n",
              "      <td>10.00</td>\n",
              "      <td>Bourbon</td>\n",
              "      <td>1250.00</td>\n",
              "      <td>1250.00</td>\n",
              "      <td>1250.00</td>\n",
              "      <td>82.50</td>\n",
              "    </tr>\n",
              "    <tr>\n",
              "      <th>708</th>\n",
              "      <td>7.50</td>\n",
              "      <td>7.42</td>\n",
              "      <td>7.50</td>\n",
              "      <td>60 kg</td>\n",
              "      <td>7.50</td>\n",
              "      <td>7.42</td>\n",
              "      <td>0</td>\n",
              "      <td>3</td>\n",
              "      <td>10.00</td>\n",
              "      <td>Bluish-Green</td>\n",
              "      <td>...</td>\n",
              "      <td>Ipanema Agricola</td>\n",
              "      <td>south of minas</td>\n",
              "      <td>Arabica</td>\n",
              "      <td>10.00</td>\n",
              "      <td>10.00</td>\n",
              "      <td>Bourbon</td>\n",
              "      <td>934.00</td>\n",
              "      <td>934.00</td>\n",
              "      <td>934.00</td>\n",
              "      <td>82.33</td>\n",
              "    </tr>\n",
              "    <tr>\n",
              "      <th>712</th>\n",
              "      <td>8.33</td>\n",
              "      <td>7.25</td>\n",
              "      <td>8.25</td>\n",
              "      <td>2 kg</td>\n",
              "      <td>8.08</td>\n",
              "      <td>8.17</td>\n",
              "      <td>0</td>\n",
              "      <td>0</td>\n",
              "      <td>6.67</td>\n",
              "      <td>Green</td>\n",
              "      <td>...</td>\n",
              "      <td>Ipanema Agrícola SA</td>\n",
              "      <td>south of minas</td>\n",
              "      <td>Arabica</td>\n",
              "      <td>10.00</td>\n",
              "      <td>10.00</td>\n",
              "      <td>Bourbon</td>\n",
              "      <td>1268.00</td>\n",
              "      <td>1268.00</td>\n",
              "      <td>1268.00</td>\n",
              "      <td>82.33</td>\n",
              "    </tr>\n",
              "    <tr>\n",
              "      <th>716</th>\n",
              "      <td>8.08</td>\n",
              "      <td>7.67</td>\n",
              "      <td>7.75</td>\n",
              "      <td>2 kg</td>\n",
              "      <td>8.00</td>\n",
              "      <td>8.08</td>\n",
              "      <td>0</td>\n",
              "      <td>0</td>\n",
              "      <td>10.00</td>\n",
              "      <td>Blue-Green</td>\n",
              "      <td>...</td>\n",
              "      <td>Ipanema Agrícola SA</td>\n",
              "      <td>south of minas</td>\n",
              "      <td>Arabica</td>\n",
              "      <td>6.67</td>\n",
              "      <td>10.00</td>\n",
              "      <td>Bourbon</td>\n",
              "      <td>1100.00</td>\n",
              "      <td>1100.00</td>\n",
              "      <td>1100.00</td>\n",
              "      <td>82.33</td>\n",
              "    </tr>\n",
              "    <tr>\n",
              "      <th>741</th>\n",
              "      <td>7.42</td>\n",
              "      <td>7.42</td>\n",
              "      <td>7.75</td>\n",
              "      <td>2 kg</td>\n",
              "      <td>7.33</td>\n",
              "      <td>7.33</td>\n",
              "      <td>0</td>\n",
              "      <td>0</td>\n",
              "      <td>10.00</td>\n",
              "      <td>Green</td>\n",
              "      <td>...</td>\n",
              "      <td>Ipanema Agrícola SA</td>\n",
              "      <td>south of minas</td>\n",
              "      <td>Arabica</td>\n",
              "      <td>10.00</td>\n",
              "      <td>10.00</td>\n",
              "      <td>Bourbon</td>\n",
              "      <td>1100.00</td>\n",
              "      <td>1100.00</td>\n",
              "      <td>1100.00</td>\n",
              "      <td>82.25</td>\n",
              "    </tr>\n",
              "    <tr>\n",
              "      <th>756</th>\n",
              "      <td>7.42</td>\n",
              "      <td>7.50</td>\n",
              "      <td>7.42</td>\n",
              "      <td>60 kg</td>\n",
              "      <td>7.50</td>\n",
              "      <td>7.42</td>\n",
              "      <td>0</td>\n",
              "      <td>5</td>\n",
              "      <td>10.00</td>\n",
              "      <td>Green</td>\n",
              "      <td>...</td>\n",
              "      <td>Ipanema Agricola</td>\n",
              "      <td>south of minas</td>\n",
              "      <td>Arabica</td>\n",
              "      <td>10.00</td>\n",
              "      <td>10.00</td>\n",
              "      <td>Bourbon</td>\n",
              "      <td>934.00</td>\n",
              "      <td>934.00</td>\n",
              "      <td>934.00</td>\n",
              "      <td>82.17</td>\n",
              "    </tr>\n",
              "    <tr>\n",
              "      <th>779</th>\n",
              "      <td>7.50</td>\n",
              "      <td>7.42</td>\n",
              "      <td>7.42</td>\n",
              "      <td>60 kg</td>\n",
              "      <td>7.25</td>\n",
              "      <td>7.42</td>\n",
              "      <td>0</td>\n",
              "      <td>3</td>\n",
              "      <td>10.00</td>\n",
              "      <td>Green</td>\n",
              "      <td>...</td>\n",
              "      <td>Ipanema Agricola</td>\n",
              "      <td>south of minas</td>\n",
              "      <td>Arabica</td>\n",
              "      <td>10.00</td>\n",
              "      <td>10.00</td>\n",
              "      <td>Bourbon</td>\n",
              "      <td>894.00</td>\n",
              "      <td>894.00</td>\n",
              "      <td>894.00</td>\n",
              "      <td>82.08</td>\n",
              "    </tr>\n",
              "    <tr>\n",
              "      <th>796</th>\n",
              "      <td>7.50</td>\n",
              "      <td>7.42</td>\n",
              "      <td>7.50</td>\n",
              "      <td>60 kg</td>\n",
              "      <td>7.42</td>\n",
              "      <td>7.33</td>\n",
              "      <td>0</td>\n",
              "      <td>3</td>\n",
              "      <td>10.00</td>\n",
              "      <td>Green</td>\n",
              "      <td>...</td>\n",
              "      <td>Ipanema Agricola</td>\n",
              "      <td>south of minas</td>\n",
              "      <td>Arabica</td>\n",
              "      <td>10.00</td>\n",
              "      <td>10.00</td>\n",
              "      <td>Bourbon</td>\n",
              "      <td>944.00</td>\n",
              "      <td>944.00</td>\n",
              "      <td>944.00</td>\n",
              "      <td>82.00</td>\n",
              "    </tr>\n",
              "    <tr>\n",
              "      <th>847</th>\n",
              "      <td>7.17</td>\n",
              "      <td>7.25</td>\n",
              "      <td>7.33</td>\n",
              "      <td>2 kg</td>\n",
              "      <td>7.33</td>\n",
              "      <td>7.83</td>\n",
              "      <td>0</td>\n",
              "      <td>0</td>\n",
              "      <td>10.00</td>\n",
              "      <td>Green</td>\n",
              "      <td>...</td>\n",
              "      <td>Ipanema Agrícola SA</td>\n",
              "      <td>south of minas</td>\n",
              "      <td>Arabica</td>\n",
              "      <td>10.00</td>\n",
              "      <td>10.00</td>\n",
              "      <td>Bourbon</td>\n",
              "      <td>1100.00</td>\n",
              "      <td>1100.00</td>\n",
              "      <td>1100.00</td>\n",
              "      <td>81.83</td>\n",
              "    </tr>\n",
              "    <tr>\n",
              "      <th>852</th>\n",
              "      <td>7.42</td>\n",
              "      <td>7.50</td>\n",
              "      <td>7.75</td>\n",
              "      <td>60 kg</td>\n",
              "      <td>7.75</td>\n",
              "      <td>7.83</td>\n",
              "      <td>0</td>\n",
              "      <td>0</td>\n",
              "      <td>9.33</td>\n",
              "      <td>Bluish-Green</td>\n",
              "      <td>...</td>\n",
              "      <td>NAZARETH DIAS PEREIRA</td>\n",
              "      <td>sul de minas</td>\n",
              "      <td>Arabica</td>\n",
              "      <td>9.33</td>\n",
              "      <td>9.33</td>\n",
              "      <td>Bourbon</td>\n",
              "      <td>1250.00</td>\n",
              "      <td>1250.00</td>\n",
              "      <td>1250.00</td>\n",
              "      <td>81.83</td>\n",
              "    </tr>\n",
              "    <tr>\n",
              "      <th>870</th>\n",
              "      <td>7.50</td>\n",
              "      <td>7.25</td>\n",
              "      <td>7.42</td>\n",
              "      <td>60 kg</td>\n",
              "      <td>7.25</td>\n",
              "      <td>7.50</td>\n",
              "      <td>0</td>\n",
              "      <td>5</td>\n",
              "      <td>10.00</td>\n",
              "      <td>Green</td>\n",
              "      <td>...</td>\n",
              "      <td>Ipanema Agricola S.A</td>\n",
              "      <td>south of minas</td>\n",
              "      <td>Arabica</td>\n",
              "      <td>10.00</td>\n",
              "      <td>10.00</td>\n",
              "      <td>Bourbon</td>\n",
              "      <td>890.00</td>\n",
              "      <td>890.00</td>\n",
              "      <td>890.00</td>\n",
              "      <td>81.67</td>\n",
              "    </tr>\n",
              "    <tr>\n",
              "      <th>880</th>\n",
              "      <td>7.50</td>\n",
              "      <td>7.25</td>\n",
              "      <td>7.25</td>\n",
              "      <td>2 kg</td>\n",
              "      <td>7.42</td>\n",
              "      <td>7.50</td>\n",
              "      <td>0</td>\n",
              "      <td>2</td>\n",
              "      <td>10.00</td>\n",
              "      <td>Green</td>\n",
              "      <td>...</td>\n",
              "      <td>Ipanema Agrícola SA</td>\n",
              "      <td>south of minas</td>\n",
              "      <td>Arabica</td>\n",
              "      <td>10.00</td>\n",
              "      <td>10.00</td>\n",
              "      <td>Bourbon</td>\n",
              "      <td>1260.00</td>\n",
              "      <td>1260.00</td>\n",
              "      <td>1260.00</td>\n",
              "      <td>81.67</td>\n",
              "    </tr>\n",
              "    <tr>\n",
              "      <th>930</th>\n",
              "      <td>7.42</td>\n",
              "      <td>7.17</td>\n",
              "      <td>7.50</td>\n",
              "      <td>1 kg</td>\n",
              "      <td>7.33</td>\n",
              "      <td>7.50</td>\n",
              "      <td>0</td>\n",
              "      <td>2</td>\n",
              "      <td>10.00</td>\n",
              "      <td>Blue-Green</td>\n",
              "      <td>...</td>\n",
              "      <td>Nazareth Dias Pereira</td>\n",
              "      <td>sul de minas</td>\n",
              "      <td>Arabica</td>\n",
              "      <td>10.00</td>\n",
              "      <td>10.00</td>\n",
              "      <td>Bourbon</td>\n",
              "      <td>125.00</td>\n",
              "      <td>125.00</td>\n",
              "      <td>125.00</td>\n",
              "      <td>81.50</td>\n",
              "    </tr>\n",
              "    <tr>\n",
              "      <th>940</th>\n",
              "      <td>7.17</td>\n",
              "      <td>7.42</td>\n",
              "      <td>7.25</td>\n",
              "      <td>2 kg</td>\n",
              "      <td>7.33</td>\n",
              "      <td>7.33</td>\n",
              "      <td>0</td>\n",
              "      <td>0</td>\n",
              "      <td>10.00</td>\n",
              "      <td>Green</td>\n",
              "      <td>...</td>\n",
              "      <td>Ipanema Agrícola SA</td>\n",
              "      <td>south of minas</td>\n",
              "      <td>Arabica</td>\n",
              "      <td>10.00</td>\n",
              "      <td>10.00</td>\n",
              "      <td>Bourbon</td>\n",
              "      <td>1100.00</td>\n",
              "      <td>1100.00</td>\n",
              "      <td>1100.00</td>\n",
              "      <td>81.42</td>\n",
              "    </tr>\n",
              "    <tr>\n",
              "      <th>1022</th>\n",
              "      <td>7.25</td>\n",
              "      <td>7.17</td>\n",
              "      <td>7.17</td>\n",
              "      <td>2 kg</td>\n",
              "      <td>7.33</td>\n",
              "      <td>7.25</td>\n",
              "      <td>0</td>\n",
              "      <td>0</td>\n",
              "      <td>10.00</td>\n",
              "      <td>None</td>\n",
              "      <td>...</td>\n",
              "      <td>Ipanema Agrícola SA</td>\n",
              "      <td>south of minas</td>\n",
              "      <td>Arabica</td>\n",
              "      <td>10.00</td>\n",
              "      <td>10.00</td>\n",
              "      <td>Bourbon</td>\n",
              "      <td>1100.00</td>\n",
              "      <td>1100.00</td>\n",
              "      <td>1100.00</td>\n",
              "      <td>80.92</td>\n",
              "    </tr>\n",
              "    <tr>\n",
              "      <th>1063</th>\n",
              "      <td>7.00</td>\n",
              "      <td>7.33</td>\n",
              "      <td>7.42</td>\n",
              "      <td>2 kg</td>\n",
              "      <td>7.25</td>\n",
              "      <td>7.08</td>\n",
              "      <td>0</td>\n",
              "      <td>3</td>\n",
              "      <td>10.00</td>\n",
              "      <td>Green</td>\n",
              "      <td>...</td>\n",
              "      <td>Ipanema Agrícola SA</td>\n",
              "      <td>south of minas</td>\n",
              "      <td>Arabica</td>\n",
              "      <td>10.00</td>\n",
              "      <td>10.00</td>\n",
              "      <td>Bourbon</td>\n",
              "      <td>1200.00</td>\n",
              "      <td>1200.00</td>\n",
              "      <td>1200.00</td>\n",
              "      <td>80.58</td>\n",
              "    </tr>\n",
              "    <tr>\n",
              "      <th>1253</th>\n",
              "      <td>7.00</td>\n",
              "      <td>6.33</td>\n",
              "      <td>7.08</td>\n",
              "      <td>60 kg</td>\n",
              "      <td>7.00</td>\n",
              "      <td>6.92</td>\n",
              "      <td>2</td>\n",
              "      <td>15</td>\n",
              "      <td>8.00</td>\n",
              "      <td>Green</td>\n",
              "      <td>...</td>\n",
              "      <td>MARGARITA DE NUYENS Y/O CARLOS NUYENS</td>\n",
              "      <td>oriente</td>\n",
              "      <td>Arabica</td>\n",
              "      <td>10.00</td>\n",
              "      <td>10.00</td>\n",
              "      <td>Bourbon</td>\n",
              "      <td>1310.64</td>\n",
              "      <td>1310.64</td>\n",
              "      <td>1310.64</td>\n",
              "      <td>77.33</td>\n",
              "    </tr>\n",
              "  </tbody>\n",
              "</table>\n",
              "<p>33 rows × 34 columns</p>\n",
              "</div>\n",
              "    <div class=\"colab-df-buttons\">\n",
              "\n",
              "  <div class=\"colab-df-container\">\n",
              "    <button class=\"colab-df-convert\" onclick=\"convertToInteractive('df-1657ba6b-cd7e-4974-a2ce-1b25b0eeabf7')\"\n",
              "            title=\"Convert this dataframe to an interactive table.\"\n",
              "            style=\"display:none;\">\n",
              "\n",
              "  <svg xmlns=\"http://www.w3.org/2000/svg\" height=\"24px\" viewBox=\"0 -960 960 960\">\n",
              "    <path d=\"M120-120v-720h720v720H120Zm60-500h600v-160H180v160Zm220 220h160v-160H400v160Zm0 220h160v-160H400v160ZM180-400h160v-160H180v160Zm440 0h160v-160H620v160ZM180-180h160v-160H180v160Zm440 0h160v-160H620v160Z\"/>\n",
              "  </svg>\n",
              "    </button>\n",
              "\n",
              "  <style>\n",
              "    .colab-df-container {\n",
              "      display:flex;\n",
              "      gap: 12px;\n",
              "    }\n",
              "\n",
              "    .colab-df-convert {\n",
              "      background-color: #E8F0FE;\n",
              "      border: none;\n",
              "      border-radius: 50%;\n",
              "      cursor: pointer;\n",
              "      display: none;\n",
              "      fill: #1967D2;\n",
              "      height: 32px;\n",
              "      padding: 0 0 0 0;\n",
              "      width: 32px;\n",
              "    }\n",
              "\n",
              "    .colab-df-convert:hover {\n",
              "      background-color: #E2EBFA;\n",
              "      box-shadow: 0px 1px 2px rgba(60, 64, 67, 0.3), 0px 1px 3px 1px rgba(60, 64, 67, 0.15);\n",
              "      fill: #174EA6;\n",
              "    }\n",
              "\n",
              "    .colab-df-buttons div {\n",
              "      margin-bottom: 4px;\n",
              "    }\n",
              "\n",
              "    [theme=dark] .colab-df-convert {\n",
              "      background-color: #3B4455;\n",
              "      fill: #D2E3FC;\n",
              "    }\n",
              "\n",
              "    [theme=dark] .colab-df-convert:hover {\n",
              "      background-color: #434B5C;\n",
              "      box-shadow: 0px 1px 3px 1px rgba(0, 0, 0, 0.15);\n",
              "      filter: drop-shadow(0px 1px 2px rgba(0, 0, 0, 0.3));\n",
              "      fill: #FFFFFF;\n",
              "    }\n",
              "  </style>\n",
              "\n",
              "    <script>\n",
              "      const buttonEl =\n",
              "        document.querySelector('#df-1657ba6b-cd7e-4974-a2ce-1b25b0eeabf7 button.colab-df-convert');\n",
              "      buttonEl.style.display =\n",
              "        google.colab.kernel.accessAllowed ? 'block' : 'none';\n",
              "\n",
              "      async function convertToInteractive(key) {\n",
              "        const element = document.querySelector('#df-1657ba6b-cd7e-4974-a2ce-1b25b0eeabf7');\n",
              "        const dataTable =\n",
              "          await google.colab.kernel.invokeFunction('convertToInteractive',\n",
              "                                                    [key], {});\n",
              "        if (!dataTable) return;\n",
              "\n",
              "        const docLinkHtml = 'Like what you see? Visit the ' +\n",
              "          '<a target=\"_blank\" href=https://colab.research.google.com/notebooks/data_table.ipynb>data table notebook</a>'\n",
              "          + ' to learn more about interactive tables.';\n",
              "        element.innerHTML = '';\n",
              "        dataTable['output_type'] = 'display_data';\n",
              "        await google.colab.output.renderOutput(dataTable, element);\n",
              "        const docLink = document.createElement('div');\n",
              "        docLink.innerHTML = docLinkHtml;\n",
              "        element.appendChild(docLink);\n",
              "      }\n",
              "    </script>\n",
              "  </div>\n",
              "\n",
              "\n",
              "<div id=\"df-335ff417-a08b-4c7f-a734-6e6c94f9ba0e\">\n",
              "  <button class=\"colab-df-quickchart\" onclick=\"quickchart('df-335ff417-a08b-4c7f-a734-6e6c94f9ba0e')\"\n",
              "            title=\"Suggest charts\"\n",
              "            style=\"display:none;\">\n",
              "\n",
              "<svg xmlns=\"http://www.w3.org/2000/svg\" height=\"24px\"viewBox=\"0 0 24 24\"\n",
              "     width=\"24px\">\n",
              "    <g>\n",
              "        <path d=\"M19 3H5c-1.1 0-2 .9-2 2v14c0 1.1.9 2 2 2h14c1.1 0 2-.9 2-2V5c0-1.1-.9-2-2-2zM9 17H7v-7h2v7zm4 0h-2V7h2v10zm4 0h-2v-4h2v4z\"/>\n",
              "    </g>\n",
              "</svg>\n",
              "  </button>\n",
              "\n",
              "<style>\n",
              "  .colab-df-quickchart {\n",
              "      --bg-color: #E8F0FE;\n",
              "      --fill-color: #1967D2;\n",
              "      --hover-bg-color: #E2EBFA;\n",
              "      --hover-fill-color: #174EA6;\n",
              "      --disabled-fill-color: #AAA;\n",
              "      --disabled-bg-color: #DDD;\n",
              "  }\n",
              "\n",
              "  [theme=dark] .colab-df-quickchart {\n",
              "      --bg-color: #3B4455;\n",
              "      --fill-color: #D2E3FC;\n",
              "      --hover-bg-color: #434B5C;\n",
              "      --hover-fill-color: #FFFFFF;\n",
              "      --disabled-bg-color: #3B4455;\n",
              "      --disabled-fill-color: #666;\n",
              "  }\n",
              "\n",
              "  .colab-df-quickchart {\n",
              "    background-color: var(--bg-color);\n",
              "    border: none;\n",
              "    border-radius: 50%;\n",
              "    cursor: pointer;\n",
              "    display: none;\n",
              "    fill: var(--fill-color);\n",
              "    height: 32px;\n",
              "    padding: 0;\n",
              "    width: 32px;\n",
              "  }\n",
              "\n",
              "  .colab-df-quickchart:hover {\n",
              "    background-color: var(--hover-bg-color);\n",
              "    box-shadow: 0 1px 2px rgba(60, 64, 67, 0.3), 0 1px 3px 1px rgba(60, 64, 67, 0.15);\n",
              "    fill: var(--button-hover-fill-color);\n",
              "  }\n",
              "\n",
              "  .colab-df-quickchart-complete:disabled,\n",
              "  .colab-df-quickchart-complete:disabled:hover {\n",
              "    background-color: var(--disabled-bg-color);\n",
              "    fill: var(--disabled-fill-color);\n",
              "    box-shadow: none;\n",
              "  }\n",
              "\n",
              "  .colab-df-spinner {\n",
              "    border: 2px solid var(--fill-color);\n",
              "    border-color: transparent;\n",
              "    border-bottom-color: var(--fill-color);\n",
              "    animation:\n",
              "      spin 1s steps(1) infinite;\n",
              "  }\n",
              "\n",
              "  @keyframes spin {\n",
              "    0% {\n",
              "      border-color: transparent;\n",
              "      border-bottom-color: var(--fill-color);\n",
              "      border-left-color: var(--fill-color);\n",
              "    }\n",
              "    20% {\n",
              "      border-color: transparent;\n",
              "      border-left-color: var(--fill-color);\n",
              "      border-top-color: var(--fill-color);\n",
              "    }\n",
              "    30% {\n",
              "      border-color: transparent;\n",
              "      border-left-color: var(--fill-color);\n",
              "      border-top-color: var(--fill-color);\n",
              "      border-right-color: var(--fill-color);\n",
              "    }\n",
              "    40% {\n",
              "      border-color: transparent;\n",
              "      border-right-color: var(--fill-color);\n",
              "      border-top-color: var(--fill-color);\n",
              "    }\n",
              "    60% {\n",
              "      border-color: transparent;\n",
              "      border-right-color: var(--fill-color);\n",
              "    }\n",
              "    80% {\n",
              "      border-color: transparent;\n",
              "      border-right-color: var(--fill-color);\n",
              "      border-bottom-color: var(--fill-color);\n",
              "    }\n",
              "    90% {\n",
              "      border-color: transparent;\n",
              "      border-bottom-color: var(--fill-color);\n",
              "    }\n",
              "  }\n",
              "</style>\n",
              "\n",
              "  <script>\n",
              "    async function quickchart(key) {\n",
              "      const quickchartButtonEl =\n",
              "        document.querySelector('#' + key + ' button');\n",
              "      quickchartButtonEl.disabled = true;  // To prevent multiple clicks.\n",
              "      quickchartButtonEl.classList.add('colab-df-spinner');\n",
              "      try {\n",
              "        const charts = await google.colab.kernel.invokeFunction(\n",
              "            'suggestCharts', [key], {});\n",
              "      } catch (error) {\n",
              "        console.error('Error during call to suggestCharts:', error);\n",
              "      }\n",
              "      quickchartButtonEl.classList.remove('colab-df-spinner');\n",
              "      quickchartButtonEl.classList.add('colab-df-quickchart-complete');\n",
              "    }\n",
              "    (() => {\n",
              "      let quickchartButtonEl =\n",
              "        document.querySelector('#df-335ff417-a08b-4c7f-a734-6e6c94f9ba0e button');\n",
              "      quickchartButtonEl.style.display =\n",
              "        google.colab.kernel.accessAllowed ? 'block' : 'none';\n",
              "    })();\n",
              "  </script>\n",
              "</div>\n",
              "\n",
              "    </div>\n",
              "  </div>\n"
            ]
          },
          "metadata": {},
          "execution_count": 135
        }
      ]
    },
    {
      "cell_type": "markdown",
      "metadata": {
        "id": "buTDmnj9RqZn"
      },
      "source": [
        "There are a lot of useful functions in pandas that we do not have enough time to cover, we strongly encourage you to read their documentations for reference.\n",
        "\n",
        "https://pandas.pydata.org/docs/"
      ]
    }
  ]
}